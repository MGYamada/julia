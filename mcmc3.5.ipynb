{
 "cells": [
  {
   "cell_type": "markdown",
   "metadata": {},
   "source": [
    "# MCMC3.5: Jackknife Resampling\n",
    "\n",
    "To estimate the error of observables accurately, it is recommended to use the Jackknife resampling method.\n",
    "\n",
    "## Binning"
   ]
  },
  {
   "cell_type": "code",
   "execution_count": 1,
   "metadata": {},
   "outputs": [
    {
     "data": {
      "text/plain": [
       "measurementflux (generic function with 1 method)"
      ]
     },
     "execution_count": 1,
     "metadata": {},
     "output_type": "execute_result"
    }
   ],
   "source": [
    "using ResumableFunctions\n",
    "using SparseArrays\n",
    "using LinearAlgebra\n",
    "const Jx = 1 / 3 # oppposite sign to Motome's\n",
    "const Jy = 1 / 3\n",
    "const Jz = 1 / 3\n",
    "\"\"\"\n",
    "Metropolis method\n",
    "\"\"\"\n",
    "function Metropolis(βF::Float64, βFnew::Float64)::Bool\n",
    "    βF - βFnew > log(rand())\n",
    "end\n",
    "\"\"\"\n",
    "Generating a honeycomb lattice with an open boundary condition.\n",
    "\"\"\"\n",
    "function openhoneycomb(Lx::Int64, Ly::Int64)::Tuple\n",
    "    N = 2Lx * Ly\n",
    "    nnx = zip(1 : 2 : (N - 1), 2 : 2 : N)\n",
    "    nny = Iterators.flatten((zip((1 + 2i) : 2Lx : (2Lx * (Ly - 1)  + 1 + 2i), 2i : 2Lx : (2Lx * (Ly - 1)  + 2i)) for i in 1 : (Lx - 1)))\n",
    "    nnz = zip(1 : 2 : (N - 1), Iterators.flatten(((2Lx + 2) : 2 : N, 2 : 2 : 2Lx)))\n",
    "    plaquette = Iterators.flatten(zip((Lx * (i - 1) + 1) : (Lx * (i - 1) + Lx - 1), (Lx * (i - 1) + 2) : (Lx * (i - 1) + Lx)) for i in 1 : Ly)\n",
    "    N, nnx, nny, nnz, plaquette\n",
    "end\n",
    "@resumable function measurementflux(method::Function, lattice::Function, β::Float64, Lx::Int64, Ly::Int64)::Float64\n",
    "    N, nnx, nny, nnz, plaquette = lattice(Lx, Ly)\n",
    "    iter = Iterators.flatten((Iterators.product(J, nn) for (J, nn) in [(Jx, nnx), (Jy, nny), (Jz, nnz)]))\n",
    "    h = spzeros(Complex{Float64}, N, N)\n",
    "    for (J, nn) in iter\n",
    "        h[nn[1], nn[2]] = 2.0im * J\n",
    "        h[nn[2], nn[1]] = -2.0im * J\n",
    "    end\n",
    "    NNz = collect(nnz)\n",
    "    Nz = length(NNz)\n",
    "    η = ones(Int64, Nz)\n",
    "    βF = 0.0\n",
    "    hdense = Array(h)\n",
    "    plaq = collect(plaquette)\n",
    "    Np = length(plaq)\n",
    "    while true\n",
    "        for i in 1 : Nz\n",
    "            j = rand(1 : Nz)\n",
    "            hdense[NNz[j][1], NNz[j][2]] = -hdense[NNz[j][1], NNz[j][2]]\n",
    "            hdense[NNz[j][2], NNz[j][1]] = -hdense[NNz[j][2], NNz[j][1]]\n",
    "            ev = eigvals(Hermitian(hdense))\n",
    "            positiveev = Iterators.drop(ev, N >> 1)\n",
    "            βFnew = -sum((log(2.0 * cosh(β * ϵ / 2.0)) for ϵ in positiveev))\n",
    "            if method(βF, βFnew)\n",
    "                η[j] = -η[j]\n",
    "                βF = βFnew\n",
    "            else\n",
    "                hdense[NNz[j][1], NNz[j][2]] = -hdense[NNz[j][1], NNz[j][2]]\n",
    "                hdense[NNz[j][2], NNz[j][1]] = -hdense[NNz[j][2], NNz[j][1]]\n",
    "            end\n",
    "        end\n",
    "        @yield sum((η[k] * η[l] for (k, l) in plaq)) / Np\n",
    "    end\n",
    "end"
   ]
  },
  {
   "cell_type": "markdown",
   "metadata": {},
   "source": [
    "One reason of the error bar is the discreteness of the returned value `flux`."
   ]
  },
  {
   "cell_type": "code",
   "execution_count": 2,
   "metadata": {},
   "outputs": [
    {
     "name": "stdout",
     "output_type": "stream",
     "text": [
      "0.3333333333333333\n",
      "0.16666666666666666\n",
      "0.3333333333333333\n",
      "-0.16666666666666666\n",
      "0.0\n",
      "0.3333333333333333\n",
      "0.0\n",
      "0.3333333333333333\n",
      "0.6666666666666666\n",
      "0.6666666666666666\n"
     ]
    }
   ],
   "source": [
    "mcstep = Iterators.drop(measurementflux(Metropolis, openhoneycomb, 25.0, 4, 4), 10000)\n",
    "foreach(println, Iterators.take(mcstep, 10))"
   ]
  },
  {
   "cell_type": "markdown",
   "metadata": {},
   "source": [
    "We have to flatten these quantized values by binning."
   ]
  },
  {
   "cell_type": "code",
   "execution_count": 3,
   "metadata": {},
   "outputs": [
    {
     "data": {
      "text/plain": [
       "10-element Array{Float64,1}:\n",
       " 0.30949999999999994\n",
       " 0.3198333333333333 \n",
       " 0.31649999999999995\n",
       " 0.30650000000000005\n",
       " 0.29700000000000004\n",
       " 0.311              \n",
       " 0.3136666666666667 \n",
       " 0.3031666666666667 \n",
       " 0.29683333333333334\n",
       " 0.2868333333333333 "
      ]
     },
     "execution_count": 3,
     "metadata": {},
     "output_type": "execute_result"
    }
   ],
   "source": [
    "using Statistics\n",
    "Nsample = 10000\n",
    "Nbin = 10\n",
    "Nbinsize = Nsample ÷ Nbin\n",
    "iter = Iterators.partition(Iterators.take(mcstep, Nsample), Nbinsize)\n",
    "bin = collect(map(mean, iter))"
   ]
  },
  {
   "cell_type": "markdown",
   "metadata": {},
   "source": [
    "Now it works!"
   ]
  },
  {
   "cell_type": "code",
   "execution_count": 4,
   "metadata": {},
   "outputs": [
    {
     "name": "stdout",
     "output_type": "stream",
     "text": [
      "0.3060833333333333 ± 0.0032287529603567287\n"
     ]
    }
   ],
   "source": [
    "m = mean(bin)\n",
    "s = stdm(bin, m) / sqrt(length(bin))\n",
    "println(\"$m ± $s\")"
   ]
  },
  {
   "cell_type": "markdown",
   "metadata": {},
   "source": [
    "`Nbinsize` has to be determined based on the autocorrelation. In order to reduce `Nbin` to get a more acculate result at low temperature, we need to implement some global updating algorithm.\n",
    "\n",
    "## Delete-1 jackknife resampling\n",
    "\n",
    "Delete-1 jackknife resampling is simply implemented in https://github.com/ararslan/Jackknife.jl. However, the function is limited, so I will newly define functions for the jackknife resampling."
   ]
  },
  {
   "cell_type": "code",
   "execution_count": 5,
   "metadata": {},
   "outputs": [
    {
     "data": {
      "text/plain": [
       "stdJ"
      ]
     },
     "execution_count": 5,
     "metadata": {},
     "output_type": "execute_result"
    }
   ],
   "source": [
    "\"\"\"\n",
    "Delete one sample from given samples. before and after are applied before and after taking an expectation value.\n",
    "\"\"\"\n",
    "function leaveoneout(before::Function, after::Function, v::AbstractVector)\n",
    "    ind = eachindex(v)\n",
    "    map(i -> after(mean(map(before, view(v, filter(!isequal(i), ind))))), ind)\n",
    "end\n",
    "\"\"\"\n",
    "Calculate an expectation value by jackknife.\n",
    "\"\"\"\n",
    "meanJ(b::Function, a::Function, v::AbstractVector) = mean(leaveoneout(b, a, v))\n",
    "\"\"\"\n",
    "Calculate an error bar with given mean by jackknife.\n",
    "\"\"\"\n",
    "stdmJ(b::Function, a::Function, v::AbstractVector, m) = stdm(leaveoneout(b, a, v), m, corrected = false) * sqrt(length(v) - 1)\n",
    "\"\"\"\n",
    "Calculate an error bar by jackknife.\n",
    "\"\"\"\n",
    "stdJ(b::Function, a::Function, v::AbstractVector) = stdmJ(b, a, v, meanJ(b, a, v))"
   ]
  },
  {
   "cell_type": "markdown",
   "metadata": {},
   "source": [
    "The functions are based on Statistics.jl and Jackknife.jl, so please see their reference to know how it works. I again use `measurementEf` as a demonstration."
   ]
  },
  {
   "cell_type": "code",
   "execution_count": 6,
   "metadata": {},
   "outputs": [
    {
     "data": {
      "text/plain": [
       "measurementEf (generic function with 1 method)"
      ]
     },
     "execution_count": 6,
     "metadata": {},
     "output_type": "execute_result"
    }
   ],
   "source": [
    "@resumable function measurementEf(method::Function, lattice::Function, β::Float64, Lx::Int64, Ly::Int64)::Vector{Float64}\n",
    "    N, nnx, nny, nnz, plaquette = lattice(Lx, Ly)\n",
    "    iter = Iterators.flatten((Iterators.product(J, nn) for (J, nn) in [(Jx, nnx), (Jy, nny), (Jz, nnz)]))\n",
    "    h = spzeros(Complex{Float64}, N, N)\n",
    "    for (J, nn) in iter\n",
    "        h[nn[1], nn[2]] = 2.0im * J\n",
    "        h[nn[2], nn[1]] = -2.0im * J\n",
    "    end\n",
    "    NNz = collect(nnz)\n",
    "    Nz = length(NNz)\n",
    "    η = ones(Int64, Nz)\n",
    "    βF = 0.0\n",
    "    β₂ = β * 0.5\n",
    "    hdense = Array(h)\n",
    "    ev = zeros(Float64, N)\n",
    "    while true\n",
    "        for i in 1 : Nz\n",
    "            j = rand(1 : Nz)\n",
    "            hdense[NNz[j][1], NNz[j][2]] = -hdense[NNz[j][1], NNz[j][2]]\n",
    "            hdense[NNz[j][2], NNz[j][1]] = -hdense[NNz[j][2], NNz[j][1]]\n",
    "            evnew = eigvals(Hermitian(hdense))\n",
    "            βFnew = -sum(@. log(exp(β₂ * evnew[(N >> 1 + 1) : end]) + exp(-β₂ * evnew[(N >> 1 + 1) : end])))\n",
    "            if method(βF, βFnew)\n",
    "                η[j] = -η[j]\n",
    "                βF = βFnew\n",
    "                ev .= evnew\n",
    "            else\n",
    "                hdense[NNz[j][1], NNz[j][2]] = -hdense[NNz[j][1], NNz[j][2]]\n",
    "                hdense[NNz[j][2], NNz[j][1]] = -hdense[NNz[j][2], NNz[j][1]]\n",
    "            end\n",
    "        end\n",
    "        Ef = -sum(@. ev[(N >> 1 + 1) : end] * tanh(β₂ * ev[(N >> 1 + 1) : end] )) * 0.5\n",
    "        ∂Ef∂β = -sum(@. (ev[(N >> 1 + 1) : end] ^ 2) * (sech(β₂ * ev[(N >> 1 + 1) : end]) ^ 2)) * 0.25\n",
    "        @yield [Ef, ∂Ef∂β]\n",
    "    end\n",
    "end"
   ]
  },
  {
   "cell_type": "markdown",
   "metadata": {},
   "source": [
    "It is ok to first assume the bin size to be 1."
   ]
  },
  {
   "cell_type": "code",
   "execution_count": 7,
   "metadata": {},
   "outputs": [
    {
     "data": {
      "text/plain": [
       "10000-element Array{Array{Float64,1},1}:\n",
       " [-4.20902, -3.10331]\n",
       " [-4.21159, -3.1137] \n",
       " [-4.21045, -3.10931]\n",
       " [-4.21146, -3.11295]\n",
       " [-4.20787, -3.09891]\n",
       " [-4.20798, -3.09948]\n",
       " [-4.20656, -3.09348]\n",
       " [-4.20799, -3.09957]\n",
       " [-4.209, -3.10314]  \n",
       " [-4.20938, -3.10529]\n",
       " [-4.20659, -3.09371]\n",
       " [-4.21146, -3.11295]\n",
       " [-4.21275, -3.11818]\n",
       " ⋮                   \n",
       " [-4.20912, -3.10384]\n",
       " [-4.20914, -3.10392]\n",
       " [-4.21394, -3.12285]\n",
       " [-4.21043, -3.10922]\n",
       " [-4.21266, -3.11772]\n",
       " [-4.20556, -3.09003]\n",
       " [-4.20658, -3.09362]\n",
       " [-4.21043, -3.10922]\n",
       " [-4.20903, -3.10334]\n",
       " [-4.21405, -3.12342]\n",
       " [-4.20917, -3.10416]\n",
       " [-4.20928, -3.10481]"
      ]
     },
     "execution_count": 7,
     "metadata": {},
     "output_type": "execute_result"
    }
   ],
   "source": [
    "const β = 1.0\n",
    "mcstep2 = Iterators.drop(measurementEf(Metropolis, openhoneycomb, β, 4, 4), 10000)\n",
    "iter2 = Iterators.take(mcstep2, Nsample)\n",
    "data = collect(iter2)"
   ]
  },
  {
   "cell_type": "markdown",
   "metadata": {},
   "source": [
    "By setting `after` = `before` = `identity`, `meanJ` and `stdmJ `work in the same way as `mean` and `stdm`, respectively."
   ]
  },
  {
   "cell_type": "code",
   "execution_count": 8,
   "metadata": {},
   "outputs": [
    {
     "name": "stdout",
     "output_type": "stream",
     "text": [
      "Ef = -4.209183350941615 ± 2.107301929003753e-5, ∂Ef∂β = -3.1041772230109714 ± 8.283878730766585e-5\n"
     ]
    }
   ],
   "source": [
    "m2 = meanJ(identity, identity, data)\n",
    "s2 = stdmJ(identity, identity, data, m2)\n",
    "println(\"Ef = $(m2[1]) ± $(s2[1]), ∂Ef∂β = $(m2[2]) ± $(s2[2])\")"
   ]
  },
  {
   "cell_type": "markdown",
   "metadata": {},
   "source": [
    "This agrees with the standard estimation method for the error bars."
   ]
  },
  {
   "cell_type": "code",
   "execution_count": 9,
   "metadata": {},
   "outputs": [
    {
     "data": {
      "text/plain": [
       "2-element Array{Float64,1}:\n",
       " 2.107301929068348e-5\n",
       " 8.283878730819529e-5"
      ]
     },
     "execution_count": 9,
     "metadata": {},
     "output_type": "execute_result"
    }
   ],
   "source": [
    "std(data) / sqrt(length(data))"
   ]
  },
  {
   "cell_type": "markdown",
   "metadata": {},
   "source": [
    "For such mean values, the jackknife resampling is apparently overkill. However, to estimate the error for the values like the specific heat, the jackknife resampling is very effective."
   ]
  },
  {
   "cell_type": "code",
   "execution_count": 10,
   "metadata": {},
   "outputs": [
    {
     "name": "stdout",
     "output_type": "stream",
     "text": [
      "Cv = 3.104181663288264 ± 8.283942216920118e-5\n"
     ]
    }
   ],
   "source": [
    "\"\"\"\n",
    "Function applied before mean to calculate heat capacity.\n",
    "\"\"\"\n",
    "TTCv(v::Vector{Float64}) = [v[1] ^ 2 - v[2], v[1]]\n",
    "\"\"\"\n",
    "Function applied after mean to calculate heat capacity.\n",
    "\"\"\"\n",
    "function Cv(β::Float64)::Function\n",
    "    β² = β ^ 2\n",
    "    meanTTCv::Vector{Float64} -> β² * (meanTTCv[1] - meanTTCv[2] ^ 2)\n",
    "end\n",
    "m3 = meanJ(TTCv, Cv(β), data)\n",
    "s3 = stdmJ(TTCv, Cv(β), data, m3)\n",
    "println(\"Cv = $m3 ± $s3\")"
   ]
  },
  {
   "cell_type": "markdown",
   "metadata": {},
   "source": [
    "## Autocorrelation\n",
    "\n",
    "The simplest way to estimate autocorrelation is by changing the size of binning and estimating its errors by jackknife resampling."
   ]
  },
  {
   "cell_type": "code",
   "execution_count": 11,
   "metadata": {},
   "outputs": [
    {
     "data": {
      "text/plain": [
       "5000-element Array{Array{Float64,1},1}:\n",
       " [-4.21031, -3.1085] \n",
       " [-4.21095, -3.11113]\n",
       " [-4.20793, -3.0992] \n",
       " [-4.20727, -3.09653]\n",
       " [-4.20919, -3.10421]\n",
       " [-4.20903, -3.10333]\n",
       " [-4.21036, -3.1088] \n",
       " [-4.21089, -3.11074]\n",
       " [-4.20851, -3.10144]\n",
       " [-4.20844, -3.10102]\n",
       " [-4.20916, -3.10414]\n",
       " [-4.21278, -3.11839]\n",
       " [-4.21031, -3.10851]\n",
       " ⋮                   \n",
       " [-4.20966, -3.10588]\n",
       " [-4.2092, -3.10432] \n",
       " [-4.20855, -3.10168]\n",
       " [-4.21031, -3.10854]\n",
       " [-4.20844, -3.10108]\n",
       " [-4.21102, -3.1115] \n",
       " [-4.20913, -3.10388]\n",
       " [-4.21219, -3.11603]\n",
       " [-4.20911, -3.10387]\n",
       " [-4.2085, -3.10142] \n",
       " [-4.21154, -3.11338]\n",
       " [-4.20923, -3.10448]"
      ]
     },
     "execution_count": 11,
     "metadata": {},
     "output_type": "execute_result"
    }
   ],
   "source": [
    "binning = Iterators.partition(data, 2)\n",
    "bin2 = mean.(binning)"
   ]
  },
  {
   "cell_type": "code",
   "execution_count": 12,
   "metadata": {},
   "outputs": [
    {
     "name": "stdout",
     "output_type": "stream",
     "text": [
      "Cv = 3.1041794974051182 ± 8.385019353534018e-5\n"
     ]
    }
   ],
   "source": [
    "m4 = meanJ(TTCv, Cv(β), bin2)\n",
    "s4 = stdmJ(TTCv, Cv(β), bin2, m4)\n",
    "println(\"Cv = $m4 ± $s4\")"
   ]
  },
  {
   "cell_type": "markdown",
   "metadata": {},
   "source": [
    "The fact that the binsize does not affect the expectation value (or the errorbar) too much means that the autocorrelation length is about 1 step. Note that at low temperature the binsize strongly affects the expectation value, which means that the binsize must be taken to be large enough. Here I estimate the autocorrelation length by another method."
   ]
  },
  {
   "cell_type": "code",
   "execution_count": 13,
   "metadata": {},
   "outputs": [
    {
     "data": {
      "text/plain": [
       "41-element Array{Float64,1}:\n",
       "  1.0                  \n",
       "  0.012202974151887293 \n",
       "  0.009776170543310888 \n",
       "  0.007150727590217465 \n",
       "  0.000395589294995162 \n",
       " -0.016826661519978664 \n",
       "  0.009420548587773327 \n",
       "  0.015804130580611378 \n",
       " -0.004622283251176312 \n",
       "  0.0025919554738979118\n",
       " -0.015079510610355954 \n",
       " -0.0010452719974011185\n",
       "  0.0024925013897314483\n",
       "  ⋮                    \n",
       " -0.0020773736792928975\n",
       " -0.0021790609156399974\n",
       " -0.01138202236218162  \n",
       "  0.010260051851941515 \n",
       "  0.0021036163103581593\n",
       "  0.017425518572686753 \n",
       "  0.0002287512925417109\n",
       " -0.014409977905247135 \n",
       " -0.0004435549787670428\n",
       "  0.00305473918804639  \n",
       " -0.0008334122687307837\n",
       "  0.001242981033175764 "
      ]
     },
     "execution_count": 13,
     "metadata": {},
     "output_type": "execute_result"
    }
   ],
   "source": [
    "using StatsBase\n",
    "StatsBase.autocor(first.(data))"
   ]
  },
  {
   "cell_type": "markdown",
   "metadata": {},
   "source": [
    "Rapid decay in the autocorrelation function means that the autocorrelation length is less than 1."
   ]
  },
  {
   "cell_type": "markdown",
   "metadata": {},
   "source": [
    "## Bootstrap method\n",
    "\n",
    "~ under construction ~\n",
    "\n",
    "**Exercise**: implement a Bootstrap method."
   ]
  },
  {
   "cell_type": "code",
   "execution_count": null,
   "metadata": {},
   "outputs": [],
   "source": []
  }
 ],
 "metadata": {
  "kernelspec": {
   "display_name": "Julia 1.0.2",
   "language": "julia",
   "name": "julia-1.0"
  },
  "language_info": {
   "file_extension": ".jl",
   "mimetype": "application/julia",
   "name": "julia",
   "version": "1.0.2"
  }
 },
 "nbformat": 4,
 "nbformat_minor": 2
}
