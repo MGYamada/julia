{
 "cells": [
  {
   "cell_type": "markdown",
   "metadata": {},
   "source": [
    "# MCMC6.0: Hubbard Model\n",
    "\n",
    "The algorithm of quantum Monte Carlo (QMC) simulations for the Hubbard model is one of the greatest human wisdoms in physics.\n",
    "\n",
    "## Lazy evaluation\n",
    "\n",
    "Before going on to the real implementation of the Hubbard model QMC, I want to explain something not realted to the Hubbard model. Lazy evaluation is one of the most important techniques in the functional programming, but it is not completely installed in Julia 1.0. I have simulated lazy evaluation or infinite lists by using iterators and generators, but the functionality is still limited.\n",
    "\n",
    "As I discussed in MCMC0.5, map in Julia does not do lazy evaluation, so I define a lazy version."
   ]
  },
  {
   "cell_type": "code",
   "execution_count": 1,
   "metadata": {},
   "outputs": [
    {
     "data": {
      "text/plain": [
       "Base.Generator"
      ]
     },
     "execution_count": 1,
     "metadata": {},
     "output_type": "execute_result"
    }
   ],
   "source": [
    "lazymap = Base.Generator"
   ]
  },
  {
   "cell_type": "code",
   "execution_count": 2,
   "metadata": {},
   "outputs": [
    {
     "data": {
      "text/plain": [
       "5-element Array{Int64,1}:\n",
       "  3\n",
       "  5\n",
       "  7\n",
       "  9\n",
       " 11"
      ]
     },
     "execution_count": 2,
     "metadata": {},
     "output_type": "execute_result"
    }
   ],
   "source": [
    "collect(lazymap(+, 1 : 5, 2 : 6))"
   ]
  },
  {
   "cell_type": "markdown",
   "metadata": {},
   "source": [
    "From now on, we use the following statistical operation instead of Statistics."
   ]
  },
  {
   "cell_type": "code",
   "execution_count": 3,
   "metadata": {},
   "outputs": [
    {
     "data": {
      "text/plain": [
       "meanstd (generic function with 1 method)"
      ]
     },
     "execution_count": 3,
     "metadata": {},
     "output_type": "execute_result"
    }
   ],
   "source": [
    "function meanstd(itr)::Tuple\n",
    "    moment = sum(lazymap(x -> [x, x ^ 2], itr))\n",
    "    n = length(itr)\n",
    "    mean = moment[1] / n\n",
    "    mean, sqrt((moment[2] - (mean ^ 2) * n) / (n - 1))\n",
    "end"
   ]
  },
  {
   "cell_type": "code",
   "execution_count": 4,
   "metadata": {},
   "outputs": [
    {
     "data": {
      "text/plain": [
       "(3.0, 1.5811388300841898)"
      ]
     },
     "execution_count": 4,
     "metadata": {},
     "output_type": "execute_result"
    }
   ],
   "source": [
    "meanstd(1 : 5)"
   ]
  },
  {
   "cell_type": "markdown",
   "metadata": {},
   "source": [
    "In this way, we can completely avoid storing every sample into the memory. Jackknife methods can be rewritten as follows."
   ]
  },
  {
   "cell_type": "code",
   "execution_count": 5,
   "metadata": {},
   "outputs": [
    {
     "data": {
      "text/plain": [
       "4-element Array{Array{Int64,1},1}:\n",
       " [2, 1, 1, 1, 1]\n",
       " [3, 3, 2, 2, 2]\n",
       " [4, 4, 4, 3, 3]\n",
       " [5, 5, 5, 5, 4]"
      ]
     },
     "execution_count": 5,
     "metadata": {},
     "output_type": "execute_result"
    }
   ],
   "source": [
    "using ResumableFunctions\n",
    "@resumable function deleteone(itr::AbstractVector{T})::Vector{T} where T\n",
    "    n = length(itr)\n",
    "    k, old = iterate(itr)\n",
    "    new = old # for the type stability\n",
    "    for i in 1 : (n - 1)\n",
    "        k, new = iterate(itr, old)\n",
    "        @yield [ifelse(j <= i, new, old) for j in 1 : n]\n",
    "        old = new\n",
    "    end\n",
    "end\n",
    "collect(deleteone(1 : 5))"
   ]
  },
  {
   "cell_type": "markdown",
   "metadata": {},
   "source": [
    "This is a very bad code... I think there is a better way using Iterators.filter. Anyway, this works enough well for our purpose. Until this function (deleteone), you should only use lazy functions like lazymap. In this way, the observables will be calculated only when you calculate the mean values for each jackknifed sample. Jackknife means have to be calculated directly from the vector, so you still need an $O(N)$ memory space."
   ]
  },
  {
   "cell_type": "code",
   "execution_count": 6,
   "metadata": {},
   "outputs": [
    {
     "data": {
      "text/plain": [
       "jackknifemeanstd (generic function with 1 method)"
      ]
     },
     "execution_count": 6,
     "metadata": {},
     "output_type": "execute_result"
    }
   ],
   "source": [
    "using Statistics\n",
    "leaveoneout(before::Function, after::Function, itr::AbstractVector) = map(after, mean(deleteone(lazymap(before, itr))))\n",
    "function jackknifemeanstd(b::Function, a::Function, itr::AbstractVector)::Tuple\n",
    "    v = leaveoneout(b, a, itr)\n",
    "    m = mean(v)\n",
    "    s = stdm(v, m, corrected = false) * sqrt(length(itr) - 1)\n",
    "    m, s\n",
    "end"
   ]
  },
  {
   "cell_type": "markdown",
   "metadata": {},
   "source": [
    "In the Kitaev model, lazy evaluation was not so important because there is no reason to store any matrices. However, in the Hubbard model, each state keeps a Green function as an observable, so it is not memory-efficient to yield all the matrices (Green functions) before the statistical operations. In this case, using lazy evaluation must be important."
   ]
  },
  {
   "cell_type": "code",
   "execution_count": null,
   "metadata": {},
   "outputs": [],
   "source": []
  }
 ],
 "metadata": {
  "kernelspec": {
   "display_name": "Julia 1.0.2",
   "language": "julia",
   "name": "julia-1.0"
  },
  "language_info": {
   "file_extension": ".jl",
   "mimetype": "application/julia",
   "name": "julia",
   "version": "1.0.2"
  }
 },
 "nbformat": 4,
 "nbformat_minor": 2
}
