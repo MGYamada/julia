{
 "cells": [
  {
   "cell_type": "markdown",
   "metadata": {},
   "source": [
    "# MCMC5.5: Exact Digonalization in Python\n",
    "\n",
    "This is FYI. I am currently using Python 3.7.1. See also https://github.com/jhauschild/lecture_comp_methods/blob/master/2_exact_diagonalization/sol4_simple_ED.ipynb"
   ]
  },
  {
   "cell_type": "code",
   "execution_count": 1,
   "metadata": {},
   "outputs": [
    {
     "data": {
      "text/plain": [
       "<256x256 sparse matrix of type '<class 'numpy.complex128'>'\n",
       "\twith 1696 stored elements in Compressed Sparse Row format>"
      ]
     },
     "execution_count": 1,
     "metadata": {},
     "output_type": "execute_result"
    }
   ],
   "source": [
    "import numpy as np\n",
    "from scipy import sparse\n",
    "from scipy.sparse.linalg import eigsh\n",
    "from itertools import chain\n",
    "Lx = 2\n",
    "Ly = 2\n",
    "Jx = 1 / 3\n",
    "Jy = 1 / 3\n",
    "Jz = 1 / 3\n",
    "def spinoperators(sigma, i, N):\n",
    "    if i == 0 and N == 1:\n",
    "        return sigma\n",
    "    elif N == 1:\n",
    "        return sparse.csr_matrix(np.eye(2), dtype=complex)\n",
    "    elif i == N - 1:\n",
    "        return sparse.kron(spinoperators(sigma, i, N - 1), sigma, 'csr')\n",
    "    else:\n",
    "        return sparse.kron(spinoperators(sigma, i, N - 1), np.eye(2), 'csr')\n",
    "\n",
    "sigma_x = sparse.csr_matrix(np.array([[0., 1.], [1., 0.]]), dtype=complex)\n",
    "sigma_y = sparse.csr_matrix(np.array([[0., -1.j], [1.j, 0.]]), dtype=complex)\n",
    "sigma_z = sparse.csr_matrix(np.array([[1., 0.], [0., -1.]]), dtype=complex)\n",
    "N = 2 * Lx * Ly\n",
    "nnx = zip(range(0, N - 1, 2), range(1, N, 2))\n",
    "nny = chain.from_iterable(zip(range(2 * i + 2, 2 * Lx * Ly + 2 * i + 2, 2 * Lx), range(2 * i +1, 2 * Lx * Ly  + 2 * i  + 1, 2 * Lx)) for i in range(Lx - 1))\n",
    "nnz = zip(range(0, N - 1, 2), chain(range(2 * Lx + 1, N, 2), range(1, 2 * Lx, 2)))\n",
    "sigma_x_list = [spinoperators(sigma_x, i, N) for i in range(N)]\n",
    "sigma_y_list = [spinoperators(sigma_y, i, N) for i in range(N)]\n",
    "sigma_z_list = [spinoperators(sigma_z, i, N) for i in range(N)]\n",
    "H = sparse.csr_matrix((1 << N, 1 << N), dtype=complex)\n",
    "for (J, nn, sigma_list) in zip([Jx, Jy, Jz], [nnx, nny, nnz], [sigma_x_list, sigma_y_list, sigma_z_list]):\n",
    "    for bond in nn:\n",
    "        H += J * sigma_list[bond[0]] * sigma_list[bond[1]]\n",
    "H"
   ]
  },
  {
   "cell_type": "code",
   "execution_count": 2,
   "metadata": {},
   "outputs": [
    {
     "data": {
      "text/plain": [
       "array([-2.00000000e+00, -2.00000000e+00, -2.00000000e+00, -2.00000000e+00,\n",
       "       -1.70770188e+00, -1.70770188e+00, -1.70770188e+00, -1.70770188e+00,\n",
       "       -1.04103521e+00, -1.04103521e+00, -1.04103521e+00, -1.04103521e+00,\n",
       "       -1.49071198e+00, -1.49071198e+00, -1.49071198e+00, -1.49071198e+00,\n",
       "       -1.49071198e+00, -1.49071198e+00, -1.49071198e+00, -1.49071198e+00,\n",
       "       -1.76323270e+00, -1.76323270e+00, -1.76323270e+00, -1.76323270e+00,\n",
       "       -1.33333333e+00, -1.33333333e+00, -1.33333333e+00, -1.33333333e+00,\n",
       "       -1.33333333e+00, -1.33333333e+00, -1.33333333e+00, -1.76323270e+00,\n",
       "       -1.76323270e+00, -1.76323270e+00, -1.33333333e+00, -1.76323270e+00,\n",
       "       -1.76323270e+00, -1.76323270e+00,  6.66666667e-01,  6.66666667e-01,\n",
       "       -1.76323270e+00, -1.76323270e+00, -1.76323270e+00,  6.66666667e-01,\n",
       "       -1.76323270e+00, -1.76323270e+00,  6.66666667e-01,  9.63664153e-01,\n",
       "        9.63664153e-01, -1.76323270e+00,  6.66666667e-01,  6.66666667e-01,\n",
       "        6.66666667e-01,  6.66666667e-01,  6.66666667e-01,  9.63664153e-01,\n",
       "        9.63664153e-01,  6.66666667e-01,  6.66666667e-01,  6.66666667e-01,\n",
       "        6.08532161e-01,  6.08532161e-01,  6.08532161e-01,  6.08532161e-01,\n",
       "        6.08532161e-01,  6.08532161e-01,  6.08532161e-01,  6.08532161e-01,\n",
       "        1.91036386e-01,  1.91036386e-01,  1.91036386e-01,  1.91036386e-01,\n",
       "        1.91036386e-01,  1.91036386e-01,  1.91036386e-01,  6.08532161e-01,\n",
       "        6.08532161e-01,  6.66666667e-01,  6.66666667e-01,  6.08532161e-01,\n",
       "        6.08532161e-01,  6.66666667e-01,  6.08532161e-01,  6.08532161e-01,\n",
       "        6.08532161e-01,  1.91036386e-01,  1.91036386e-01,  1.91036386e-01,\n",
       "        1.91036386e-01,  1.91036386e-01,  1.91036386e-01,  1.91036386e-01,\n",
       "        1.91036386e-01,  5.41391588e-16, -1.91036386e-01, -1.91036386e-01,\n",
       "       -1.91036386e-01, -1.91036386e-01,  1.75920594e-16,  1.70341031e-16,\n",
       "       -2.83692991e-16, -2.79532644e-16, -1.91036386e-01, -1.91036386e-01,\n",
       "       -1.91036386e-01, -1.91036386e-01, -1.91036386e-01, -1.91036386e-01,\n",
       "       -1.91036386e-01, -1.91036386e-01, -1.91036386e-01, -1.91036386e-01,\n",
       "       -9.63664153e-01, -9.63664153e-01, -9.63664153e-01, -9.63664153e-01,\n",
       "       -9.63664153e-01, -9.63664153e-01, -9.63664153e-01, -9.63664153e-01,\n",
       "       -9.63664153e-01, -9.63664153e-01, -9.63664153e-01, -9.63664153e-01,\n",
       "       -1.91036386e-01, -9.63664153e-01, -9.63664153e-01, -9.63664153e-01,\n",
       "       -9.63664153e-01, -6.08532161e-01, -6.08532161e-01, -6.08532161e-01,\n",
       "       -6.08532161e-01, -6.08532161e-01, -6.08532161e-01, -6.08532161e-01,\n",
       "       -6.08532161e-01, -6.08532161e-01, -6.08532161e-01, -6.08532161e-01,\n",
       "       -6.66666667e-01, -6.66666667e-01, -6.66666667e-01, -6.66666667e-01,\n",
       "       -6.66666667e-01, -6.66666667e-01, -6.66666667e-01, -6.66666667e-01,\n",
       "       -6.66666667e-01, -6.66666667e-01, -6.66666667e-01, -6.66666667e-01,\n",
       "       -6.08532161e-01, -6.08532161e-01, -6.66666667e-01, -6.66666667e-01,\n",
       "       -6.66666667e-01, -6.08532161e-01, -6.08532161e-01, -6.66666667e-01,\n",
       "       -6.08532161e-01,  6.66666667e-01,  6.08532161e-01,  1.91036386e-01,\n",
       "       -1.91036386e-01,  1.53242174e-16, -1.35518491e-16,  4.99707292e-17,\n",
       "       -2.42535285e-17, -1.60689914e-17,  1.92601462e-17, -1.62585888e-17,\n",
       "       -1.63919540e-17,  5.78570021e-18, -2.12561977e-18, -3.13308013e-18,\n",
       "       -9.57788411e-18,  1.23304721e-17, -9.38653203e-18, -2.32468699e-18,\n",
       "       -9.26252322e-18, -9.05599649e-18, -1.05022431e-17, -8.71434275e-18,\n",
       "       -1.01592635e-18,  4.84644649e-18, -4.28055867e-18, -1.15980507e-18,\n",
       "        6.88896442e-18,  8.98544774e-18,  1.06042065e-17,  6.90176356e-18,\n",
       "        9.27728924e-18, -4.07218075e-18,  4.46897258e-18, -2.13082011e-18,\n",
       "        4.67921854e-18,  6.80364185e-19,  2.23802626e-18,  3.43281235e-19])"
      ]
     },
     "execution_count": 2,
     "metadata": {},
     "output_type": "execute_result"
    }
   ],
   "source": [
    "e, v = eigsh(H, k = 200, which = 'SA', return_eigenvectors = True, tol=1e-4)\n",
    "e"
   ]
  },
  {
   "cell_type": "code",
   "execution_count": null,
   "metadata": {},
   "outputs": [],
   "source": []
  }
 ],
 "metadata": {
  "kernelspec": {
   "display_name": "Python 3",
   "language": "python",
   "name": "python3"
  },
  "language_info": {
   "codemirror_mode": {
    "name": "ipython",
    "version": 3
   },
   "file_extension": ".py",
   "mimetype": "text/x-python",
   "name": "python",
   "nbconvert_exporter": "python",
   "pygments_lexer": "ipython3",
   "version": "3.7.1"
  }
 },
 "nbformat": 4,
 "nbformat_minor": 2
}
