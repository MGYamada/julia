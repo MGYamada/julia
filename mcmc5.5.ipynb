{
 "cells": [
  {
   "cell_type": "markdown",
   "metadata": {},
   "source": [
    "# MCMC5.5: Exact Digonalization in Python\n",
    "\n",
    "This is FYI. I am currently using Python 3.7.1. See also https://github.com/jhauschild/lecture_comp_methods/blob/master/2_exact_diagonalization/sol4_simple_ED.ipynb"
   ]
  },
  {
   "cell_type": "code",
   "execution_count": 43,
   "metadata": {},
   "outputs": [
    {
     "data": {
      "text/plain": [
       "[(0, 0), (4, 4), (2, 2), (6, 6)]"
      ]
     },
     "execution_count": 43,
     "metadata": {},
     "output_type": "execute_result"
    }
   ],
   "source": [
    "import numpy as np\n",
    "from scipy import sparse \n",
    "from itertools import chain\n",
    "Lx = 2\n",
    "Ly = 2\n",
    "def spinoperators(sigma, i, N):\n",
    "    if N < 1:\n",
    "        return\n",
    "    elif i == 1 and N == 1:\n",
    "        return sigma\n",
    "    elif N == 1:\n",
    "        return sparse.csr_matrix(np.eye(2))\n",
    "    elif i == N:\n",
    "        return sparse.kron(spinoperators(sigma, i, N - 1), sigma, 'csr')\n",
    "    else:\n",
    "        return sparse.kron(spinoperators(sigma, i, N - 1), np.eye(2), 'csr')\n",
    "\n",
    "sigma_x = sparse.csr_matrix(np.array([[0., 1.], [1., 0.]]))\n",
    "sigma_y = sparse.csr_matrix(np.array([[0., -1.j], [1.j, 0.]]))\n",
    "sigma_z = sparse.csr_matrix(np.array([[1., 0.], [0., -1.]]))\n",
    "N = 2 * Lx * Ly\n",
    "nnx = zip(range(0, N - 1, 2), range(1, N - 2, 2))\n",
    "nny = chain.from_iterable(zip(range(2 * i, 2 * Lx * (Ly - 1)  + 1 + 2 * i, 2 * Lx), range(2 * i, 2 * Lx * (Ly - 1)  + 2 * i + 1, 2 * Lx)) for i in range(Lx))\n",
    "nnz = zip(range(0, N - 1, 2), chain(range(2 * Lx + 1, N, 2), range(1, 2 * Lx, 2)))\n",
    "list(nny) # need correction"
   ]
  },
  {
   "cell_type": "code",
   "execution_count": null,
   "metadata": {},
   "outputs": [],
   "source": []
  }
 ],
 "metadata": {
  "kernelspec": {
   "display_name": "Python 3",
   "language": "python",
   "name": "python3"
  },
  "language_info": {
   "codemirror_mode": {
    "name": "ipython",
    "version": 3
   },
   "file_extension": ".py",
   "mimetype": "text/x-python",
   "name": "python",
   "nbconvert_exporter": "python",
   "pygments_lexer": "ipython3",
   "version": "3.7.1"
  }
 },
 "nbformat": 4,
 "nbformat_minor": 2
}
