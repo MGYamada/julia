{
 "cells": [
  {
   "cell_type": "markdown",
   "metadata": {},
   "source": [
    "# MCMC2.5: Dense and Sparse Matrices\n",
    "\n",
    "This section is not necessarily for Marcov chain Monte Carlo itself, but the use of Sparse matrices is important to speed up quantum Monte Carlo simulations.\n",
    "\n",
    "## Dense matrix\n",
    "\n",
    "To use dense matrices, LinearAlgebra provides wrapper to BLAS/LAPACK."
   ]
  },
  {
   "cell_type": "code",
   "execution_count": 1,
   "metadata": {},
   "outputs": [],
   "source": [
    "using LinearAlgebra"
   ]
  },
  {
   "cell_type": "markdown",
   "metadata": {},
   "source": [
    "I recommend Intel MKL instead of OpenBLAS. You can check whether MKL is used by the following command:"
   ]
  },
  {
   "cell_type": "code",
   "execution_count": 2,
   "metadata": {},
   "outputs": [
    {
     "data": {
      "text/plain": [
       ":mkl"
      ]
     },
     "execution_count": 2,
     "metadata": {},
     "output_type": "execute_result"
    }
   ],
   "source": [
    "BLAS.vendor()"
   ]
  },
  {
   "cell_type": "markdown",
   "metadata": {},
   "source": [
    "1D Array is called Vector."
   ]
  },
  {
   "cell_type": "code",
   "execution_count": 3,
   "metadata": {},
   "outputs": [
    {
     "data": {
      "text/plain": [
       "true"
      ]
     },
     "execution_count": 3,
     "metadata": {},
     "output_type": "execute_result"
    }
   ],
   "source": [
    "Array{Int64, 1} == Vector{Int64}"
   ]
  },
  {
   "cell_type": "markdown",
   "metadata": {},
   "source": [
    "2D Array is called Matrix, which I later call dense matrix."
   ]
  },
  {
   "cell_type": "code",
   "execution_count": 4,
   "metadata": {},
   "outputs": [
    {
     "data": {
      "text/plain": [
       "true"
      ]
     },
     "execution_count": 4,
     "metadata": {},
     "output_type": "execute_result"
    }
   ],
   "source": [
    "Array{Float64, 2} == Matrix{Float64}"
   ]
  },
  {
   "cell_type": "markdown",
   "metadata": {},
   "source": [
    "Matrix and Array of Array are different."
   ]
  },
  {
   "cell_type": "code",
   "execution_count": 5,
   "metadata": {},
   "outputs": [
    {
     "data": {
      "text/plain": [
       "false"
      ]
     },
     "execution_count": 5,
     "metadata": {},
     "output_type": "execute_result"
    }
   ],
   "source": [
    "matrix = [1 2\n",
    "                 3 4]\n",
    "array =[[1, 2], [3, 4]]\n",
    "matrix == array"
   ]
  },
  {
   "cell_type": "markdown",
   "metadata": {},
   "source": [
    "Julia's support on 3-rank tensors is limited, but still we can define and use them."
   ]
  },
  {
   "cell_type": "code",
   "execution_count": 6,
   "metadata": {},
   "outputs": [
    {
     "data": {
      "text/plain": [
       "2×2×2 Array{Float64,3}:\n",
       "[:, :, 1] =\n",
       " 0.0  0.0\n",
       " 0.0  0.0\n",
       "\n",
       "[:, :, 2] =\n",
       " 0.0  0.0\n",
       " 0.0  0.0"
      ]
     },
     "execution_count": 6,
     "metadata": {},
     "output_type": "execute_result"
    }
   ],
   "source": [
    "tensor = zeros(Float64, 2, 2, 2)"
   ]
  },
  {
   "cell_type": "markdown",
   "metadata": {},
   "source": [
    "Be careful, matrices are stored columnwise."
   ]
  },
  {
   "cell_type": "code",
   "execution_count": 7,
   "metadata": {},
   "outputs": [
    {
     "name": "stdout",
     "output_type": "stream",
     "text": [
      "  0.000029 seconds (7 allocations: 78.375 KiB)\n",
      "  0.000284 seconds (7 allocations: 78.375 KiB)\n"
     ]
    }
   ],
   "source": [
    "mat = ones(10000, 10000)\n",
    "mat[:, 1]\n",
    "mat[1, :]\n",
    "@time mat[:, 1];\n",
    "@time mat[1, :];"
   ]
  },
  {
   "cell_type": "markdown",
   "metadata": {},
   "source": [
    "Thus, vertical vectors are more important."
   ]
  },
  {
   "cell_type": "code",
   "execution_count": 8,
   "metadata": {},
   "outputs": [
    {
     "data": {
      "text/plain": [
       "2-element Array{Float64,1}:\n",
       " 17.0\n",
       " 39.0"
      ]
     },
     "execution_count": 8,
     "metadata": {},
     "output_type": "execute_result"
    }
   ],
   "source": [
    "[1.0 2.0; 3.0 4.0] * [5.0; 6.0]"
   ]
  },
  {
   "cell_type": "markdown",
   "metadata": {},
   "source": [
    "## BLAS/LAPACK\n",
    "\n",
    "Dense matrices are not memory-efficient, but support BLAS/LAPACK. The most important BLAS operation in quantum Monte Carlo is rank-1 update (or other finite-rank updates)."
   ]
  },
  {
   "cell_type": "code",
   "execution_count": 9,
   "metadata": {},
   "outputs": [
    {
     "data": {
      "text/plain": [
       "1000×1000 Array{Float64,2}:\n",
       "  0.0691911   -0.0498119   -0.0200318   …  -0.0303933   0.0105963  \n",
       " -0.0161936   -0.0958369   -0.0205014      -0.0922788  -0.065451   \n",
       " -0.102391     0.245369     0.0638286       0.189055    0.035168   \n",
       "  0.138479     0.0810568    0.0743991       0.0888117   0.282094   \n",
       " -0.0505351    0.133361    -0.0470887      -0.0516247  -0.0580868  \n",
       "  0.116394    -0.121279    -0.10785     …  -0.0985322  -0.0131008  \n",
       " -0.0433004    0.095995     0.033792        0.078654    0.21168    \n",
       "  0.117508     0.0370799   -0.00640062     -0.0153427   0.0152453  \n",
       " -0.0142514   -0.041264     0.0830336       0.0454021   0.13451    \n",
       "  0.26838     -0.341683    -0.0353651      -0.0910678   0.000506084\n",
       "  0.0324091   -0.208788     0.268982    …   0.117348    0.354554   \n",
       "  0.0998302   -0.153596    -0.0190494      -0.141255   -0.11843    \n",
       "  0.170124    -0.245297     0.0269175      -0.115945    0.067135   \n",
       "  ⋮                                     ⋱                          \n",
       " -0.0965212    0.56937     -0.00333669      0.272236    0.011572   \n",
       " -0.00700291   0.170942     0.087438        0.152865    0.145584   \n",
       "  0.00208347   0.17365      0.00684039  …   0.0485844  -0.0486557  \n",
       "  0.086247    -0.448992    -0.171249       -0.375433   -0.276439   \n",
       " -0.0283564   -0.249172    -0.0591858      -0.0984255  -0.0896791  \n",
       "  0.071556    -0.00933004   0.0713288       0.0784155   0.0852517  \n",
       "  0.0864285   -0.0872783   -0.0230695      -0.0252233  -0.161534   \n",
       " -0.0605228   -0.0985412    0.0763863   …  -0.0380516  -0.0578395  \n",
       "  0.0805858    0.10984     -0.0722495       0.0178501  -0.00846884 \n",
       " -0.121199     0.0577806    0.0509672       0.0600902  -0.0025344  \n",
       " -0.0487395    0.249124     0.0659302       0.193579    0.247162   \n",
       "  0.0124633    0.248776     0.0514255       0.145921    0.214928   "
      ]
     },
     "execution_count": 9,
     "metadata": {},
     "output_type": "execute_result"
    }
   ],
   "source": [
    "A = rand(Float64, 1000, 1000)\n",
    "Ainv = inv(A)"
   ]
  },
  {
   "cell_type": "markdown",
   "metadata": {},
   "source": [
    "Let's check the Sherman-Morrison formula!\n",
    "$$\\left( A+\\vec{u} \\vec{v}^T \\right)^{-1} = A^{-1} - \\frac{A^{-1} \\vec{u} \\vec{v}^TA^{-1}}{1 + \\vec{v}^T A^{-1} \\vec{u}}$$\n",
    "Of course, the vectors are vertical. I define $B = A+\\vec{u} \\vec{v}^T$"
   ]
  },
  {
   "cell_type": "code",
   "execution_count": 10,
   "metadata": {},
   "outputs": [
    {
     "data": {
      "text/plain": [
       "1000×1000 Array{Float64,2}:\n",
       " 1.0013     0.755043  0.134377  0.326421   …  1.16916   0.240584   1.16068  \n",
       " 1.05762    0.857885  0.306902  1.34071       0.94949   0.964892   1.41136  \n",
       " 0.882821   0.358848  0.989006  0.396482      0.840259  0.705319   0.652684 \n",
       " 0.513364   0.664304  0.427847  0.253148      0.473645  0.0896011  0.509204 \n",
       " 0.256793   0.180063  0.734105  0.341999      0.913645  1.04007    0.270107 \n",
       " 0.604196   1.64484   0.452531  1.22534    …  0.90295   0.57115    0.693225 \n",
       " 0.535188   1.26705   0.794883  0.992575      1.04678   1.08012    0.728796 \n",
       " 0.796058   1.13695   0.280288  1.08852       1.43757   1.08091    0.982656 \n",
       " 0.0997065  1.27707   0.148688  1.02813       0.796905  0.685032   0.681129 \n",
       " 0.394139   0.448353  0.654436  0.563835      1.22279   0.565173   1.14069  \n",
       " 0.679356   0.626496  0.745679  0.951007   …  1.00349   0.283238   0.771503 \n",
       " 0.8081     0.311108  0.528824  0.709133      1.19081   0.717392   1.03397  \n",
       " 0.66027    1.06512   1.10615   0.669822      0.828719  0.366243   1.23709  \n",
       " ⋮                                         ⋱                                \n",
       " 0.576909   1.39785   0.846712  1.29998       1.11254   0.410787   0.573311 \n",
       " 0.850306   0.497592  0.110249  0.0798693     0.917498  0.279714   0.0662545\n",
       " 0.156968   0.655274  0.874887  0.690286   …  1.52083   0.5167     0.511438 \n",
       " 0.358187   0.728424  0.235116  1.01768       0.863707  0.360902   0.525334 \n",
       " 0.29905    0.916377  0.952468  0.259189      0.415829  0.355758   1.13281  \n",
       " 0.211903   1.69795   0.79478   0.850629      1.66365   1.1985     1.04317  \n",
       " 0.292341   1.71497   0.67439   0.727684      1.13877   0.520131   0.600561 \n",
       " 0.559336   0.996298  0.276077  0.480395   …  0.989029  0.74275    1.08745  \n",
       " 0.552275   0.927892  0.220201  1.02401       1.2407    0.535276   1.0774   \n",
       " 0.250909   0.631439  0.634516  1.12207       1.4822    1.20766    0.925696 \n",
       " 0.768622   1.07693   0.544271  0.592123      1.27931   0.89897    0.366363 \n",
       " 0.180267   0.1485    0.969769  0.0633249     0.875882  0.22071    0.433272 "
      ]
     },
     "execution_count": 10,
     "metadata": {},
     "output_type": "execute_result"
    }
   ],
   "source": [
    "u = rand(Float64, 1000)\n",
    "v = rand(Float64, 1000)\n",
    "B = copy(A)\n",
    "BLAS.ger!(1.0, u, v, B)"
   ]
  },
  {
   "cell_type": "markdown",
   "metadata": {},
   "source": [
    "You may need to copy the matrix first because most BLAS operations are destructive. The rank-1 update is a BLAS-2 function, so it is faster than the BLAS-3 function, matrix inversion. That's why we use the Sherman-Morrison formula to calculate $B^{-1}$ when we already know $A^{-1}$."
   ]
  },
  {
   "cell_type": "code",
   "execution_count": 11,
   "metadata": {},
   "outputs": [
    {
     "data": {
      "text/plain": [
       "1000×1000 Array{Float64,2}:\n",
       "  0.0960227   0.00935102  -0.0681975   …  -0.0593046   -0.0430727\n",
       "  0.0215639  -0.0125827   -0.0882801      -0.132963    -0.140974 \n",
       " -0.171141    0.0937765    0.187243        0.263135     0.172684 \n",
       "  0.0823058  -0.0428039    0.175236        0.149339     0.394453 \n",
       " -0.0636245   0.1045      -0.0235918      -0.0375207   -0.0319051\n",
       "  0.151934   -0.0429141   -0.171649    …  -0.136827    -0.084189 \n",
       " -0.0395679   0.104225     0.0270917       0.0746321    0.204214 \n",
       "  0.104964    0.00942087   0.0161171      -0.00182654   0.0403359\n",
       " -0.0040496  -0.0187693    0.0647203       0.0344096    0.114104 \n",
       "  0.318981   -0.230109    -0.126199       -0.145591    -0.100707 \n",
       "  0.0669208  -0.132691     0.20703     …   0.0801617    0.285523 \n",
       "  0.135792   -0.0743008   -0.0836054      -0.180005    -0.190362 \n",
       "  0.224242   -0.125968    -0.0702303      -0.174258    -0.0411129\n",
       "  ⋮                                    ⋱                         \n",
       " -0.242391    0.247731     0.258515        0.429412     0.303343 \n",
       " -0.054948    0.0652247    0.173505        0.204527     0.241485 \n",
       " -0.0352837   0.0912562    0.0739185   …   0.0888479    0.0260868\n",
       "  0.195948   -0.207103    -0.368175       -0.493637    -0.495865 \n",
       "  0.0323326  -0.115354    -0.168129       -0.163818    -0.21107  \n",
       "  0.0592771  -0.0364047    0.0933708       0.0916462    0.109812 \n",
       "  0.0696138  -0.124354     0.00711468     -0.0071053   -0.127901 \n",
       " -0.0677295  -0.114432     0.089323    …  -0.0302863   -0.0434246\n",
       "  0.0514159   0.0455207   -0.0198863       0.0492809    0.0498773\n",
       " -0.133132    0.0314687    0.0723883       0.0729481    0.0213342\n",
       " -0.0938657   0.149622     0.146937        0.242203     0.337424 \n",
       " -0.0194115   0.178493     0.108644        0.180267     0.278684 "
      ]
     },
     "execution_count": 11,
     "metadata": {},
     "output_type": "execute_result"
    }
   ],
   "source": [
    "Binv = copy(Ainv)\n",
    "BLAS.ger!(-1.0 / (1.0 + v' * Ainv * u), Ainv * u, (v' * Ainv)', Binv)"
   ]
  },
  {
   "cell_type": "markdown",
   "metadata": {},
   "source": [
    "Let's check the results."
   ]
  },
  {
   "cell_type": "code",
   "execution_count": 12,
   "metadata": {},
   "outputs": [
    {
     "data": {
      "text/plain": [
       "8.370469552552803e-11"
      ]
     },
     "execution_count": 12,
     "metadata": {},
     "output_type": "execute_result"
    }
   ],
   "source": [
    "norm(B * Binv - I)"
   ]
  },
  {
   "cell_type": "markdown",
   "metadata": {},
   "source": [
    "Iterating rank-1 updates accumulates some error, so sometimes you have to refresh the updated matrix \"from scratch.\" (Be careful because sometimes it is not really from scratch.)\n",
    "\n",
    "As for LAPACK, most Julia functions on linear algebra are just wrappers of LAPACK."
   ]
  },
  {
   "cell_type": "code",
   "execution_count": 13,
   "metadata": {},
   "outputs": [
    {
     "data": {
      "text/plain": [
       "1000-element Array{Complex{Float64},1}:\n",
       "   499.78019448699865 + 0.0im                \n",
       "      5.0857171484726 + 7.7301076568891665im \n",
       "      5.0857171484726 - 7.7301076568891665im \n",
       "       8.810216374705 + 2.745095402305266im  \n",
       "       8.810216374705 - 2.745095402305266im  \n",
       "     8.31511027925789 + 3.881993698781938im  \n",
       "     8.31511027925789 - 3.881993698781938im  \n",
       "     9.06091097564062 + 0.0im                \n",
       "     6.65623621482431 + 6.23676493805189im   \n",
       "     6.65623621482431 - 6.23676493805189im   \n",
       "    -7.33914531048321 + 5.600597922599758im  \n",
       "    -7.33914531048321 - 5.600597922599758im  \n",
       "    3.029489965399616 + 8.659048111050264im  \n",
       "                      ⋮                      \n",
       "  0.17646039832674848 - 1.010775320928246im  \n",
       " -0.11352064550242583 + 0.8946832074761875im \n",
       " -0.11352064550242583 - 0.8946832074761875im \n",
       "   0.0997697610662784 + 0.0im                \n",
       "  0.10510317447086305 + 0.7213562245531321im \n",
       "  0.10510317447086305 - 0.7213562245531321im \n",
       "   0.5784175046400952 + 0.33308244580619695im\n",
       "   0.5784175046400952 - 0.33308244580619695im\n",
       "  -0.3225735872097223 + 0.5977329144843218im \n",
       "  -0.3225735872097223 - 0.5977329144843218im \n",
       "  0.15552340122645014 + 0.469138116119265im  \n",
       "  0.15552340122645014 - 0.469138116119265im  "
      ]
     },
     "execution_count": 13,
     "metadata": {},
     "output_type": "execute_result"
    }
   ],
   "source": [
    "eigvals(A)"
   ]
  },
  {
   "cell_type": "markdown",
   "metadata": {},
   "source": [
    "eigvals is just a wrapper for LAPACK.geevx!, so you can directely call LAPACK.geevx! instead if you wish."
   ]
  },
  {
   "cell_type": "markdown",
   "metadata": {},
   "source": [
    "## Sparse matrix\n",
    "\n",
    "If your program is intensively using sparse matrices, you should use python instead because Julia only supports CSC matrix. Julia's native support for sparse matrices is not strong, so I do not recommend to write a code using multiple types of sparse matrices in Julia."
   ]
  },
  {
   "cell_type": "code",
   "execution_count": 14,
   "metadata": {},
   "outputs": [],
   "source": [
    "using SparseArrays"
   ]
  },
  {
   "cell_type": "markdown",
   "metadata": {},
   "source": [
    "Let's solve a tight-binding model on the 2D square lattice in a poor man's way, i.e. in the real space."
   ]
  },
  {
   "cell_type": "code",
   "execution_count": 15,
   "metadata": {},
   "outputs": [
    {
     "data": {
      "text/plain": [
       "(Tuple{Tuple{Int64,Int64},Tuple{Int64,Int64}}[((1, 1), (2, 1)) ((1, 2), (2, 2)) … ((1, 29), (2, 29)) ((1, 30), (2, 30)); ((2, 1), (3, 1)) ((2, 2), (3, 2)) … ((2, 29), (3, 29)) ((2, 30), (3, 30)); … ; ((29, 1), (30, 1)) ((29, 2), (30, 2)) … ((29, 29), (30, 29)) ((29, 30), (30, 30)); ((30, 1), (1, 1)) ((30, 2), (1, 2)) … ((30, 29), (1, 29)) ((30, 30), (1, 30))], Tuple{Tuple{Int64,Int64},Tuple{Int64,Int64}}[((1, 1), (1, 2)) ((1, 2), (1, 3)) … ((1, 29), (1, 30)) ((1, 30), (1, 1)); ((2, 1), (2, 2)) ((2, 2), (2, 3)) … ((2, 29), (2, 30)) ((2, 30), (2, 1)); … ; ((29, 1), (29, 2)) ((29, 2), (29, 3)) … ((29, 29), (29, 30)) ((29, 30), (29, 1)); ((30, 1), (30, 2)) ((30, 2), (30, 3)) … ((30, 29), (30, 30)) ((30, 30), (30, 1))])"
      ]
     },
     "execution_count": 15,
     "metadata": {},
     "output_type": "execute_result"
    }
   ],
   "source": [
    "const L = 30\n",
    "iter1D = 1 : L\n",
    "nnbondx = zip(Iterators.product(iter1D, iter1D), Iterators.product((mod1(i + 1, L) for i in iter1D), iter1D))\n",
    "nnbondy = zip(Iterators.product(iter1D, iter1D), Iterators.product(iter1D, (mod1(i + 1, L) for i in iter1D)))\n",
    "collect(nnbondx), collect(nnbondy)"
   ]
  },
  {
   "cell_type": "markdown",
   "metadata": {},
   "source": [
    "These iterators will generate the 2D square lattice."
   ]
  },
  {
   "cell_type": "code",
   "execution_count": 16,
   "metadata": {},
   "outputs": [
    {
     "data": {
      "text/plain": [
       "Base.Generator{Base.Iterators.Zip2{Base.Iterators.ProductIterator{Tuple{UnitRange{Int64},UnitRange{Int64}}},Base.Iterators.ProductIterator{Tuple{UnitRange{Int64},Base.Generator{UnitRange{Int64},getfield(Main, Symbol(\"##5#6\"))}}}},typeof(xytoz)}(xytoz, Base.Iterators.Zip2{Base.Iterators.ProductIterator{Tuple{UnitRange{Int64},UnitRange{Int64}}},Base.Iterators.ProductIterator{Tuple{UnitRange{Int64},Base.Generator{UnitRange{Int64},getfield(Main, Symbol(\"##5#6\"))}}}}(Base.Iterators.ProductIterator{Tuple{UnitRange{Int64},UnitRange{Int64}}}((1:30, 1:30)), Base.Iterators.ProductIterator{Tuple{UnitRange{Int64},Base.Generator{UnitRange{Int64},getfield(Main, Symbol(\"##5#6\"))}}}((1:30, Base.Generator{UnitRange{Int64},getfield(Main, Symbol(\"##5#6\"))}(getfield(Main, Symbol(\"##5#6\"))(), 1:30)))))"
      ]
     },
     "execution_count": 16,
     "metadata": {},
     "output_type": "execute_result"
    }
   ],
   "source": [
    "xytoz(nn::Tuple{Tuple{Int64, Int64}, Tuple{Int64, Int64}}) = (nn[1][2] - 1) * L + nn[1][1], (nn[2][2] - 1) * L + nn[2][1]\n",
    "nnx = Base.Generator(xytoz, nnbondx)\n",
    "nny = Base.Generator(xytoz, nnbondy)"
   ]
  },
  {
   "cell_type": "markdown",
   "metadata": {},
   "source": [
    "Base.Generator(f, iter) is the same as (f(x) for x in iter)."
   ]
  },
  {
   "cell_type": "code",
   "execution_count": 17,
   "metadata": {},
   "outputs": [
    {
     "data": {
      "text/plain": [
       "900×900 SparseMatrixCSC{Float64,Int64} with 3600 stored entries:\n",
       "  [2  ,   1]  =  -1.0\n",
       "  [30 ,   1]  =  -1.0\n",
       "  [31 ,   1]  =  -1.0\n",
       "  [871,   1]  =  -1.0\n",
       "  [1  ,   2]  =  -1.0\n",
       "  [3  ,   2]  =  -1.0\n",
       "  [32 ,   2]  =  -1.0\n",
       "  [872,   2]  =  -1.0\n",
       "  [2  ,   3]  =  -1.0\n",
       "  [4  ,   3]  =  -1.0\n",
       "  [33 ,   3]  =  -1.0\n",
       "  [873,   3]  =  -1.0\n",
       "  ⋮\n",
       "  [28 , 898]  =  -1.0\n",
       "  [868, 898]  =  -1.0\n",
       "  [897, 898]  =  -1.0\n",
       "  [899, 898]  =  -1.0\n",
       "  [29 , 899]  =  -1.0\n",
       "  [869, 899]  =  -1.0\n",
       "  [898, 899]  =  -1.0\n",
       "  [900, 899]  =  -1.0\n",
       "  [30 , 900]  =  -1.0\n",
       "  [870, 900]  =  -1.0\n",
       "  [871, 900]  =  -1.0\n",
       "  [899, 900]  =  -1.0"
      ]
     },
     "execution_count": 17,
     "metadata": {},
     "output_type": "execute_result"
    }
   ],
   "source": [
    "N = L ^ 2\n",
    "H = spzeros(Float64, N, N)\n",
    "for (i, j) in nnx\n",
    "    H[i, j] = -1.0\n",
    "    H[j, i] = -1.0\n",
    "end\n",
    "for (i, j) in nny\n",
    "    H[i, j] = -1.0\n",
    "    H[j, i] = -1.0\n",
    "end\n",
    "H"
   ]
  },
  {
   "cell_type": "markdown",
   "metadata": {},
   "source": [
    "Most of the operations for sparse matrices are similar to the ones for dense matrices. However, sparse arrays are more memory-efficient when the components of the matrix is almost zero. Especially, if the matrix is sparse enough, it significantly reduces the matrix muliplication cost from $O(N^3)$ to $O(N)$."
   ]
  },
  {
   "cell_type": "code",
   "execution_count": 20,
   "metadata": {},
   "outputs": [
    {
     "name": "stdout",
     "output_type": "stream",
     "text": [
      "  0.000173 seconds (18 allocations: 268.500 KiB)\n",
      "  0.035650 seconds (6 allocations: 6.180 MiB)\n"
     ]
    }
   ],
   "source": [
    "Hdense = Array(H)\n",
    "H * H\n",
    "Hdense * Hdense\n",
    "@time H * H;\n",
    "@time Hdense * Hdense;"
   ]
  },
  {
   "cell_type": "markdown",
   "metadata": {},
   "source": [
    "eigvals does not support sparse matrices, so the calculation of the whole eigenvalues still costs $O(N^3)$. I will discuss this problem later in MCMC5.0."
   ]
  },
  {
   "cell_type": "code",
   "execution_count": 21,
   "metadata": {},
   "outputs": [
    {
     "data": {
      "text/plain": [
       "900-element Array{Float64,1}:\n",
       " -4.000000000000004 \n",
       " -3.9562952014676074\n",
       " -3.956295201467607 \n",
       " -3.9562952014676056\n",
       " -3.9562952014676043\n",
       " -3.9125904029352245\n",
       " -3.912590402935224 \n",
       " -3.9125904029352214\n",
       " -3.912590402935216 \n",
       " -3.827090915285207 \n",
       " -3.827090915285198 \n",
       " -3.8270909152851953\n",
       " -3.827090915285193 \n",
       "  ⋮                 \n",
       "  3.8270909152851997\n",
       "  3.8270909152852073\n",
       "  3.82709091528521  \n",
       "  3.9125904029352205\n",
       "  3.9125904029352228\n",
       "  3.912590402935223 \n",
       "  3.912590402935234 \n",
       "  3.9562952014676016\n",
       "  3.956295201467605 \n",
       "  3.956295201467612 \n",
       "  3.9562952014676163\n",
       "  3.999999999999999 "
      ]
     },
     "execution_count": 21,
     "metadata": {},
     "output_type": "execute_result"
    }
   ],
   "source": [
    "eigvals(Hdense)"
   ]
  },
  {
   "cell_type": "markdown",
   "metadata": {},
   "source": [
    "For the square (or cubic, etc.) lattice, you can directly begin from a dense matrix. Here's a smart implementation."
   ]
  },
  {
   "cell_type": "code",
   "execution_count": 22,
   "metadata": {},
   "outputs": [
    {
     "data": {
      "text/plain": [
       "900-element Array{Float64,1}:\n",
       " -4.000000000000004 \n",
       " -3.9562952014676074\n",
       " -3.956295201467607 \n",
       " -3.9562952014676056\n",
       " -3.9562952014676043\n",
       " -3.9125904029352245\n",
       " -3.912590402935224 \n",
       " -3.9125904029352214\n",
       " -3.912590402935216 \n",
       " -3.827090915285207 \n",
       " -3.827090915285198 \n",
       " -3.8270909152851953\n",
       " -3.827090915285193 \n",
       "  ⋮                 \n",
       "  3.8270909152851997\n",
       "  3.8270909152852073\n",
       "  3.82709091528521  \n",
       "  3.9125904029352205\n",
       "  3.9125904029352228\n",
       "  3.912590402935223 \n",
       "  3.912590402935234 \n",
       "  3.9562952014676016\n",
       "  3.956295201467605 \n",
       "  3.956295201467612 \n",
       "  3.9562952014676163\n",
       "  3.999999999999999 "
      ]
     },
     "execution_count": 22,
     "metadata": {},
     "output_type": "execute_result"
    }
   ],
   "source": [
    "H4d = zeros(Float64, L, L, L, L)\n",
    "for ((i, j), (k, l)) in nnbondx\n",
    "    H4d[i, j, k, l] = -1.0\n",
    "    H4d[k, l, i, j] = -1.0\n",
    "end\n",
    "for ((i, j), (k, l)) in nnbondy\n",
    "    H4d[i, j, k, l] = -1.0\n",
    "    H4d[k, l, i, j] = -1.0\n",
    "end\n",
    "H2d = reshape(H4d, N, N)\n",
    "eigvals(H2d)"
   ]
  },
  {
   "cell_type": "markdown",
   "metadata": {},
   "source": [
    "## Iterative solvers\n",
    "\n",
    "Iterative solvers, especially conjugate gradient methods are important for hybrid Monte Carlo simulations for lattice gauge theories.\n",
    "\n",
    "~ under construction ~"
   ]
  },
  {
   "cell_type": "code",
   "execution_count": null,
   "metadata": {},
   "outputs": [],
   "source": []
  }
 ],
 "metadata": {
  "kernelspec": {
   "display_name": "Julia 1.0.2",
   "language": "julia",
   "name": "julia-1.0"
  },
  "language_info": {
   "file_extension": ".jl",
   "mimetype": "application/julia",
   "name": "julia",
   "version": "1.0.2"
  }
 },
 "nbformat": 4,
 "nbformat_minor": 2
}
