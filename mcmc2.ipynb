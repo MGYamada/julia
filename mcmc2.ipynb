{
 "cells": [
  {
   "cell_type": "markdown",
   "metadata": {},
   "source": [
    "# MCMC2.0: Iterators, Generators, and Channels\n",
    "\n",
    "Iterators and generators are two important tools in the modern functional programming and Julia implements new \"channels.\" I will show a typical implementation of them for MCMC.\n",
    "\n",
    "## Iterators\n",
    "\n",
    "Iterators are often used to save memories. If we wish to do something to each element of a large list, we do not have to store all the elements between the processes. Iterators return each element one by one, so we can do opearations one by one and each time we can discard old data to save memories. Actually, we already used iterators in usual \"for\" loops."
   ]
  },
  {
   "cell_type": "code",
   "execution_count": 1,
   "metadata": {},
   "outputs": [
    {
     "data": {
      "text/plain": [
       "1:2"
      ]
     },
     "execution_count": 1,
     "metadata": {},
     "output_type": "execute_result"
    }
   ],
   "source": [
    "iter = 1:2"
   ]
  },
  {
   "cell_type": "markdown",
   "metadata": {},
   "source": [
    "This is already iterator counting from 1 to 2."
   ]
  },
  {
   "cell_type": "code",
   "execution_count": 2,
   "metadata": {},
   "outputs": [
    {
     "data": {
      "text/plain": [
       "(1, 1)"
      ]
     },
     "execution_count": 2,
     "metadata": {},
     "output_type": "execute_result"
    }
   ],
   "source": [
    "element, state = iterate(iter)"
   ]
  },
  {
   "cell_type": "markdown",
   "metadata": {},
   "source": [
    "This is the initial state of the iterator \"1:2\"."
   ]
  },
  {
   "cell_type": "code",
   "execution_count": 3,
   "metadata": {},
   "outputs": [
    {
     "data": {
      "text/plain": [
       "(2, 2)"
      ]
     },
     "execution_count": 3,
     "metadata": {},
     "output_type": "execute_result"
    }
   ],
   "source": [
    "element, state = iterate(iter, state)"
   ]
  },
  {
   "cell_type": "markdown",
   "metadata": {},
   "source": [
    "These are the next item and the next state."
   ]
  },
  {
   "cell_type": "code",
   "execution_count": 4,
   "metadata": {},
   "outputs": [
    {
     "data": {
      "text/plain": [
       "true"
      ]
     },
     "execution_count": 4,
     "metadata": {},
     "output_type": "execute_result"
    }
   ],
   "source": [
    "result = iterate(iter, state)\n",
    "result == nothing"
   ]
  },
  {
   "cell_type": "markdown",
   "metadata": {},
   "source": [
    "If there is nothing to iterate, they return nothing."
   ]
  },
  {
   "cell_type": "code",
   "execution_count": 5,
   "metadata": {},
   "outputs": [
    {
     "name": "stdout",
     "output_type": "stream",
     "text": [
      "1\n",
      "2\n",
      "3\n",
      "4\n",
      "5\n"
     ]
    }
   ],
   "source": [
    "iter = 1:5\n",
    "for i in iter\n",
    "    println(i)\n",
    "end"
   ]
  },
  {
   "cell_type": "markdown",
   "metadata": {},
   "source": [
    "This is the same as follow:"
   ]
  },
  {
   "cell_type": "code",
   "execution_count": 6,
   "metadata": {},
   "outputs": [
    {
     "name": "stdout",
     "output_type": "stream",
     "text": [
      "1\n",
      "2\n",
      "3\n",
      "4\n",
      "5\n"
     ]
    }
   ],
   "source": [
    "iter_result = iterate(iter)\n",
    "while iter_result !== nothing\n",
    "    (i, state) = iter_result\n",
    "    println(i)\n",
    "    iter_result = iterate(iter, state)\n",
    "end"
   ]
  },
  {
   "cell_type": "markdown",
   "metadata": {},
   "source": [
    "If we use an iterator instead of a list, we do not need to store the whole list anymore."
   ]
  },
  {
   "cell_type": "code",
   "execution_count": 7,
   "metadata": {},
   "outputs": [
    {
     "name": "stdout",
     "output_type": "stream",
     "text": [
      "1\n",
      "4\n",
      "9\n",
      "16\n",
      "25\n"
     ]
    }
   ],
   "source": [
    "list = collect(iter)\n",
    "for i in 1:length(list)\n",
    "    println(list[i] ^ 2)\n",
    "end"
   ]
  },
  {
   "cell_type": "markdown",
   "metadata": {},
   "source": [
    "This is meaningless and should be rewritten as:"
   ]
  },
  {
   "cell_type": "code",
   "execution_count": 8,
   "metadata": {},
   "outputs": [
    {
     "name": "stdout",
     "output_type": "stream",
     "text": [
      "1\n",
      "4\n",
      "9\n",
      "16\n",
      "25\n"
     ]
    }
   ],
   "source": [
    "for i in iter\n",
    "    println(i ^ 2)\n",
    "end"
   ]
  },
  {
   "cell_type": "markdown",
   "metadata": {},
   "source": [
    "In this way, we can (trivially) avoid allocating a memory for the list. Or this works if the memory does not matter:"
   ]
  },
  {
   "cell_type": "code",
   "execution_count": 9,
   "metadata": {},
   "outputs": [
    {
     "name": "stdout",
     "output_type": "stream",
     "text": [
      "1\n",
      "4\n",
      "9\n",
      "16\n",
      "25\n"
     ]
    }
   ],
   "source": [
    "for i in list\n",
    "    println(i ^ 2)\n",
    "end"
   ]
  },
  {
   "cell_type": "markdown",
   "metadata": {},
   "source": [
    "## Generator 1 (generator expression)\n",
    "\n",
    "An iterator is most useful when combined with a generator. We generally call something creating an iterator a generator. Generators in general include a generator expression, a generator function, etc. Julia supports a generator expression as follows:"
   ]
  },
  {
   "cell_type": "code",
   "execution_count": 10,
   "metadata": {},
   "outputs": [
    {
     "data": {
      "text/plain": [
       "Base.Generator{UnitRange{Int64},getfield(Main, Symbol(\"##3#4\"))}(getfield(Main, Symbol(\"##3#4\"))(), 1:5)"
      ]
     },
     "execution_count": 10,
     "metadata": {},
     "output_type": "execute_result"
    }
   ],
   "source": [
    "gene = (x^2 for x in 1:5)"
   ]
  },
  {
   "cell_type": "markdown",
   "metadata": {},
   "source": [
    "This is very similar to a list comprehension:"
   ]
  },
  {
   "cell_type": "code",
   "execution_count": 11,
   "metadata": {},
   "outputs": [
    {
     "data": {
      "text/plain": [
       "5-element Array{Int64,1}:\n",
       "  1\n",
       "  4\n",
       "  9\n",
       " 16\n",
       " 25"
      ]
     },
     "execution_count": 11,
     "metadata": {},
     "output_type": "execute_result"
    }
   ],
   "source": [
    "list = [x^2 for x in 1:5]"
   ]
  },
  {
   "cell_type": "markdown",
   "metadata": {},
   "source": [
    "The list comprehension will allocate a memory for the whole list. The generator will save your memory."
   ]
  },
  {
   "cell_type": "code",
   "execution_count": 12,
   "metadata": {},
   "outputs": [
    {
     "name": "stdout",
     "output_type": "stream",
     "text": [
      "1\n",
      "4\n",
      "9\n",
      "16\n",
      "25\n"
     ]
    }
   ],
   "source": [
    "for i in gene\n",
    "    println(i)\n",
    "end"
   ]
  },
  {
   "cell_type": "markdown",
   "metadata": {},
   "source": [
    "## Generator 2 (generator function = resumable function)\n",
    "\n",
    "An easier, simpler, and most useful way to create an iterator/generator is a generator function, and Python and most modern language support this type of functions. Julia does not natively support Python-type generator functions, but simply you can call ResumableFunctions.jl. This is the fastest way to reproduce the behavior of generator functions."
   ]
  },
  {
   "cell_type": "code",
   "execution_count": 13,
   "metadata": {},
   "outputs": [
    {
     "data": {
      "text/plain": [
       "Ising (generic function with 1 method)"
      ]
     },
     "execution_count": 13,
     "metadata": {},
     "output_type": "execute_result"
    }
   ],
   "source": [
    "using ResumableFunctions\n",
    "@resumable function Ising()::Vector{Int64}\n",
    "    N = 8\n",
    "    σ = ones(Int64, N)\n",
    "    β = 1.0\n",
    "    while true\n",
    "        for i in 1 : 1000\n",
    "            j = rand(1 : N)\n",
    "            ΔβE = 2β * σ[j] * (σ[mod1(j + 1, N)] + σ[mod1(j - 1, N)])\n",
    "            -ΔβE > log(rand()) && (σ[j] = -σ[j])\n",
    "        end\n",
    "        @yield σ\n",
    "    end\n",
    "end"
   ]
  },
  {
   "cell_type": "markdown",
   "metadata": {},
   "source": [
    "With @resumable macro, you can define a resumable function. This function does not have \"return,\" but yield what you want at @yield points. This function directely returns an iterater, i.e. a function iterate(iter) is already defined when we call iter = Ising(). Then, this iterater gives you the \"yield\" repeatedly each time you reached @yield point."
   ]
  },
  {
   "cell_type": "code",
   "execution_count": 14,
   "metadata": {},
   "outputs": [
    {
     "data": {
      "text/plain": [
       "8-element Array{Int64,1}:\n",
       " 1\n",
       " 1\n",
       " 1\n",
       " 1\n",
       " 1\n",
       " 1\n",
       " 1\n",
       " 1"
      ]
     },
     "execution_count": 14,
     "metadata": {},
     "output_type": "execute_result"
    }
   ],
   "source": [
    "iter = Ising()\n",
    "iter()"
   ]
  },
  {
   "cell_type": "code",
   "execution_count": 15,
   "metadata": {},
   "outputs": [
    {
     "name": "stdout",
     "output_type": "stream",
     "text": [
      "[1, 1, 1, 1, 1, 1, 1, -1]\n",
      "[-1, -1, -1, 1, 1, 1, 1, 1]\n",
      "[1, 1, 1, 1, 1, 1, 1, 1]\n",
      "[-1, -1, -1, -1, 1, 1, 1, 1]\n",
      "[-1, -1, 1, 1, 1, -1, -1, -1]\n",
      "[1, 1, -1, -1, -1, -1, -1, 1]\n",
      "[-1, -1, -1, -1, -1, -1, -1, -1]\n",
      "[-1, -1, -1, -1, -1, -1, -1, -1]\n",
      "[1, -1, -1, -1, -1, -1, -1, 1]\n",
      "[1, -1, 1, 1, 1, 1, 1, 1]\n"
     ]
    }
   ],
   "source": [
    "for i in 1 : 10\n",
    "    println(iter())\n",
    "end"
   ]
  },
  {
   "cell_type": "markdown",
   "metadata": {},
   "source": [
    "ResummableFunctions are very fast and memory-efficient because the macro @resummable will be rewrited to a normal iterator directly before the JIT compilation."
   ]
  },
  {
   "cell_type": "markdown",
   "metadata": {},
   "source": [
    "## Channels\n",
    "\n",
    "Instead of a generator function, Julia natively supports Channel (or Task) for a parallel computing. Especially, Channel is a stronger and more general tool to create an iterator from the function. This is a generalized concept of a generator function, but in most cases ResumableFunctions.jl is faster and memory-efficient, so you do not have to use Channel as the first choice."
   ]
  },
  {
   "cell_type": "code",
   "execution_count": 16,
   "metadata": {},
   "outputs": [
    {
     "data": {
      "text/plain": [
       "gibbs (generic function with 1 method)"
      ]
     },
     "execution_count": 16,
     "metadata": {},
     "output_type": "execute_result"
    }
   ],
   "source": [
    "using Distributions\n",
    "function gibbs(a::Float64, b::Float64, c::Float64)::Channel\n",
    "    Channel(ctype = Tuple{Float64,Float64}) do channel::Channel{Tuple{Float64,Float64}}\n",
    "        N = 10\n",
    "        x = 0.0\n",
    "        y = 0.0\n",
    "        put!(channel, (x, y))\n",
    "        for i in 1:N\n",
    "            x = rand(Normal(b / a * y, 1 / sqrt(a)))\n",
    "            y = rand(Normal(b / c * x, 1 / sqrt(c)))\n",
    "            put!(channel, (x, y))\n",
    "        end\n",
    "    end\n",
    "end"
   ]
  },
  {
   "cell_type": "code",
   "execution_count": 17,
   "metadata": {},
   "outputs": [
    {
     "name": "stdout",
     "output_type": "stream",
     "text": [
      "(0.0, 0.0)\n",
      "(-1.0399885389308632, -1.6164806839333994)\n",
      "(-0.9949130119206823, -1.9147839340019654)\n",
      "(-1.1765261847515704, -1.6005599236338273)\n",
      "(-2.051057634587243, -0.283525649037659)\n",
      "(-0.44240025467506383, 0.3473966627421038)\n",
      "(0.5265036007292077, 0.48660770219861815)\n",
      "(0.06905272227480258, 1.3758496215366018)\n",
      "(2.4289343704402873, 3.0586151423822523)\n",
      "(2.986602225320036, 3.4436096907510882)\n",
      "(3.4115650173257444, 0.8691222929471123)\n"
     ]
    }
   ],
   "source": [
    "for z in gibbs(1.0, 0.8, 1.0)\n",
    "    println(z)\n",
    "end"
   ]
  },
  {
   "cell_type": "markdown",
   "metadata": {},
   "source": [
    "This code is acceptable if the number of tasks is just one."
   ]
  },
  {
   "cell_type": "markdown",
   "metadata": {},
   "source": [
    "~ under construction ~"
   ]
  },
  {
   "cell_type": "markdown",
   "metadata": {},
   "source": [
    "The difference bewteen Channels and ResumableFunctions lies in how they compile the code, and the JIT compiler works better in the case of ResumableFunctions. Check: https://white.ucc.asn.au/2017/11/18/Lazy-Sequences-in-Julia.html"
   ]
  },
  {
   "cell_type": "code",
   "execution_count": null,
   "metadata": {},
   "outputs": [],
   "source": []
  }
 ],
 "metadata": {
  "kernelspec": {
   "display_name": "Julia 1.0.2",
   "language": "julia",
   "name": "julia-1.0"
  },
  "language_info": {
   "file_extension": ".jl",
   "mimetype": "application/julia",
   "name": "julia",
   "version": "1.0.2"
  }
 },
 "nbformat": 4,
 "nbformat_minor": 2
}
