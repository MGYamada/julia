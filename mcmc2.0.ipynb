{
 "cells": [
  {
   "cell_type": "markdown",
   "metadata": {},
   "source": [
    "# MCMC2.0: Iterators, Generators, and Channels\n",
    "\n",
    "Iterators and generators are two important tools in the modern functional programming and Julia implements new \"channels.\" I will show a typical implementation of them for MCMC.\n",
    "\n",
    "## Iterators\n",
    "\n",
    "Iterators are often used to save memories. If we wish to do something to each element of a large list, we do not have to store all the elements between the processes. Iterators return each element one by one, so we can do opearations one by one and each time we can discard old data to save memories. Actually, we already used iterators in usual \"for\" loops."
   ]
  },
  {
   "cell_type": "code",
   "execution_count": 1,
   "metadata": {},
   "outputs": [
    {
     "data": {
      "text/plain": [
       "1:2"
      ]
     },
     "execution_count": 1,
     "metadata": {},
     "output_type": "execute_result"
    }
   ],
   "source": [
    "iter = 1 : 2"
   ]
  },
  {
   "cell_type": "markdown",
   "metadata": {},
   "source": [
    "This is already iterator counting from 1 to 2."
   ]
  },
  {
   "cell_type": "code",
   "execution_count": 2,
   "metadata": {},
   "outputs": [
    {
     "data": {
      "text/plain": [
       "(1, 1)"
      ]
     },
     "execution_count": 2,
     "metadata": {},
     "output_type": "execute_result"
    }
   ],
   "source": [
    "element, state = iterate(iter)"
   ]
  },
  {
   "cell_type": "markdown",
   "metadata": {},
   "source": [
    "This is the initial state of the iterator \"1:2\"."
   ]
  },
  {
   "cell_type": "code",
   "execution_count": 3,
   "metadata": {},
   "outputs": [
    {
     "data": {
      "text/plain": [
       "(2, 2)"
      ]
     },
     "execution_count": 3,
     "metadata": {},
     "output_type": "execute_result"
    }
   ],
   "source": [
    "element, state = iterate(iter, state)"
   ]
  },
  {
   "cell_type": "markdown",
   "metadata": {},
   "source": [
    "These are the next item and the next state."
   ]
  },
  {
   "cell_type": "code",
   "execution_count": 4,
   "metadata": {},
   "outputs": [
    {
     "data": {
      "text/plain": [
       "true"
      ]
     },
     "execution_count": 4,
     "metadata": {},
     "output_type": "execute_result"
    }
   ],
   "source": [
    "result = iterate(iter, state)\n",
    "result == nothing"
   ]
  },
  {
   "cell_type": "markdown",
   "metadata": {},
   "source": [
    "If there is nothing to iterate, they return nothing."
   ]
  },
  {
   "cell_type": "code",
   "execution_count": 5,
   "metadata": {},
   "outputs": [
    {
     "name": "stdout",
     "output_type": "stream",
     "text": [
      "1\n",
      "2\n",
      "3\n",
      "4\n",
      "5\n"
     ]
    }
   ],
   "source": [
    "iter = 1 : 5\n",
    "for i in iter\n",
    "    println(i)\n",
    "end"
   ]
  },
  {
   "cell_type": "markdown",
   "metadata": {},
   "source": [
    "This is the same as follow:"
   ]
  },
  {
   "cell_type": "code",
   "execution_count": 6,
   "metadata": {},
   "outputs": [
    {
     "name": "stdout",
     "output_type": "stream",
     "text": [
      "1\n",
      "2\n",
      "3\n",
      "4\n",
      "5\n"
     ]
    }
   ],
   "source": [
    "iter_result = iterate(iter)\n",
    "while iter_result !== nothing\n",
    "    (i, state) = iter_result\n",
    "    println(i)\n",
    "    iter_result = iterate(iter, state)\n",
    "end"
   ]
  },
  {
   "cell_type": "markdown",
   "metadata": {},
   "source": [
    "If we use an iterator instead of a list, we do not need to store the whole list anymore."
   ]
  },
  {
   "cell_type": "code",
   "execution_count": 7,
   "metadata": {},
   "outputs": [
    {
     "name": "stdout",
     "output_type": "stream",
     "text": [
      "1\n",
      "4\n",
      "9\n",
      "16\n",
      "25\n"
     ]
    }
   ],
   "source": [
    "list = collect(iter)\n",
    "for i in 1 : length(list)\n",
    "    println(list[i] ^ 2)\n",
    "end"
   ]
  },
  {
   "cell_type": "markdown",
   "metadata": {},
   "source": [
    "This is meaningless and should be rewritten as:"
   ]
  },
  {
   "cell_type": "code",
   "execution_count": 8,
   "metadata": {},
   "outputs": [
    {
     "name": "stdout",
     "output_type": "stream",
     "text": [
      "1\n",
      "4\n",
      "9\n",
      "16\n",
      "25\n"
     ]
    }
   ],
   "source": [
    "for i in iter\n",
    "    println(i ^ 2)\n",
    "end"
   ]
  },
  {
   "cell_type": "markdown",
   "metadata": {},
   "source": [
    "In this way, we can (trivially) avoid allocating a memory for the list. Or this works if the memory does not matter:"
   ]
  },
  {
   "cell_type": "code",
   "execution_count": 9,
   "metadata": {},
   "outputs": [
    {
     "name": "stdout",
     "output_type": "stream",
     "text": [
      "1\n",
      "4\n",
      "9\n",
      "16\n",
      "25\n"
     ]
    }
   ],
   "source": [
    "for i in list\n",
    "    println(i ^ 2)\n",
    "end"
   ]
  },
  {
   "cell_type": "markdown",
   "metadata": {},
   "source": [
    "## IterTools\n",
    "\n",
    "~ under construction ~"
   ]
  },
  {
   "cell_type": "code",
   "execution_count": 10,
   "metadata": {},
   "outputs": [
    {
     "data": {
      "text/plain": [
       "10-element Array{Tuple{Float64,Float64},1}:\n",
       " (0.0, 0.0)                                \n",
       " (0.4739005172993937, -1.0898215077285935) \n",
       " (-1.2688200092225754, -0.6419541240487407)\n",
       " (0.22890195779437084, -0.4022747694649951)\n",
       " (-0.3144508539987875, 0.3073409581425116) \n",
       " (0.35257427800241015, -1.1288639269196465)\n",
       " (-1.1329820158068977, -1.610605834704651) \n",
       " (-0.06448259403362, -0.4480419449216983)  \n",
       " (0.31058844713367567, 1.3201575886598336) \n",
       " (-0.060514341635201196, 1.570308116363705)"
      ]
     },
     "execution_count": 10,
     "metadata": {},
     "output_type": "execute_result"
    }
   ],
   "source": [
    "using IterTools\n",
    "using Distributions\n",
    "function Gibbs1(a::Float64, b::Float64, c::Float64)::Function\n",
    "    xy::Tuple{Float64, Float64} -> begin\n",
    "        x = rand(Normal(b / a * xy[2], 1 / sqrt(a)))\n",
    "        x, rand(Normal(b / c * x, 1 / sqrt(c)))\n",
    "    end\n",
    "end\n",
    "samples = iterated(Gibbs1(1.0, 0.8, 1.0), (0.0, 0.0))\n",
    "collect(Iterators.take(samples, 10))"
   ]
  },
  {
   "cell_type": "markdown",
   "metadata": {},
   "source": [
    "## Generator 1 (generator expression)\n",
    "\n",
    "An iterator is most useful when combined with a generator. We generally call something creating an iterator a generator. Generators in general include a generator expression, a generator function, etc. Julia supports a generator expression as follows:"
   ]
  },
  {
   "cell_type": "code",
   "execution_count": 11,
   "metadata": {},
   "outputs": [
    {
     "data": {
      "text/plain": [
       "Base.Generator{UnitRange{Int64},getfield(Main, Symbol(\"##5#6\"))}(getfield(Main, Symbol(\"##5#6\"))(), 1:5)"
      ]
     },
     "execution_count": 11,
     "metadata": {},
     "output_type": "execute_result"
    }
   ],
   "source": [
    "gene = (x^2 for x in 1 : 5)"
   ]
  },
  {
   "cell_type": "markdown",
   "metadata": {},
   "source": [
    "This is very similar to a list comprehension:"
   ]
  },
  {
   "cell_type": "code",
   "execution_count": 12,
   "metadata": {},
   "outputs": [
    {
     "data": {
      "text/plain": [
       "5-element Array{Int64,1}:\n",
       "  1\n",
       "  4\n",
       "  9\n",
       " 16\n",
       " 25"
      ]
     },
     "execution_count": 12,
     "metadata": {},
     "output_type": "execute_result"
    }
   ],
   "source": [
    "list = [x^2 for x in 1 : 5]"
   ]
  },
  {
   "cell_type": "markdown",
   "metadata": {},
   "source": [
    "The list comprehension will allocate a memory for the whole list. The generator will save your memory."
   ]
  },
  {
   "cell_type": "code",
   "execution_count": 13,
   "metadata": {},
   "outputs": [
    {
     "name": "stdout",
     "output_type": "stream",
     "text": [
      "1\n",
      "4\n",
      "9\n",
      "16\n",
      "25\n"
     ]
    }
   ],
   "source": [
    "for i in gene\n",
    "    println(i)\n",
    "end"
   ]
  },
  {
   "cell_type": "markdown",
   "metadata": {},
   "source": [
    "## Generator 2 (generator function = resumable function)\n",
    "\n",
    "An easier, simpler, and most useful way to create an iterator/generator is a generator function, and Python and most modern language support this type of functions. Julia does not natively support Python-type generator functions, but simply you can call ResumableFunctions.jl. This is the easiest way to reproduce the behavior of generator functions."
   ]
  },
  {
   "cell_type": "code",
   "execution_count": 14,
   "metadata": {},
   "outputs": [
    {
     "data": {
      "text/plain": [
       "Ising (generic function with 1 method)"
      ]
     },
     "execution_count": 14,
     "metadata": {},
     "output_type": "execute_result"
    }
   ],
   "source": [
    "using ResumableFunctions\n",
    "@resumable function Ising()::Vector{Int64}\n",
    "    N = 8\n",
    "    σ = ones(Int64, N)\n",
    "    β = 1.0\n",
    "    while true\n",
    "        for i in 1 : 1000\n",
    "            j = rand(1 : N)\n",
    "            ΔβE = 2β * σ[j] * (σ[mod1(j + 1, N)] + σ[mod1(j - 1, N)])\n",
    "            -ΔβE > log(rand()) && (σ[j] = -σ[j])\n",
    "        end\n",
    "        @yield σ\n",
    "    end\n",
    "end"
   ]
  },
  {
   "cell_type": "markdown",
   "metadata": {},
   "source": [
    "With @resumable macro, you can define a resumable function. This function does not have \"return,\" but yield what you want at @yield points. This function directely returns an iterater, i.e. a function iterate(iter) is already defined when we call iter = Ising(). Then, this iterater gives you the \"yield\" repeatedly each time you reached @yield point."
   ]
  },
  {
   "cell_type": "code",
   "execution_count": 15,
   "metadata": {},
   "outputs": [
    {
     "name": "stdout",
     "output_type": "stream",
     "text": [
      "iter() = [-1, -1, -1, -1, -1, -1, -1, -1]\n"
     ]
    }
   ],
   "source": [
    "iter = Ising()\n",
    "@show iter();"
   ]
  },
  {
   "cell_type": "code",
   "execution_count": 16,
   "metadata": {},
   "outputs": [
    {
     "name": "stdout",
     "output_type": "stream",
     "text": [
      "[1, 1, 1, 1, 1, 1, 1, 1]\n",
      "[1, 1, 1, 1, 1, -1, -1, 1]\n",
      "[-1, -1, -1, 1, 1, 1, 1, 1]\n",
      "[1, 1, -1, -1, -1, -1, -1, 1]\n",
      "[1, 1, 1, 1, 1, 1, 1, 1]\n",
      "[1, 1, 1, 1, 1, -1, 1, 1]\n",
      "[-1, -1, 1, 1, 1, 1, 1, -1]\n",
      "[-1, -1, -1, -1, -1, -1, -1, -1]\n",
      "[-1, -1, -1, -1, -1, -1, -1, -1]\n",
      "[1, 1, 1, 1, 1, -1, -1, -1]\n"
     ]
    }
   ],
   "source": [
    "for i in 1 : 10\n",
    "    println(iter())\n",
    "end"
   ]
  },
  {
   "cell_type": "markdown",
   "metadata": {},
   "source": [
    "ResummableFunctions are very fast and memory-efficient because the macro @resummable will rewrite a function into a normal iterator directly before the JIT compilation."
   ]
  },
  {
   "cell_type": "markdown",
   "metadata": {},
   "source": [
    "## Channels\n",
    "\n",
    "Instead of a generator function, Julia natively supports Channels for parallel computing. Especially, Channel is a stronger and more general tool to create an iterator from the function. This is a generalized concept of a generator function, but in most cases ResumableFunctions.jl is faster and memory-efficient. However, if you need a postprocess based on lazy evaluation, Channels work better from my experience."
   ]
  },
  {
   "cell_type": "code",
   "execution_count": 17,
   "metadata": {},
   "outputs": [
    {
     "data": {
      "text/plain": [
       "Gibbs2 (generic function with 1 method)"
      ]
     },
     "execution_count": 17,
     "metadata": {},
     "output_type": "execute_result"
    }
   ],
   "source": [
    "function Gibbs2(a::Float64, b::Float64, c::Float64)::Channel\n",
    "    Channel(ctype = Tuple{Float64,Float64}) do channel::Channel{Tuple{Float64,Float64}}\n",
    "        N = 10\n",
    "        x = 0.0\n",
    "        y = 0.0\n",
    "        put!(channel, (x, y))\n",
    "        for i in 1 : N\n",
    "            x = rand(Normal(b / a * y, 1 / sqrt(a)))\n",
    "            y = rand(Normal(b / c * x, 1 / sqrt(c)))\n",
    "            put!(channel, (x, y))\n",
    "        end\n",
    "    end\n",
    "end"
   ]
  },
  {
   "cell_type": "code",
   "execution_count": 18,
   "metadata": {},
   "outputs": [
    {
     "name": "stdout",
     "output_type": "stream",
     "text": [
      "(0.0, 0.0)\n",
      "(0.9829611089484098, 1.0146254514164113)\n",
      "(0.8302512487643459, 1.9382240080615676)\n",
      "(0.8533806870959914, 0.3470739424909939)\n",
      "(-0.4284540298917679, 0.6206711615112139)\n",
      "(1.053350461232235, -0.32532115715575716)\n",
      "(-0.6587307481735953, -1.1097739365418695)\n",
      "(0.1739851697004564, 0.049982859507384236)\n",
      "(0.9141017684126425, -1.1977370587585305)\n",
      "(-1.5634071950282509, -2.1294161592055127)\n",
      "(-0.2965097930145839, 0.05643498312732537)\n"
     ]
    }
   ],
   "source": [
    "for z in Gibbs2(1.0, 0.8, 1.0)\n",
    "    println(z)\n",
    "end"
   ]
  },
  {
   "cell_type": "markdown",
   "metadata": {},
   "source": [
    "This code is acceptable if the number of tasks is just one.\n",
    "\n",
    "~ under construction ~"
   ]
  },
  {
   "cell_type": "code",
   "execution_count": 19,
   "metadata": {},
   "outputs": [
    {
     "name": "stdout",
     "output_type": "stream",
     "text": [
      "(0.4679852522868461, 0.8662685765831253)\n",
      "(-0.27529622827669376, -1.3598648848350114)\n",
      "(0.10737675984452144, 1.5337060029205214)\n",
      "(-0.2695036999543239, 1.3476995398361922)\n",
      "(1.6711865609457512, 1.611619713413844)\n",
      "(1.1178329939196314, -1.1159872152067298)\n",
      "(-1.2769155587808125, 0.23981805611572993)\n",
      "(-0.6696316662763916, -0.060843259569185015)\n",
      "(-0.2678181059722951, -0.006382054276658111)\n",
      "(0.39487876062161253, -1.3051756012016937)\n"
     ]
    }
   ],
   "source": [
    "function xupdate(a::Float64, b::Float64, c::Float64, input::Channel{Tuple{Float64,Float64}}, output::Channel{Tuple{Float64,Float64}})\n",
    "    N = 10\n",
    "    x = 0.0\n",
    "    y = 0.0\n",
    "    for i in 1 : N\n",
    "        (x, y) = take!(input)\n",
    "        x = rand(Normal(b / a * y, 1 / sqrt(a)))\n",
    "        put!(output, (x, y))\n",
    "    end\n",
    "    close(output)\n",
    "end\n",
    "function yupdate(a::Float64, b::Float64, c::Float64, input::Channel{Tuple{Float64,Float64}}, output::Channel{Tuple{Float64,Float64}})\n",
    "    N = 10\n",
    "    x = 0.0\n",
    "    y = 0.0\n",
    "    for i in 1 : N\n",
    "        (x, y) = take!(input)\n",
    "        y = rand(Normal(b / c * x, 1 / sqrt(c)))\n",
    "        println((x, y))\n",
    "        put!(output, (x, y))\n",
    "    end\n",
    "    close(output)\n",
    "end\n",
    "ch1 = Channel{Tuple{Float64,Float64}}(32)\n",
    "ch2 = Channel{Tuple{Float64,Float64}}(32)\n",
    "@async xupdate(1.0, 0.8, 1.0, ch1, ch2)\n",
    "@async yupdate(1.0, 0.8, 1.0, ch2, ch1)\n",
    "put!(ch1, (0.0, 0.0));"
   ]
  },
  {
   "cell_type": "markdown",
   "metadata": {},
   "source": [
    "The difference bewteen Channels and ResumableFunctions lies in how they compile a code. Check: https://white.ucc.asn.au/2017/11/18/Lazy-Sequences-in-Julia.html\n",
    "\n",
    "## RemoteChannels\n",
    "\n",
    "It will be discussed in MCMC4.0.\n",
    "\n",
    "## Lazy\n",
    "\n",
    "Lazy.jl is sometimes useful."
   ]
  },
  {
   "cell_type": "code",
   "execution_count": 20,
   "metadata": {},
   "outputs": [
    {
     "name": "stderr",
     "output_type": "stream",
     "text": [
      "WARNING: using Lazy.iterated in module Main conflicts with an existing identifier.\n",
      "WARNING: using Lazy.list in module Main conflicts with an existing identifier.\n"
     ]
    },
    {
     "data": {
      "text/plain": [
       "(1 2)"
      ]
     },
     "execution_count": 20,
     "metadata": {},
     "output_type": "execute_result"
    }
   ],
   "source": [
    "using Lazy\n",
    "takewhile(x -> x < 3, 1 : 5)"
   ]
  },
  {
   "cell_type": "markdown",
   "metadata": {},
   "source": [
    "However, the coding style of Lazy.jl is different from ordinarly Julia, so I won't use this package unless it is necessary.\n",
    "\n",
    "**Exercise**: implement takewhile and dropwhile for iterators. These functions are sometimes useful for MCMC."
   ]
  },
  {
   "cell_type": "code",
   "execution_count": null,
   "metadata": {},
   "outputs": [],
   "source": []
  }
 ],
 "metadata": {
  "kernelspec": {
   "display_name": "Julia 1.0.2",
   "language": "julia",
   "name": "julia-1.0"
  },
  "language_info": {
   "file_extension": ".jl",
   "mimetype": "application/julia",
   "name": "julia",
   "version": "1.0.2"
  }
 },
 "nbformat": 4,
 "nbformat_minor": 2
}
