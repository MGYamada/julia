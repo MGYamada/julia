{
 "cells": [
  {
   "cell_type": "markdown",
   "metadata": {},
   "source": [
    "# MCMC2.0: Iterators, Generators, and Channels\n",
    "\n",
    "Iterators and generators are two important tools in the modern functional programming and Julia implements new \"channels.\" I will show a typical implementation of them for MCMC.\n",
    "\n",
    "## Iterators\n",
    "\n",
    "Iterators are often used to save memories. If we wish to do something to each element of a large list, we do not have to store all the elements between the processes. Iterators return each element one by one, so we can do opearations one by one and each time we can discard old data to save memories. Actually, we already used iterators in usual \"for\" loops."
   ]
  },
  {
   "cell_type": "code",
   "execution_count": 1,
   "metadata": {},
   "outputs": [
    {
     "data": {
      "text/plain": [
       "1:2"
      ]
     },
     "execution_count": 1,
     "metadata": {},
     "output_type": "execute_result"
    }
   ],
   "source": [
    "iter = 1 : 2"
   ]
  },
  {
   "cell_type": "markdown",
   "metadata": {},
   "source": [
    "This is already iterator counting from 1 to 2."
   ]
  },
  {
   "cell_type": "code",
   "execution_count": 2,
   "metadata": {},
   "outputs": [
    {
     "data": {
      "text/plain": [
       "(1, 1)"
      ]
     },
     "execution_count": 2,
     "metadata": {},
     "output_type": "execute_result"
    }
   ],
   "source": [
    "element, state = iterate(iter)"
   ]
  },
  {
   "cell_type": "markdown",
   "metadata": {},
   "source": [
    "This is the initial state of the iterator \"1:2\"."
   ]
  },
  {
   "cell_type": "code",
   "execution_count": 3,
   "metadata": {},
   "outputs": [
    {
     "data": {
      "text/plain": [
       "(2, 2)"
      ]
     },
     "execution_count": 3,
     "metadata": {},
     "output_type": "execute_result"
    }
   ],
   "source": [
    "element, state = iterate(iter, state)"
   ]
  },
  {
   "cell_type": "markdown",
   "metadata": {},
   "source": [
    "These are the next item and the next state."
   ]
  },
  {
   "cell_type": "code",
   "execution_count": 4,
   "metadata": {},
   "outputs": [
    {
     "data": {
      "text/plain": [
       "true"
      ]
     },
     "execution_count": 4,
     "metadata": {},
     "output_type": "execute_result"
    }
   ],
   "source": [
    "result = iterate(iter, state)\n",
    "result == nothing"
   ]
  },
  {
   "cell_type": "markdown",
   "metadata": {},
   "source": [
    "If there is nothing to iterate, they return nothing."
   ]
  },
  {
   "cell_type": "code",
   "execution_count": 5,
   "metadata": {},
   "outputs": [
    {
     "name": "stdout",
     "output_type": "stream",
     "text": [
      "1\n",
      "2\n",
      "3\n",
      "4\n",
      "5\n"
     ]
    }
   ],
   "source": [
    "iter = 1 : 5\n",
    "for i in iter\n",
    "    println(i)\n",
    "end"
   ]
  },
  {
   "cell_type": "markdown",
   "metadata": {},
   "source": [
    "This is the same as follow:"
   ]
  },
  {
   "cell_type": "code",
   "execution_count": 6,
   "metadata": {},
   "outputs": [
    {
     "name": "stdout",
     "output_type": "stream",
     "text": [
      "1\n",
      "2\n",
      "3\n",
      "4\n",
      "5\n"
     ]
    }
   ],
   "source": [
    "iter_result = iterate(iter)\n",
    "while iter_result !== nothing\n",
    "    (i, state) = iter_result\n",
    "    println(i)\n",
    "    iter_result = iterate(iter, state)\n",
    "end"
   ]
  },
  {
   "cell_type": "markdown",
   "metadata": {},
   "source": [
    "If we use an iterator instead of a list, we do not need to store the whole list anymore."
   ]
  },
  {
   "cell_type": "code",
   "execution_count": 7,
   "metadata": {},
   "outputs": [
    {
     "name": "stdout",
     "output_type": "stream",
     "text": [
      "1\n",
      "4\n",
      "9\n",
      "16\n",
      "25\n"
     ]
    }
   ],
   "source": [
    "list = collect(iter)\n",
    "for i in 1 : length(list)\n",
    "    println(list[i] ^ 2)\n",
    "end"
   ]
  },
  {
   "cell_type": "markdown",
   "metadata": {},
   "source": [
    "This is meaningless and should be rewritten as:"
   ]
  },
  {
   "cell_type": "code",
   "execution_count": 8,
   "metadata": {},
   "outputs": [
    {
     "name": "stdout",
     "output_type": "stream",
     "text": [
      "1\n",
      "4\n",
      "9\n",
      "16\n",
      "25\n"
     ]
    }
   ],
   "source": [
    "for i in iter\n",
    "    println(i ^ 2)\n",
    "end"
   ]
  },
  {
   "cell_type": "markdown",
   "metadata": {},
   "source": [
    "In this way, we can (trivially) avoid allocating a memory for the list. Or this works if the memory does not matter:"
   ]
  },
  {
   "cell_type": "code",
   "execution_count": 9,
   "metadata": {},
   "outputs": [
    {
     "name": "stdout",
     "output_type": "stream",
     "text": [
      "1\n",
      "4\n",
      "9\n",
      "16\n",
      "25\n"
     ]
    }
   ],
   "source": [
    "for i in list\n",
    "    println(i ^ 2)\n",
    "end"
   ]
  },
  {
   "cell_type": "markdown",
   "metadata": {},
   "source": [
    "## IterTools\n",
    "\n",
    "~ under construction ~"
   ]
  },
  {
   "cell_type": "code",
   "execution_count": 10,
   "metadata": {},
   "outputs": [
    {
     "data": {
      "text/plain": [
       "10-element Array{Tuple{Float64,Float64},1}:\n",
       " (0.0, 0.0)                                 \n",
       " (-0.7547258171926915, -0.04463370063202288)\n",
       " (-0.7313294103406582, -1.1513061740718484) \n",
       " (-0.40359016310851203, 1.208214080768851)  \n",
       " (1.3012825498163951, 0.84780636759954)     \n",
       " (1.2701358580384523, 0.5620723701125009)   \n",
       " (1.8725968685864025, 0.7950092553589843)   \n",
       " (-0.3618188612246286, -0.6500935422375311) \n",
       " (1.5986970302429275, 1.567748244429648)    \n",
       " (0.29538895240462004, 0.9273764102417205)  "
      ]
     },
     "execution_count": 10,
     "metadata": {},
     "output_type": "execute_result"
    }
   ],
   "source": [
    "using IterTools\n",
    "using Distributions\n",
    "function Gibbs1(a::Float64, b::Float64, c::Float64)::Function\n",
    "    xy::Tuple{Float64, Float64} -> begin\n",
    "        x = rand(Normal(b / a * xy[2], 1 / sqrt(a)))\n",
    "        x, rand(Normal(b / c * x, 1 / sqrt(c)))\n",
    "    end\n",
    "end\n",
    "samples = iterated(Gibbs1(1.0, 0.8, 1.0), (0.0, 0.0))\n",
    "collect(Iterators.take(samples, 10))"
   ]
  },
  {
   "cell_type": "markdown",
   "metadata": {},
   "source": [
    "## Generator 1 (generator expression)\n",
    "\n",
    "An iterator is most useful when combined with a generator. We generally call something creating an iterator a generator. Generators in general include a generator expression, a generator function, etc. Julia supports a generator expression as follows:"
   ]
  },
  {
   "cell_type": "code",
   "execution_count": 12,
   "metadata": {},
   "outputs": [
    {
     "data": {
      "text/plain": [
       "Base.Generator{UnitRange{Int64},getfield(Main, Symbol(\"##25#26\"))}(getfield(Main, Symbol(\"##25#26\"))(), 1:5)"
      ]
     },
     "execution_count": 12,
     "metadata": {},
     "output_type": "execute_result"
    }
   ],
   "source": [
    "gene = (x^2 for x in 1 : 5)"
   ]
  },
  {
   "cell_type": "markdown",
   "metadata": {},
   "source": [
    "This is very similar to a list comprehension:"
   ]
  },
  {
   "cell_type": "code",
   "execution_count": 13,
   "metadata": {},
   "outputs": [
    {
     "data": {
      "text/plain": [
       "5-element Array{Int64,1}:\n",
       "  1\n",
       "  4\n",
       "  9\n",
       " 16\n",
       " 25"
      ]
     },
     "execution_count": 13,
     "metadata": {},
     "output_type": "execute_result"
    }
   ],
   "source": [
    "list = [x^2 for x in 1 : 5]"
   ]
  },
  {
   "cell_type": "markdown",
   "metadata": {},
   "source": [
    "The list comprehension will allocate a memory for the whole list. The generator will save your memory."
   ]
  },
  {
   "cell_type": "code",
   "execution_count": 14,
   "metadata": {},
   "outputs": [
    {
     "name": "stdout",
     "output_type": "stream",
     "text": [
      "1\n",
      "4\n",
      "9\n",
      "16\n",
      "25\n"
     ]
    }
   ],
   "source": [
    "for i in gene\n",
    "    println(i)\n",
    "end"
   ]
  },
  {
   "cell_type": "markdown",
   "metadata": {},
   "source": [
    "## Generator 2 (generator function = resumable function)\n",
    "\n",
    "An easier, simpler, and most useful way to create an iterator/generator is a generator function, and Python and most modern language support this type of functions. Julia does not natively support Python-type generator functions, but simply you can call ResumableFunctions.jl. This is the easiest way to reproduce the behavior of generator functions."
   ]
  },
  {
   "cell_type": "code",
   "execution_count": 14,
   "metadata": {},
   "outputs": [
    {
     "data": {
      "text/plain": [
       "Ising (generic function with 1 method)"
      ]
     },
     "execution_count": 14,
     "metadata": {},
     "output_type": "execute_result"
    }
   ],
   "source": [
    "using ResumableFunctions\n",
    "@resumable function Ising()::Vector{Int64}\n",
    "    N = 8\n",
    "    σ = ones(Int64, N)\n",
    "    β = 1.0\n",
    "    while true\n",
    "        for i in 1 : 1000\n",
    "            j = rand(1 : N)\n",
    "            ΔβE = 2β * σ[j] * (σ[mod1(j + 1, N)] + σ[mod1(j - 1, N)])\n",
    "            -ΔβE > log(rand()) && (σ[j] = -σ[j])\n",
    "        end\n",
    "        @yield σ\n",
    "    end\n",
    "end"
   ]
  },
  {
   "cell_type": "markdown",
   "metadata": {},
   "source": [
    "With @resumable macro, you can define a resumable function. This function does not have \"return,\" but yield what you want at @yield points. This function directely returns an iterater, i.e. a function iterate(iter) is already defined when we call iter = Ising(). Then, this iterater gives you the \"yield\" repeatedly each time you reached @yield point."
   ]
  },
  {
   "cell_type": "code",
   "execution_count": 15,
   "metadata": {},
   "outputs": [
    {
     "name": "stdout",
     "output_type": "stream",
     "text": [
      "iter() = [-1, -1, -1, -1, -1, -1, -1, -1]\n"
     ]
    }
   ],
   "source": [
    "iter = Ising()\n",
    "@show iter();"
   ]
  },
  {
   "cell_type": "code",
   "execution_count": 16,
   "metadata": {},
   "outputs": [
    {
     "name": "stdout",
     "output_type": "stream",
     "text": [
      "[-1, 1, 1, 1, -1, -1, -1, -1]\n",
      "[-1, -1, -1, 1, 1, 1, 1, -1]\n",
      "[1, 1, 1, -1, -1, 1, 1, 1]\n",
      "[-1, -1, -1, -1, -1, -1, -1, -1]\n",
      "[1, 1, 1, -1, 1, 1, 1, 1]\n",
      "[-1, -1, 1, 1, 1, 1, 1, 1]\n",
      "[1, 1, 1, 1, 1, 1, 1, 1]\n",
      "[-1, 1, 1, 1, 1, -1, -1, -1]\n",
      "[1, 1, 1, 1, 1, 1, 1, 1]\n",
      "[-1, -1, -1, 1, 1, 1, -1, -1]\n"
     ]
    }
   ],
   "source": [
    "for i in 1 : 10\n",
    "    println(iter())\n",
    "end"
   ]
  },
  {
   "cell_type": "markdown",
   "metadata": {},
   "source": [
    "ResummableFunctions are very fast and memory-efficient because the macro @resummable will rewrite a function into a normal iterator directly before the JIT compilation."
   ]
  },
  {
   "cell_type": "markdown",
   "metadata": {},
   "source": [
    "## Channels\n",
    "\n",
    "Instead of a generator function, Julia natively supports Channels for parallel computing. Especially, Channel is a stronger and more general tool to create an iterator from the function. This is a generalized concept of a generator function, but in most cases ResumableFunctions.jl is faster and memory-efficient. However, if you need a postprocess based on lazy evaluation, Channels work better from my experience."
   ]
  },
  {
   "cell_type": "code",
   "execution_count": 17,
   "metadata": {},
   "outputs": [
    {
     "data": {
      "text/plain": [
       "Gibbs2 (generic function with 1 method)"
      ]
     },
     "execution_count": 17,
     "metadata": {},
     "output_type": "execute_result"
    }
   ],
   "source": [
    "function Gibbs2(a::Float64, b::Float64, c::Float64)::Channel\n",
    "    Channel(ctype = Tuple{Float64,Float64}) do channel::Channel{Tuple{Float64,Float64}}\n",
    "        N = 10\n",
    "        x = 0.0\n",
    "        y = 0.0\n",
    "        put!(channel, (x, y))\n",
    "        for i in 1 : N\n",
    "            x = rand(Normal(b / a * y, 1 / sqrt(a)))\n",
    "            y = rand(Normal(b / c * x, 1 / sqrt(c)))\n",
    "            put!(channel, (x, y))\n",
    "        end\n",
    "    end\n",
    "end"
   ]
  },
  {
   "cell_type": "code",
   "execution_count": 18,
   "metadata": {},
   "outputs": [
    {
     "name": "stdout",
     "output_type": "stream",
     "text": [
      "(0.0, 0.0)\n",
      "(0.2268567493797212, 2.2422260163825496)\n",
      "(1.1485020750754908, -0.7486311856625307)\n",
      "(0.002686751808946064, -1.0382076597118157)\n",
      "(-1.9145612281517903, -1.4830879601089253)\n",
      "(-2.3494083473002876, -1.3173422391171203)\n",
      "(-0.1892178119415333, -0.5202011319404474)\n",
      "(0.2646339889945905, -0.5069191433286592)\n",
      "(0.24526114403502353, 0.7887209085939816)\n",
      "(-0.14727102108047374, 1.3011692792129939)\n",
      "(0.32374732418044505, -0.4803394550252035)\n"
     ]
    }
   ],
   "source": [
    "for z in Gibbs2(1.0, 0.8, 1.0)\n",
    "    println(z)\n",
    "end"
   ]
  },
  {
   "cell_type": "markdown",
   "metadata": {},
   "source": [
    "This code is acceptable if the number of tasks is just one.\n",
    "\n",
    "~ under construction ~"
   ]
  },
  {
   "cell_type": "code",
   "execution_count": 19,
   "metadata": {},
   "outputs": [
    {
     "name": "stdout",
     "output_type": "stream",
     "text": [
      "(1.290545258249347, 1.5204399797238781)\n",
      "(0.21063803259475922, -0.679626885073408)\n",
      "(-0.5654469441342398, -0.13967597204683474)\n",
      "(0.04866095529962684, 1.8856041211826469)\n",
      "(0.8548483728113733, 1.0810868469527135)\n",
      "(0.3227294055973985, 0.19578779196614943)\n",
      "(1.4252567610503524, 1.114858695432623)\n",
      "(1.1865475809567494, 0.02364702577480271)\n",
      "(-0.4307690206327719, -1.1446996842244603)\n",
      "(-0.15805673488157457, -0.6290038176569472)\n"
     ]
    }
   ],
   "source": [
    "function xupdate(a::Float64, b::Float64, c::Float64, input::Channel{Tuple{Float64,Float64}}, output::Channel{Tuple{Float64,Float64}})\n",
    "    N = 10\n",
    "    x = 0.0\n",
    "    y = 0.0\n",
    "    for i in 1 : N\n",
    "        (x, y) = take!(input)\n",
    "        x = rand(Normal(b / a * y, 1 / sqrt(a)))\n",
    "        put!(output, (x, y))\n",
    "    end\n",
    "    close(output)\n",
    "end\n",
    "function yupdate(a::Float64, b::Float64, c::Float64, input::Channel{Tuple{Float64,Float64}}, output::Channel{Tuple{Float64,Float64}})\n",
    "    N = 10\n",
    "    x = 0.0\n",
    "    y = 0.0\n",
    "    for i in 1 : N\n",
    "        (x, y) = take!(input)\n",
    "        y = rand(Normal(b / c * x, 1 / sqrt(c)))\n",
    "        println((x, y))\n",
    "        put!(output, (x, y))\n",
    "    end\n",
    "    close(output)\n",
    "end\n",
    "ch1 = Channel{Tuple{Float64,Float64}}(32)\n",
    "ch2 = Channel{Tuple{Float64,Float64}}(32)\n",
    "@async xupdate(1.0, 0.8, 1.0, ch1, ch2)\n",
    "@async yupdate(1.0, 0.8, 1.0, ch2, ch1)\n",
    "put!(ch1, (0.0, 0.0));"
   ]
  },
  {
   "cell_type": "markdown",
   "metadata": {},
   "source": [
    "The difference bewteen Channels and ResumableFunctions lies in how they compile a code. Check: https://white.ucc.asn.au/2017/11/18/Lazy-Sequences-in-Julia.html\n",
    "\n",
    "## RemoteChannels\n",
    "\n",
    "It will be discussed in MCMC4.0.\n",
    "\n",
    "## Lazy\n",
    "\n",
    "Lazy.jl is sometimes useful."
   ]
  },
  {
   "cell_type": "code",
   "execution_count": 20,
   "metadata": {},
   "outputs": [
    {
     "data": {
      "text/plain": [
       "(1 2)"
      ]
     },
     "execution_count": 20,
     "metadata": {},
     "output_type": "execute_result"
    }
   ],
   "source": [
    "using Lazy\n",
    "takewhile(x -> x < 3, 1 : 5)"
   ]
  },
  {
   "cell_type": "markdown",
   "metadata": {},
   "source": [
    "However, the coding style of Lazy.jl is different from ordinarly Julia, so I won't use this package unless it is necessary.\n",
    "\n",
    "**Exercise**: implement takewhile and dropwhile for iterators. These functions are sometimes useful for MCMC."
   ]
  },
  {
   "cell_type": "code",
   "execution_count": null,
   "metadata": {},
   "outputs": [],
   "source": []
  }
 ],
 "metadata": {
  "kernelspec": {
   "display_name": "Julia 1.0.2",
   "language": "julia",
   "name": "julia-1.0"
  },
  "language_info": {
   "file_extension": ".jl",
   "mimetype": "application/julia",
   "name": "julia",
   "version": "1.0.2"
  }
 },
 "nbformat": 4,
 "nbformat_minor": 2
}
