{
 "cells": [
  {
   "cell_type": "markdown",
   "metadata": {},
   "source": [
    "# MCMC0.5: Introduction to Functional Programming\n",
    "\n",
    "## Why functional?\n",
    "\n",
    "One may claim that C/Fortran (or sometimes C++ without functional programming extension) is enough to do physics because they are fast, simple, and have enough functionalities. I agree with all the three points, but I think it is acceptable only when you are working only by yourself. Usually, a code by procedural programming is not easy to read, and is not human-oriented. In the procedural programming, you always have to use your brain to mimic how the computer works (is a human being a slave of computers?). Most computational physicists somehow got used to this way of thinking (already brainwashed) and wrote a code as readable to the machine as possible. Of course, it is ok if you are working by yourself and your collaborators do not care about your code, but today it is more important to share a code (via Github) and discuss physics on the Jupyter Notebook (maybe in old days it was enough to have one expert for computation and the others did not even have to see the code). In that case, it is important to write a readable, understandable, and well-organized code for everybody even without any comments!\n",
    "\n",
    "I want to define functional programming as human-oriented programming. If you want to get a mean value, why not apply a `mean` function onto the collection? Some (brainwashed) people may wonder if it is ok not to sum each time of the iteration to reduce memory, and so on. Such concerns will be resolved later by a concept of lazy evaluation (actually in MCMC6.0). Using this black box, you now do not have to care about at which step functions are actually called. Then, you can just apply statistical functions like `mean`, `std`, etc. just on the collection of data (called iterator) afterwards. This is exactly how we think when we process big data, and you can now write a code as you think.\n",
    "\n",
    "> In purely functional programming you don't tell the computer what to do as such but rather you tell it what stuff *is*.\n",
    "> -- <cite> Miran Lipovača [Learn You a Haskell for Great Good!](http://learnyouahaskell.com/introduction)</cite>\n",
    "\n",
    "More strictly, functional programming may be defined as programming writing a code by compositions of pure functions. In other words, it is a deterministic finite-state machine (FSM). This notion is closely related to the Markov-chain Monte Carlo (MCMC) because MCMC is nothing but a nondeterministic FSM. From physicists' view, it is a \"quantum\" version of the functional programming (rigorously, nondeterministicity here is not quantum), and every techinique in functional programming is applicable to MCMC, while in MCMC completely pure functional programming is impossible (software cannot produce any true random numbers by itself!). From now on, I will take \"pragmatism\" by using functional programming as much as possible, but by including a (pseudo)nondeterministic function additionally to make it work as MCMC. In this sense, I do not stick to doing completely functional programming, but use it as a tool to make a code readable. Unless it diminishes the readability of a code, I sometimes use a destructive function only if necessary.\n",
    "\n",
    "Julia completely enables us to write a code as you think. You can use Unicode for variables, most linear algebra functions already exist, and Julia even discards class-based object-oriented programming, which is unnecessary for MCMC! Let's see the HMC function in MCMC1.0, and compare the function to the algorithm written above the function. If you are good at elementary mathematics, you can write a code exactly like you are doing math on your notebook. Like in [this pdf](https://github.com/MCSMC/MCMC_sample_codes/blob/master/review-MCMC.pdf), people unfortunately still believe that such \"how we think\" programming in Mathematica is useless. However, today in 2018, Julia and Jupyter Notebook work as a super-fast version of Mathematica/MATLAB, and Julia now works at a speed comparable to C/Fortran. Of course, if you wish to use low-level operations like SSE and AVX, we still need such procedural languages, but for most purposes, just calling BLAS/LAPACK functions is enough. Even more, Julia now supports GPGPU, so even for GPGPU programming Julia can be the first choice, instead of writing CUDA/OpenCL directly.\n",
    "\n",
    "In this series of notebooks, I will introduce not only MCMC but also functional programming, Julia-like programming, and in addition a Bayesian way of thinking. Think Bayesian, think functional, and last but not least [think Julia](https://benlauwens.github.io/ThinkJulia.jl/latest/book.html)!\n",
    "\n",
    "## Think functional\n",
    "\n",
    "In functional programming, a program is regarded as one big function, and this is constructed just by a sequence of functions. In order to make those functions pure, it is important to write a function in the following ways.\n",
    "\n",
    "1. Do not use/write a destructive function.\n",
    "1. Do not include a side effect in functions. In other words, functions have to do things other than returning a unique value determined from the input.\n",
    "1. (optional) static typing\n",
    "\n",
    "In Julia, every destructive function has `!` after its name:"
   ]
  },
  {
   "cell_type": "code",
   "execution_count": 1,
   "metadata": {},
   "outputs": [
    {
     "name": "stdout",
     "output_type": "stream",
     "text": [
      "a = [1, 2, 3, 4]\n"
     ]
    }
   ],
   "source": [
    "a = [1, 2, 3]\n",
    "push!(a, 4)\n",
    "@show a;"
   ]
  },
  {
   "cell_type": "markdown",
   "metadata": {},
   "source": [
    "Therefore, the first condition is obeyed if you do not use any installed functions with `!`. In some case, you need to use such destructive functions to speed up, and in this case you should take pragmatism. It is recommended to add `!` when you define a new destructive function. In some sense insertion itself is regarded as a destructive operation (or a side effect), but it is usually unavoidable and we accept destructive insertion if necessary from pragmatism.\n",
    "\n",
    "Then, how can we replace destructive functions like `push!` and `pop!`? In most cases, destructive operations on arrays can be avoided by iterators and generators (see MCMC2.0). However, for matrices and tensors we sometimes still need a destructive function to do operations in a memory-efficient way. In that case, of course we accept to use destructive functions as pragmatists, or you can formally write a pure wrapper function for the destructive operations to make your program look like a pure functional code.\n",
    "\n",
    "Then, what is a side effect?"
   ]
  },
  {
   "cell_type": "code",
   "execution_count": 2,
   "metadata": {},
   "outputs": [
    {
     "name": "stdout",
     "output_type": "stream",
     "text": [
      "Hello, World!\n"
     ]
    }
   ],
   "source": [
    "println(\"Hello, World!\")"
   ]
  },
  {
   "cell_type": "markdown",
   "metadata": {},
   "source": [
    "`println` is a \"function,\" but it is doing more than a pure function is supposed to do. It outputs words on your screen and returns nothing! Including such I/O operations, something more than a mathematically pure function should do is all called a side effect. Some side effects are avoidable and others are unavoidable. It is important to reduce side effects as much as possible, but we as pragmatists accept useful side effects like I/O operations, insertion, control syntax, etc. On the other hand, the most important thing that you should have in mind is not to rewrite a global variable inside each function. Global variables should be defined always with `const` and even it is recommended to pass global variables as arguments."
   ]
  },
  {
   "cell_type": "code",
   "execution_count": 3,
   "metadata": {},
   "outputs": [
    {
     "data": {
      "text/plain": [
       "4"
      ]
     },
     "execution_count": 3,
     "metadata": {},
     "output_type": "execute_result"
    }
   ],
   "source": [
    "const b = 2\n",
    "\"\"\"\n",
    "square integers\n",
    "\"\"\"\n",
    "function square(x::Int64)::Int64\n",
    "    return x ^ 2 # you can omit return\n",
    "end\n",
    "square(b)"
   ]
  },
  {
   "cell_type": "markdown",
   "metadata": {},
   "source": [
    "Julia has dynamic typing, but also has a strong typing structure. You can write a code without declaring types, but if you want to speed up your code, you have to be conscious of a type. The \"type stability\" is the most important problem to speed up Julia, so I will discuss it later.\n",
    "\n",
    "~ under construction ~"
   ]
  },
  {
   "cell_type": "markdown",
   "metadata": {},
   "source": [
    "Unfortunately, doing completely pure functional programming in Julia is not realistic. This is mostly because of the matter of a speed for numerical calculations. Most pure functional languages are not suitable for numerics and several times slower than C/Fortran. The speed and the referential transparency are in most cases trade-off, so you should not stick to the purity. In modern pure functional languages, referential transparency is almost always guaranteed, but in Julia you have to write a referentially transparent code conciously, which is a bit exhausting. Writing a hybrid code of two styles may be important from pragmatists' view.\n",
    "\n",
    "## Higher-order functions\n",
    "\n",
    "The most important feature of functional programming is higher-order functions. Higher-order functions are just functions taking functions in its arguments. It is possible because functions are first-class objects in Julia.\n",
    "\n",
    "### map\n",
    "\n",
    "The most important higher-order function is `map`. See how it works."
   ]
  },
  {
   "cell_type": "code",
   "execution_count": 4,
   "metadata": {},
   "outputs": [
    {
     "data": {
      "text/plain": [
       "3-element Array{Int64,1}:\n",
       " 1\n",
       " 4\n",
       " 9"
      ]
     },
     "execution_count": 4,
     "metadata": {},
     "output_type": "execute_result"
    }
   ],
   "source": [
    "map(square, [1, 2, 3])"
   ]
  },
  {
   "cell_type": "markdown",
   "metadata": {},
   "source": [
    "In Julia you won't see this function many times because there is a very nice abbreviation."
   ]
  },
  {
   "cell_type": "code",
   "execution_count": 5,
   "metadata": {},
   "outputs": [
    {
     "data": {
      "text/plain": [
       "3-element Array{Int64,1}:\n",
       " 1\n",
       " 4\n",
       " 9"
      ]
     },
     "execution_count": 5,
     "metadata": {},
     "output_type": "execute_result"
    }
   ],
   "source": [
    "square.([1, 2, 3])"
   ]
  },
  {
   "cell_type": "markdown",
   "metadata": {},
   "source": [
    "This code is same as `map(square, ...)`. `@.` macro is also useful."
   ]
  },
  {
   "cell_type": "code",
   "execution_count": 6,
   "metadata": {},
   "outputs": [
    {
     "data": {
      "text/plain": [
       "3-element Array{Float64,1}:\n",
       " 0.0               \n",
       " 1.3862943611198906\n",
       " 2.1972245773362196"
      ]
     },
     "execution_count": 6,
     "metadata": {},
     "output_type": "execute_result"
    }
   ],
   "source": [
    "@. log(square([1, 2, 3]))"
   ]
  },
  {
   "cell_type": "markdown",
   "metadata": {},
   "source": [
    "`map` is useful for parallelization. Just replace `map` by `pmap`, a parallel version. The details will be discussed in MCMC4.0."
   ]
  },
  {
   "cell_type": "code",
   "execution_count": 7,
   "metadata": {},
   "outputs": [
    {
     "name": "stdout",
     "output_type": "stream",
     "text": [
      "      From worker 3:\t2.0\n",
      "      From worker 2:\t1.0\n",
      "      From worker 2:\t3.0\n",
      "      From worker 3:\t4.0\n"
     ]
    },
    {
     "data": {
      "text/plain": [
       "4-element Array{Float64,1}:\n",
       "  1.0\n",
       "  4.0\n",
       "  9.0\n",
       " 16.0"
      ]
     },
     "execution_count": 7,
     "metadata": {},
     "output_type": "execute_result"
    }
   ],
   "source": [
    "using Distributed\n",
    "addprocs(2)\n",
    "@everywhere function squarese(x::Float64)::Float64\n",
    "    println(x) # This is a side effect!\n",
    "    x ^ 2\n",
    "end\n",
    "pmap(squarese, [1.0, 2.0, 3.0, 4.0])"
   ]
  },
  {
   "cell_type": "markdown",
   "metadata": {},
   "source": [
    "When being parallelized, which element of the array is called first becomes *a priori* unknown. In this case, writing a function without a side effect is very important. You should keep in mind that the function for `pmap` should not include a side effect.\n",
    "\n",
    "The problem is that `map` in Julia does not do lazy evaluation. Each time we call map arrays are stored in the memory."
   ]
  },
  {
   "cell_type": "code",
   "execution_count": 8,
   "metadata": {},
   "outputs": [
    {
     "data": {
      "text/plain": [
       "3-element Array{Int64,1}:\n",
       " 1\n",
       " 4\n",
       " 9"
      ]
     },
     "execution_count": 8,
     "metadata": {},
     "output_type": "execute_result"
    }
   ],
   "source": [
    "map(square, 1 : 3)"
   ]
  },
  {
   "cell_type": "markdown",
   "metadata": {},
   "source": [
    "`1 : 3` is UnitRange and an abstract way to define `[1, 2, 3]` without storing all the elements in the memory (more abstractly it works as an iterator, see MCMC2.0), but the result becomes a vector, so the memory for the array is allocated when `map` is called.\n",
    "\n",
    "In order to do lazy evaluation, use `Base.Generator` instead. In this way, a returned value is still something abstract called generator (see MCMC2.0 for more details)."
   ]
  },
  {
   "cell_type": "code",
   "execution_count": 9,
   "metadata": {},
   "outputs": [
    {
     "data": {
      "text/plain": [
       "Base.Generator{UnitRange{Int64},typeof(square)}(square, 1:3)"
      ]
     },
     "execution_count": 9,
     "metadata": {},
     "output_type": "execute_result"
    }
   ],
   "source": [
    "const gene = Base.Generator(square, 1 : 3) # this is not a Vector"
   ]
  },
  {
   "cell_type": "markdown",
   "metadata": {},
   "source": [
    "Again it is important to use a function without a side effect because when the function will be called is *a priori* unknown. `collect` transforms abstract things to arrays by calling all the lazy functions."
   ]
  },
  {
   "cell_type": "code",
   "execution_count": 10,
   "metadata": {},
   "outputs": [
    {
     "data": {
      "text/plain": [
       "3-element Array{Int64,1}:\n",
       " 1\n",
       " 4\n",
       " 9"
      ]
     },
     "execution_count": 10,
     "metadata": {},
     "output_type": "execute_result"
    }
   ],
   "source": [
    "collect(gene) # Vector"
   ]
  },
  {
   "cell_type": "markdown",
   "metadata": {},
   "source": [
    "Note that `IterTools.imap` has more sophisticated implementation for this lazy evaluation. I will come back to this point later in MCMC2.0 and MCMC6.0.\n",
    "\n",
    "### filter\n",
    "\n",
    "The next important higher-order function is `filter`."
   ]
  },
  {
   "cell_type": "code",
   "execution_count": 11,
   "metadata": {},
   "outputs": [
    {
     "data": {
      "text/plain": [
       "2-element Array{Int64,1}:\n",
       " 1\n",
       " 3"
      ]
     },
     "execution_count": 11,
     "metadata": {},
     "output_type": "execute_result"
    }
   ],
   "source": [
    "\"\"\"\n",
    "Filtering odd numbers\n",
    "\"\"\"\n",
    "function fil(x::Int64)::Bool\n",
    "    x & 1 # same as x % 2 == 1\n",
    "end\n",
    "filter(fil, [1, 2, 3])"
   ]
  },
  {
   "cell_type": "markdown",
   "metadata": {},
   "source": [
    "A lazy version is the following."
   ]
  },
  {
   "cell_type": "code",
   "execution_count": 12,
   "metadata": {},
   "outputs": [
    {
     "data": {
      "text/plain": [
       "Base.Iterators.Filter{typeof(fil),UnitRange{Int64}}(fil, 1:5)"
      ]
     },
     "execution_count": 12,
     "metadata": {},
     "output_type": "execute_result"
    }
   ],
   "source": [
    "const iter = Iterators.filter(fil, 1 : 5)"
   ]
  },
  {
   "cell_type": "markdown",
   "metadata": {},
   "source": [
    "This lazy function again returns something abstract called `Iterators.Filter`."
   ]
  },
  {
   "cell_type": "code",
   "execution_count": 13,
   "metadata": {},
   "outputs": [
    {
     "data": {
      "text/plain": [
       "3-element Array{Int64,1}:\n",
       " 1\n",
       " 3\n",
       " 5"
      ]
     },
     "execution_count": 13,
     "metadata": {},
     "output_type": "execute_result"
    }
   ],
   "source": [
    "collect(iter)"
   ]
  },
  {
   "cell_type": "markdown",
   "metadata": {},
   "source": [
    "Finally, every abstract thing was embodied!\n",
    "\n",
    "### reduce\n",
    "\n",
    "In Julia, operators are functions."
   ]
  },
  {
   "cell_type": "code",
   "execution_count": 14,
   "metadata": {},
   "outputs": [
    {
     "data": {
      "text/plain": [
       "5"
      ]
     },
     "execution_count": 14,
     "metadata": {},
     "output_type": "execute_result"
    }
   ],
   "source": [
    "+(2, 3)"
   ]
  },
  {
   "cell_type": "markdown",
   "metadata": {},
   "source": [
    "This resembles Lisp.\n",
    "\n",
    "~ figure will be inserted ~"
   ]
  },
  {
   "cell_type": "code",
   "execution_count": 15,
   "metadata": {},
   "outputs": [
    {
     "data": {
      "text/plain": [
       "6"
      ]
     },
     "execution_count": 15,
     "metadata": {},
     "output_type": "execute_result"
    }
   ],
   "source": [
    "reduce(+, [1, 2, 3])"
   ]
  },
  {
   "cell_type": "markdown",
   "metadata": {},
   "source": [
    "It is simple to write just:"
   ]
  },
  {
   "cell_type": "code",
   "execution_count": 16,
   "metadata": {},
   "outputs": [
    {
     "data": {
      "text/plain": [
       "6"
      ]
     },
     "execution_count": 16,
     "metadata": {},
     "output_type": "execute_result"
    }
   ],
   "source": [
    "sum([1, 2, 3])"
   ]
  },
  {
   "cell_type": "markdown",
   "metadata": {},
   "source": [
    "Functions like `sum` and `prod` (`reduce` with `+` and `*`) are generally called \"reduce.\"\n",
    "\n",
    "You should be careful if the function is not associative."
   ]
  },
  {
   "cell_type": "code",
   "execution_count": 17,
   "metadata": {},
   "outputs": [
    {
     "data": {
      "text/plain": [
       "0"
      ]
     },
     "execution_count": 17,
     "metadata": {},
     "output_type": "execute_result"
    }
   ],
   "source": [
    "reduce(-, [3, 2, 1])"
   ]
  },
  {
   "cell_type": "markdown",
   "metadata": {},
   "source": [
    "Reduction is done from left to right here. `reduce` is usually used in combination with `map`."
   ]
  },
  {
   "cell_type": "code",
   "execution_count": 18,
   "metadata": {},
   "outputs": [
    {
     "data": {
      "text/plain": [
       "14"
      ]
     },
     "execution_count": 18,
     "metadata": {},
     "output_type": "execute_result"
    }
   ],
   "source": [
    "mapreduce(square, +, [1, 2, 3])"
   ]
  },
  {
   "cell_type": "markdown",
   "metadata": {},
   "source": [
    "`accumulate` is a cousin of `reduce`:"
   ]
  },
  {
   "cell_type": "code",
   "execution_count": 19,
   "metadata": {},
   "outputs": [
    {
     "data": {
      "text/plain": [
       "3-element Array{Int64,1}:\n",
       " 1\n",
       " 3\n",
       " 6"
      ]
     },
     "execution_count": 19,
     "metadata": {},
     "output_type": "execute_result"
    }
   ],
   "source": [
    "accumulate(+, [1, 2, 3])"
   ]
  },
  {
   "cell_type": "markdown",
   "metadata": {},
   "source": [
    "If you have time, let's try writing a code for a lazy version of `accumulate`!\n",
    "\n",
    "### foreach\n",
    "\n",
    "`map`, `filter` and `reduce` were the three most important functions. Compared to those, `foreach` is not important because it can be written instead by a \"for loop.\" `foreach` just reduces the length of your code."
   ]
  },
  {
   "cell_type": "code",
   "execution_count": 20,
   "metadata": {},
   "outputs": [
    {
     "name": "stdout",
     "output_type": "stream",
     "text": [
      "abc\n",
      "def\n"
     ]
    }
   ],
   "source": [
    "foreach(println, [\"abc\", \"def\"])"
   ]
  },
  {
   "cell_type": "markdown",
   "metadata": {},
   "source": [
    "is same as"
   ]
  },
  {
   "cell_type": "code",
   "execution_count": 21,
   "metadata": {},
   "outputs": [
    {
     "name": "stdout",
     "output_type": "stream",
     "text": [
      "abc\n",
      "def\n"
     ]
    }
   ],
   "source": [
    "for str in [\"abc\", \"def\"]\n",
    "    println(str)\n",
    "end"
   ]
  },
  {
   "cell_type": "markdown",
   "metadata": {},
   "source": [
    "### zip\n",
    "\n",
    "`zip` for arrays is not a higher-order function in a strict sense, but I will introduce it here because it is usually used in combination with other higher-order functions."
   ]
  },
  {
   "cell_type": "code",
   "execution_count": 22,
   "metadata": {},
   "outputs": [
    {
     "data": {
      "text/plain": [
       "Base.Iterators.Zip2{Array{Int64,1},Array{Int64,1}}([1, 2, 3], [4, 5, 6])"
      ]
     },
     "execution_count": 22,
     "metadata": {},
     "output_type": "execute_result"
    }
   ],
   "source": [
    "const z = zip([1, 2, 3], [4, 5, 6])"
   ]
  },
  {
   "cell_type": "markdown",
   "metadata": {},
   "source": [
    "`zip` is already lazy, so we have to collect."
   ]
  },
  {
   "cell_type": "code",
   "execution_count": 23,
   "metadata": {},
   "outputs": [
    {
     "data": {
      "text/plain": [
       "3-element Array{Tuple{Int64,Int64},1}:\n",
       " (1, 4)\n",
       " (2, 5)\n",
       " (3, 6)"
      ]
     },
     "execution_count": 23,
     "metadata": {},
     "output_type": "execute_result"
    }
   ],
   "source": [
    "collect(z)"
   ]
  },
  {
   "cell_type": "markdown",
   "metadata": {},
   "source": [
    "If one of the UnitRanges (arrays/iterators) stops, then everybody stops."
   ]
  },
  {
   "cell_type": "code",
   "execution_count": 24,
   "metadata": {},
   "outputs": [
    {
     "name": "stdout",
     "output_type": "stream",
     "text": [
      "(1, 3)\n",
      "(2, 4)\n"
     ]
    }
   ],
   "source": [
    "foreach(println, zip(1 : 2, 3 : 6))"
   ]
  },
  {
   "cell_type": "markdown",
   "metadata": {},
   "source": [
    "It is useful to remember that \"zip unzips zip.\""
   ]
  },
  {
   "cell_type": "code",
   "execution_count": 25,
   "metadata": {},
   "outputs": [
    {
     "data": {
      "text/plain": [
       "3-element Array{Tuple{Int64,Int64,Int64},1}:\n",
       " (1, 2, 3)\n",
       " (2, 3, 4)\n",
       " (3, 4, 5)"
      ]
     },
     "execution_count": 25,
     "metadata": {},
     "output_type": "execute_result"
    }
   ],
   "source": [
    "const tuple = ([1, 2, 3], [2, 3, 4], [3, 4, 5])\n",
    "collect(zip(zip(tuple...)...)) # tuple... means that Tuple is expanded as arguments."
   ]
  },
  {
   "cell_type": "markdown",
   "metadata": {},
   "source": [
    "## Anonymous functions and Currying\n",
    "\n",
    "Anonymous functions (lambda expressions) are very useful. First, there are two ways to define a function."
   ]
  },
  {
   "cell_type": "code",
   "execution_count": 26,
   "metadata": {},
   "outputs": [
    {
     "data": {
      "text/plain": [
       "2.5"
      ]
     },
     "execution_count": 26,
     "metadata": {},
     "output_type": "execute_result"
    }
   ],
   "source": [
    "\"\"\"\n",
    "Mean of two values\n",
    "\"\"\"\n",
    "function mean1(x, y)::Float64\n",
    "    (x + y) / 2\n",
    "end\n",
    "mean1(2.0, 3.0)"
   ]
  },
  {
   "cell_type": "code",
   "execution_count": 27,
   "metadata": {},
   "outputs": [
    {
     "data": {
      "text/plain": [
       "2.5"
      ]
     },
     "execution_count": 27,
     "metadata": {},
     "output_type": "execute_result"
    }
   ],
   "source": [
    "mean2(x, y)::Float64 = (x + y) / 2\n",
    "mean2(2.0, 3.0)"
   ]
  },
  {
   "cell_type": "markdown",
   "metadata": {},
   "source": [
    "In addition, there is a way to define a function without a name."
   ]
  },
  {
   "cell_type": "code",
   "execution_count": 28,
   "metadata": {},
   "outputs": [
    {
     "data": {
      "text/plain": [
       "#3 (generic function with 1 method)"
      ]
     },
     "execution_count": 28,
     "metadata": {},
     "output_type": "execute_result"
    }
   ],
   "source": [
    "mean3 = (x, y) -> (x + y) / 2"
   ]
  },
  {
   "cell_type": "markdown",
   "metadata": {},
   "source": [
    "Since this has no name, the substance of this function is just a number. A function itself is an object."
   ]
  },
  {
   "cell_type": "code",
   "execution_count": 29,
   "metadata": {},
   "outputs": [
    {
     "data": {
      "text/plain": [
       "5"
      ]
     },
     "execution_count": 29,
     "metadata": {},
     "output_type": "execute_result"
    }
   ],
   "source": [
    "func = +\n",
    "func(2, 3)"
   ]
  },
  {
   "cell_type": "markdown",
   "metadata": {},
   "source": [
    "~ under construction ~"
   ]
  },
  {
   "cell_type": "code",
   "execution_count": 30,
   "metadata": {},
   "outputs": [
    {
     "data": {
      "text/plain": [
       "5"
      ]
     },
     "execution_count": 30,
     "metadata": {},
     "output_type": "execute_result"
    }
   ],
   "source": [
    "curriedfunc(x) = y -> func(x, y)\n",
    "curriedfunc(2)(3)"
   ]
  },
  {
   "cell_type": "code",
   "execution_count": 31,
   "metadata": {},
   "outputs": [
    {
     "data": {
      "text/plain": [
       "3-element Array{Int64,1}:\n",
       " 3\n",
       " 4\n",
       " 5"
      ]
     },
     "execution_count": 31,
     "metadata": {},
     "output_type": "execute_result"
    }
   ],
   "source": [
    "map(curriedfunc(2), [1, 2, 3])"
   ]
  },
  {
   "cell_type": "markdown",
   "metadata": {},
   "source": [
    "## Recursion"
   ]
  },
  {
   "cell_type": "code",
   "execution_count": 32,
   "metadata": {},
   "outputs": [
    {
     "data": {
      "text/plain": [
       "832040"
      ]
     },
     "execution_count": 32,
     "metadata": {},
     "output_type": "execute_result"
    }
   ],
   "source": [
    "\"\"\"\n",
    "Fibonacci numbers\n",
    "\n",
    "only works for n >= 0\n",
    "\"\"\"\n",
    "function fib(n::Int64)::Int64\n",
    "    if n < 2\n",
    "        n\n",
    "    else\n",
    "        fib(n - 2) + fib(n - 1)\n",
    "    end\n",
    "end\n",
    "fib(30)"
   ]
  },
  {
   "cell_type": "markdown",
   "metadata": {},
   "source": [
    "This is slow because the same number is calculated many times."
   ]
  },
  {
   "cell_type": "code",
   "execution_count": 33,
   "metadata": {},
   "outputs": [
    {
     "data": {
      "text/plain": [
       "12586269025"
      ]
     },
     "execution_count": 33,
     "metadata": {},
     "output_type": "execute_result"
    }
   ],
   "source": [
    "\"\"\"\n",
    "Fibonacci numbers with a tail call\n",
    "\"\"\"\n",
    "function fibtail(n::Int64, a = 0, b = 1)::Int64\n",
    "    if n < 1\n",
    "        a\n",
    "    else\n",
    "        fibtail(n - 1, b, a + b)\n",
    "    end\n",
    "end\n",
    "fibtail(50)"
   ]
  },
  {
   "cell_type": "markdown",
   "metadata": {},
   "source": [
    "In most cases, writing functions by recursion is not a good strategy in Julia because tail call optimization is not supported (currently in Julia 1.0). Writing a loop explicitly is much better in most cases.\n",
    "\n",
    "## Type stability\n",
    "\n",
    "This is something specific to Julia, but very important. Julia has a strong type system, although Julia itself has dynamical typing. This is made possible by a strong type inference machine before compilation.\n",
    "\n",
    "~ under construction ~\n",
    "\n",
    "This is a very very bad code."
   ]
  },
  {
   "cell_type": "code",
   "execution_count": 34,
   "metadata": {},
   "outputs": [
    {
     "data": {
      "text/plain": [
       "θbad (generic function with 1 method)"
      ]
     },
     "execution_count": 34,
     "metadata": {},
     "output_type": "execute_result"
    }
   ],
   "source": [
    "θbad(x) = x > 0 ? 1.0 : 0"
   ]
  },
  {
   "cell_type": "code",
   "execution_count": 35,
   "metadata": {},
   "outputs": [
    {
     "data": {
      "text/plain": [
       "5-element Array{Real,1}:\n",
       " 0  \n",
       " 0  \n",
       " 0  \n",
       " 1.0\n",
       " 1.0"
      ]
     },
     "execution_count": 35,
     "metadata": {},
     "output_type": "execute_result"
    }
   ],
   "source": [
    "θbad.([-2, -1, 0, 1, 2])"
   ]
  },
  {
   "cell_type": "markdown",
   "metadata": {},
   "source": [
    "This is called type instable because the type is different depending on the value of `x`. Real is something abstract including both integers and floating point numbers\n",
    "\n",
    "You should instead write:"
   ]
  },
  {
   "cell_type": "code",
   "execution_count": 36,
   "metadata": {},
   "outputs": [
    {
     "data": {
      "text/plain": [
       "5-element Array{Int64,1}:\n",
       " 0\n",
       " 0\n",
       " 0\n",
       " 1\n",
       " 1"
      ]
     },
     "execution_count": 36,
     "metadata": {},
     "output_type": "execute_result"
    }
   ],
   "source": [
    "θint(x)::Int64 = x > 0 ? 1 : 0\n",
    "θint.([-2, -1, 0, 1, 2])"
   ]
  },
  {
   "cell_type": "markdown",
   "metadata": {},
   "source": [
    "Or"
   ]
  },
  {
   "cell_type": "code",
   "execution_count": 37,
   "metadata": {},
   "outputs": [
    {
     "data": {
      "text/plain": [
       "5-element Array{Float64,1}:\n",
       " 0.0\n",
       " 0.0\n",
       " 0.0\n",
       " 1.0\n",
       " 1.0"
      ]
     },
     "execution_count": 37,
     "metadata": {},
     "output_type": "execute_result"
    }
   ],
   "source": [
    "θfloat(x)::Float64 = x > 0 ? 1.0 : 0.0\n",
    "θfloat.([-2, -1, 0, 1, 2])"
   ]
  },
  {
   "cell_type": "markdown",
   "metadata": {},
   "source": [
    "However, I thik it is better to determine the type based on the input."
   ]
  },
  {
   "cell_type": "code",
   "execution_count": 38,
   "metadata": {},
   "outputs": [
    {
     "data": {
      "text/plain": [
       "5-element Array{Float64,1}:\n",
       " 0.0\n",
       " 0.0\n",
       " 0.0\n",
       " 1.0\n",
       " 1.0"
      ]
     },
     "execution_count": 38,
     "metadata": {},
     "output_type": "execute_result"
    }
   ],
   "source": [
    "\"\"\"\n",
    "Heaviside theta\n",
    "\"\"\"\n",
    "function θ(x::T)::T where T\n",
    "    ifelse(x > 0, 1, 0)\n",
    "end\n",
    "θ.([-2, -1, 0.0, 1, 2.0])"
   ]
  },
  {
   "cell_type": "markdown",
   "metadata": {},
   "source": [
    "I recommend to write a type indicator as much as possible for every function.\n",
    "\n",
    "## Tips: Nondeterministic unit test\n",
    "\n",
    "Apparently, generating a (pseudo-)random number is a side effect because it changes its return value every time (or more accurately `rand()` function has its own internal state)."
   ]
  },
  {
   "cell_type": "code",
   "execution_count": 48,
   "metadata": {},
   "outputs": [
    {
     "name": "stdout",
     "output_type": "stream",
     "text": [
      "0.795663004491048\n",
      "0.5060834942954711\n"
     ]
    }
   ],
   "source": [
    "println(rand())\n",
    "println(rand());"
   ]
  },
  {
   "cell_type": "markdown",
   "metadata": {},
   "source": [
    "Therefore, the following function is not referentially transparent."
   ]
  },
  {
   "cell_type": "code",
   "execution_count": 49,
   "metadata": {},
   "outputs": [
    {
     "data": {
      "text/plain": [
       "3.1276"
      ]
     },
     "execution_count": 49,
     "metadata": {},
     "output_type": "execute_result"
    }
   ],
   "source": [
    "function calcπ()\n",
    "    hit = 0\n",
    "    for i in 1 : 10000\n",
    "        x = rand()\n",
    "        y = rand()\n",
    "        if x ^ 2 + y ^ 2 < 1.0\n",
    "            hit += 1\n",
    "        end\n",
    "    end\n",
    "    4.0 * (hit / 10000)\n",
    "end\n",
    "calcπ()"
   ]
  },
  {
   "cell_type": "markdown",
   "metadata": {},
   "source": [
    "In order to separate the transparent part simply, just gives random values as arguments."
   ]
  },
  {
   "cell_type": "code",
   "execution_count": 50,
   "metadata": {},
   "outputs": [
    {
     "data": {
      "text/plain": [
       "3.1488"
      ]
     },
     "execution_count": 50,
     "metadata": {},
     "output_type": "execute_result"
    }
   ],
   "source": [
    "function calcπ(xlist::Vector{Float64}, ylist::Vector{Float64})\n",
    "    zlist = zip(xlist, ylist)\n",
    "    hit = length(collect(Iterators.filter(z -> z[1] ^ 2 + z[2] ^ 2 < 1.0, zlist)))\n",
    "    4.0 * (hit / length(zlist))\n",
    "end\n",
    "calcπ(rand(10000), rand(10000))"
   ]
  },
  {
   "cell_type": "markdown",
   "metadata": {},
   "source": [
    "In this way, the function `calcπ` can be made pure. Another way is the following.\n",
    "\n",
    "~ under construction ~"
   ]
  },
  {
   "cell_type": "markdown",
   "metadata": {},
   "source": [
    "It seems very much like overengineering. In the case of modern functional languages like Haskell, there is a system called monad (especially State Monad) to elegantly make a function pure hiding any side effect."
   ]
  },
  {
   "cell_type": "code",
   "execution_count": null,
   "metadata": {},
   "outputs": [],
   "source": []
  }
 ],
 "metadata": {
  "kernelspec": {
   "display_name": "Julia 1.0.2",
   "language": "julia",
   "name": "julia-1.0"
  },
  "language_info": {
   "file_extension": ".jl",
   "mimetype": "application/julia",
   "name": "julia",
   "version": "1.0.2"
  }
 },
 "nbformat": 4,
 "nbformat_minor": 2
}
