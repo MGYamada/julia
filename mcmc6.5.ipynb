{
 "cells": [
  {
   "cell_type": "markdown",
   "metadata": {},
   "source": [
    "# MCMC6.5: Machine Learning and Bayesian Statistics (Self-Learning Monte Carlo)\n",
    "\n",
    "We will introduce the notion of self-learning Monte Carlo. In the case of the Hubbard model QMC, usually replica exchange is not as effective as the Kitaev model. This is due to the small overlap between the two distributions with different temperatures. In this case, the self-learning Monte Carlo should be an alternative global update algorithm.\n",
    "\n",
    "## Bayesian inference"
   ]
  },
  {
   "cell_type": "code",
   "execution_count": null,
   "metadata": {},
   "outputs": [],
   "source": []
  }
 ],
 "metadata": {
  "kernelspec": {
   "display_name": "Julia 1.0.2",
   "language": "julia",
   "name": "julia-1.0"
  },
  "language_info": {
   "file_extension": ".jl",
   "mimetype": "application/julia",
   "name": "julia",
   "version": "1.0.2"
  }
 },
 "nbformat": 4,
 "nbformat_minor": 2
}
