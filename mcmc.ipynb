{
 "cells": [
  {
   "cell_type": "markdown",
   "metadata": {},
   "source": [
    "# Basics on Markov chain Monte Carlo and Physics applications\n",
    "## Metropolis-(Hastings) algorithm\n",
    "The Metropolis-Hastings algorithm is the most important and most popular tool in Markov chain Monte Carlo (MCMC), Bayesian statistics, and physics simulations. It is universal and applicable when you wish to generate any kinds of distributions. The other methods usually have some restrictions, so if you do not know how to use another one like a Gibbs sampler, you should choose the Metropolis-Hastings method."
   ]
  },
  {
   "cell_type": "markdown",
   "metadata": {},
   "source": [
    "### Classical Monte Carlo simulation for Ising model\n",
    "As a typical example, I will present a simple Julia implimentation of the Monte Carlo simuplation of the 2D Ising model on the square lattice. The Metropolis rule is simply give by the following function."
   ]
  },
  {
   "cell_type": "code",
   "execution_count": null,
   "metadata": {},
   "outputs": [],
   "source": []
  }
 ],
 "metadata": {
  "kernelspec": {
   "display_name": "Julia 0.6.2",
   "language": "julia",
   "name": "julia-0.6"
  },
  "language_info": {
   "file_extension": ".jl",
   "mimetype": "application/julia",
   "name": "julia",
   "version": "0.6.2"
  }
 },
 "nbformat": 4,
 "nbformat_minor": 2
}
