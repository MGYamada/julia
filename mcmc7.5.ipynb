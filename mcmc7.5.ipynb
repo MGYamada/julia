{
 "cells": [
  {
   "cell_type": "markdown",
   "metadata": {},
   "source": [
    "# MCMC7.5: Sparse Modeling and Analytic Continuation\n",
    "\n",
    "As seen in the Hubbard model calculations, Green functions are outputted as a function of imaginary time. In order to go to the real time we need analytic continuation. Analytic continuation of noizy statistical data is a difficult problem and there are many algorithms. Among them sparse modeling is the simplest and most generic way, so I will introduce analytic continuation using sparse modeling.\n",
    "(See also https://spm-lab.github.io/SpM/manual/build/html/index.html)\n",
    "\n",
    "## What is sparse modeling?"
   ]
  },
  {
   "cell_type": "code",
   "execution_count": null,
   "metadata": {},
   "outputs": [],
   "source": []
  },
  {
   "cell_type": "markdown",
   "metadata": {},
   "source": [
    "## Sparse modeling of the Hubbard model\n",
    "\n",
    "See also https://journals.aps.org/prb/abstract/10.1103/PhysRevB.97.075114."
   ]
  },
  {
   "cell_type": "code",
   "execution_count": null,
   "metadata": {},
   "outputs": [],
   "source": []
  }
 ],
 "metadata": {
  "kernelspec": {
   "display_name": "Julia 1.0.2",
   "language": "julia",
   "name": "julia-1.0"
  },
  "language_info": {
   "file_extension": ".jl",
   "mimetype": "application/julia",
   "name": "julia",
   "version": "1.0.2"
  }
 },
 "nbformat": 4,
 "nbformat_minor": 2
}
