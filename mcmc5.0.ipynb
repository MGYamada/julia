{
 "cells": [
  {
   "cell_type": "markdown",
   "metadata": {},
   "source": [
    "# MCMC5.0: Comparison to Exact Diagonalization\n",
    "\n",
    "To search for the ground state of the physical Hamiltonian, we do not need to diagonalize the Hamiltonian completely. It is enough to find an eigenstate with the lowest energy. Such a partial problem can be solved by iterative methods, and they are implemented in Arpack.jl. This alrogithm may also works for finite temperatures.\n",
    "*In some cases, Python code works better for this type of problems.*\n",
    "\n",
    "## Sparse matrix revisited\n",
    "\n",
    "As seen in MCMC2.5, Julia does not natively support the diagonalization of the sparse matrix, so we need a package called Arpack.jl."
   ]
  },
  {
   "cell_type": "code",
   "execution_count": 1,
   "metadata": {},
   "outputs": [],
   "source": [
    "using Arpack"
   ]
  },
  {
   "cell_type": "markdown",
   "metadata": {},
   "source": [
    "Note that installing Arpack.jl in Julia with Intel MKL takes some efforts."
   ]
  },
  {
   "cell_type": "code",
   "execution_count": 2,
   "metadata": {},
   "outputs": [
    {
     "data": {
      "text/plain": [
       "10×10 Array{Float64,2}:\n",
       " 0.873769   0.35205   0.441976  0.705571  …  0.52925    0.259804   0.513547\n",
       " 0.406966   0.959008  0.217939  0.599653     0.145915   0.964441   0.275934\n",
       " 0.231823   0.609066  0.493699  0.718346     0.378626   0.289803   0.436656\n",
       " 0.758343   0.591039  0.489297  0.746825     0.614907   0.148434   0.757767\n",
       " 0.212803   0.270266  0.149354  0.409468     0.126191   0.433155   0.62431 \n",
       " 0.654933   0.591772  0.517532  0.81958   …  0.469206   0.0410611  0.71021 \n",
       " 0.456819   0.446976  0.283556  0.514155     0.374452   0.433765   0.498613\n",
       " 0.0992969  0.600846  0.331769  0.696788     0.903143   0.706671   0.183501\n",
       " 0.236899   0.202093  0.3781    0.458486     0.193002   0.191378   0.689123\n",
       " 0.26472    0.660216  0.338038  0.953737     0.0341739  0.285125   0.653545"
      ]
     },
     "execution_count": 2,
     "metadata": {},
     "output_type": "execute_result"
    }
   ],
   "source": [
    "const A = rand(10, 10)"
   ]
  },
  {
   "cell_type": "code",
   "execution_count": 3,
   "metadata": {},
   "outputs": [
    {
     "data": {
      "text/plain": [
       "2-element Array{Complex{Float64},1}:\n",
       " 4.8584510167003145 + 0.0im                \n",
       " 0.5654703745008476 + 0.38748527880890515im"
      ]
     },
     "execution_count": 3,
     "metadata": {},
     "output_type": "execute_result"
    }
   ],
   "source": [
    "λ, ϕ = eigs(A, nev = 2)\n",
    "λ"
   ]
  },
  {
   "cell_type": "code",
   "execution_count": 4,
   "metadata": {},
   "outputs": [
    {
     "data": {
      "text/plain": [
       "10-element Array{Complex{Float64},1}:\n",
       "    4.858451016700311 + 0.0im               \n",
       "   0.5654703745008471 + 0.3874852788089051im\n",
       "   0.5654703745008471 - 0.3874852788089051im\n",
       "   0.6480199046257286 + 0.0im               \n",
       " -0.18139622823213894 + 0.4683013133050141im\n",
       " -0.18139622823213894 - 0.4683013133050141im\n",
       " -0.46862539936925257 + 0.0im               \n",
       "  0.11323995601560476 + 0.1609718887807005im\n",
       "  0.11323995601560476 - 0.1609718887807005im\n",
       " -0.18616450958659048 + 0.0im               "
      ]
     },
     "execution_count": 4,
     "metadata": {},
     "output_type": "execute_result"
    }
   ],
   "source": [
    "using LinearAlgebra\n",
    "eigvals(A)"
   ]
  },
  {
   "cell_type": "markdown",
   "metadata": {},
   "source": [
    "It is clear that eigs takes 2 of the whole eigenvalues approximately (almost exactly). Such iterative methods in Arpack is important in the case we do not need every spectrum.\n",
    "\n",
    "More importantly, Arpack supports sparse matrices (and even abstract LinearMaps), so the diagonalization of sparse matrices becomes very fast."
   ]
  },
  {
   "cell_type": "code",
   "execution_count": 5,
   "metadata": {},
   "outputs": [
    {
     "data": {
      "text/plain": [
       "1000×1000 SparseMatrixCSC{Float64,Int64} with 19798 stored entries:\n",
       "  [22  ,    1]  =  0.332715\n",
       "  [143 ,    1]  =  0.0908134\n",
       "  [151 ,    1]  =  0.861521\n",
       "  [181 ,    1]  =  0.466427\n",
       "  [202 ,    1]  =  0.432216\n",
       "  [216 ,    1]  =  0.103499\n",
       "  [234 ,    1]  =  0.512066\n",
       "  [264 ,    1]  =  0.569278\n",
       "  [309 ,    1]  =  0.990905\n",
       "  [369 ,    1]  =  0.505866\n",
       "  [373 ,    1]  =  0.860516\n",
       "  [387 ,    1]  =  0.506338\n",
       "  ⋮\n",
       "  [988 ,  999]  =  0.842072\n",
       "  [186 , 1000]  =  0.790944\n",
       "  [248 , 1000]  =  0.0391279\n",
       "  [257 , 1000]  =  0.70692\n",
       "  [317 , 1000]  =  0.308294\n",
       "  [360 , 1000]  =  0.623788\n",
       "  [539 , 1000]  =  0.883436\n",
       "  [658 , 1000]  =  0.987607\n",
       "  [705 , 1000]  =  0.686796\n",
       "  [799 , 1000]  =  0.734951\n",
       "  [930 , 1000]  =  1.15304\n",
       "  [936 , 1000]  =  0.337885"
      ]
     },
     "execution_count": 5,
     "metadata": {},
     "output_type": "execute_result"
    }
   ],
   "source": [
    "using SparseArrays\n",
    "B = sparse(rand(1:1000, 20000), rand(1:1000, 20000), rand(20000))\n",
    "B"
   ]
  },
  {
   "cell_type": "code",
   "execution_count": 6,
   "metadata": {},
   "outputs": [
    {
     "data": {
      "text/plain": [
       "1-element Array{Complex{Float64},1}:\n",
       " 10.022193903389626 + 0.0im"
      ]
     },
     "execution_count": 6,
     "metadata": {},
     "output_type": "execute_result"
    }
   ],
   "source": [
    "λ, ϕ = eigs(B, nev = 1)\n",
    "λ"
   ]
  },
  {
   "cell_type": "code",
   "execution_count": 7,
   "metadata": {},
   "outputs": [
    {
     "data": {
      "text/plain": [
       "1000-element Array{Complex{Float64},1}:\n",
       "    10.022193903389601 + 0.0im                \n",
       "   -2.5736476436621425 + 0.5363526066694606im \n",
       "   -2.5736476436621425 - 0.5363526066694606im \n",
       "   -2.0915715787587885 + 1.5289088854516166im \n",
       "   -2.0915715787587885 - 1.5289088854516166im \n",
       "   -2.3433802917452553 + 1.1115036887900058im \n",
       "   -2.3433802917452553 - 1.1115036887900058im \n",
       "   -1.7505301833198335 + 1.874976985126283im  \n",
       "   -1.7505301833198335 - 1.874976985126283im  \n",
       "    -2.489288909775678 + 0.5496673363351333im \n",
       "    -2.489288909775678 - 0.5496673363351333im \n",
       "   -1.5076582623360744 + 2.0804470980523013im \n",
       "   -1.5076582623360744 - 2.0804470980523013im \n",
       "                       ⋮                      \n",
       "   0.28547455357415114 - 0.11006492380243947im\n",
       "   0.18313132899507778 + 0.1616425031495412im \n",
       "   0.18313132899507778 - 0.1616425031495412im \n",
       "  -0.07611348131411022 + 0.0im                \n",
       "  -0.17713873599606306 + 0.04419661916460532im\n",
       "  -0.17713873599606306 - 0.04419661916460532im\n",
       " -0.009423169743988324 + 0.1106307032855635im \n",
       " -0.009423169743988324 - 0.1106307032855635im \n",
       "   0.07023311345955219 + 0.04413255831121094im\n",
       "   0.07023311345955219 - 0.04413255831121094im\n",
       "  0.020312361914317643 + 0.0714498733116615im \n",
       "  0.020312361914317643 - 0.0714498733116615im "
      ]
     },
     "execution_count": 7,
     "metadata": {},
     "output_type": "execute_result"
    }
   ],
   "source": [
    "eigvals(Array(B))"
   ]
  },
  {
   "cell_type": "markdown",
   "metadata": {},
   "source": [
    "If you only need a few eigenvalues and eigenstates, eigs is much faster.\n",
    "\n",
    "## Exact diagonalization of many-body Hamiltonians"
   ]
  },
  {
   "cell_type": "code",
   "execution_count": 8,
   "metadata": {},
   "outputs": [
    {
     "data": {
      "text/plain": [
       "openhoneycomb (generic function with 1 method)"
      ]
     },
     "execution_count": 8,
     "metadata": {},
     "output_type": "execute_result"
    }
   ],
   "source": [
    "function openhoneycomb(Lx::Int64, Ly::Int64)::Tuple\n",
    "    N = 2Lx * Ly\n",
    "    nnx = zip(1 : 2 : (N - 1), 2 : 2 : N)\n",
    "    nny = Iterators.flatten((zip((1 + 2i) : 2Lx : (2Lx * (Ly - 1)  + 1 + 2i), 2i : 2Lx : (2Lx * (Ly - 1)  + 2i)) for i in 1 : (Lx - 1)))\n",
    "    nnz = zip(1 : 2 : (N - 1), Iterators.flatten(((2Lx + 2) : 2 : N, 2 : 2 : 2Lx)))\n",
    "    N, nnx, nny, nnz\n",
    "end"
   ]
  },
  {
   "cell_type": "code",
   "execution_count": 9,
   "metadata": {},
   "outputs": [
    {
     "data": {
      "text/plain": [
       "2×2 SparseMatrixCSC{Complex{Float64},Int64} with 2 stored entries:\n",
       "  [1, 1]  =  1.0+0.0im\n",
       "  [2, 2]  =  -1.0+0.0im"
      ]
     },
     "execution_count": 9,
     "metadata": {},
     "output_type": "execute_result"
    }
   ],
   "source": [
    "const σx = sparse(Complex{Float64}[0.0 1.0; 1.0 0.0])\n",
    "const σy = sparse(Complex{Float64}[0.0 -1.0im; 1.0im 0.0])\n",
    "const σz = sparse(Complex{Float64}[1.0 0.0; 0.0 -1.0])"
   ]
  },
  {
   "cell_type": "markdown",
   "metadata": {},
   "source": [
    "$ I_1 \\otimes I_2 \\otimes \\dots \\otimes \\sigma_i \\otimes \\dots \\otimes I_{N-1} \\otimes I_N$"
   ]
  },
  {
   "cell_type": "code",
   "execution_count": 10,
   "metadata": {},
   "outputs": [
    {
     "data": {
      "text/plain": [
       "4×4 Array{Complex{Float64},2}:\n",
       " 0.0+0.0im  1.0+0.0im  0.0+0.0im  0.0+0.0im\n",
       " 1.0+0.0im  0.0+0.0im  0.0+0.0im  0.0+0.0im\n",
       " 0.0+0.0im  0.0+0.0im  0.0+0.0im  1.0+0.0im\n",
       " 0.0+0.0im  0.0+0.0im  1.0+0.0im  0.0+0.0im"
      ]
     },
     "execution_count": 10,
     "metadata": {},
     "output_type": "execute_result"
    }
   ],
   "source": [
    "\"\"\"\n",
    "Returning Pauli operators at ith site\n",
    "\n",
    "σ must be a Pauli matrix\n",
    "\"\"\"\n",
    "function spinoperators(σ::SparseMatrixCSC{Complex{Float64},Int64}, i::Int64, N::Int64)::SparseMatrixCSC{Complex{Float64},Int64}\n",
    "    if N < 1\n",
    "        throw(DomainError(N, \"argument must be positive\"))\n",
    "    elseif i == 1 && N == 1\n",
    "        σ\n",
    "    elseif N == 1\n",
    "        sparse(I, 2, 2)\n",
    "    elseif i == N\n",
    "        kron(spinoperators(σ, i, N - 1), σ)\n",
    "    else\n",
    "        kron(spinoperators(σ, i, N - 1), sparse(I, 2, 2))\n",
    "    end\n",
    "end\n",
    "Array(spinoperators(σx, 2, 2))"
   ]
  },
  {
   "cell_type": "markdown",
   "metadata": {},
   "source": [
    "This is a slow recursive code, but it does not matter for our purpose. Actually, in this case, two Kronecker products is enough.\n",
    "\n",
    "**Exercise1**: Rewrite \"spinoperators\" not using a loop or recursion."
   ]
  },
  {
   "cell_type": "code",
   "execution_count": 11,
   "metadata": {},
   "outputs": [],
   "source": [
    "N, nnx, nny, nnz = openhoneycomb(2, 2)\n",
    "σi = map(x -> spinoperators(x..., N), Iterators.product([σx, σy, σz], 1 : N));"
   ]
  },
  {
   "cell_type": "markdown",
   "metadata": {},
   "source": [
    "Now a many-body Hamiltonian can be constructed simply."
   ]
  },
  {
   "cell_type": "code",
   "execution_count": 12,
   "metadata": {},
   "outputs": [
    {
     "data": {
      "text/plain": [
       "256×256 SparseMatrixCSC{Complex{Float64},Int64} with 1696 stored entries:\n",
       "  [1  ,   1]  =  1.33333+0.0im\n",
       "  [4  ,   1]  =  0.333333+0.0im\n",
       "  [7  ,   1]  =  -0.333333+0.0im\n",
       "  [13 ,   1]  =  0.333333+0.0im\n",
       "  [49 ,   1]  =  0.333333+0.0im\n",
       "  [97 ,   1]  =  -0.333333+0.0im\n",
       "  [193,   1]  =  0.333333+0.0im\n",
       "  [2  ,   2]  =  0.666667+0.0im\n",
       "  [3  ,   2]  =  0.333333+0.0im\n",
       "  [8  ,   2]  =  -0.333333+0.0im\n",
       "  [14 ,   2]  =  0.333333+0.0im\n",
       "  [50 ,   2]  =  0.333333+0.0im\n",
       "  ⋮\n",
       "  [207, 255]  =  0.333333+0.0im\n",
       "  [243, 255]  =  0.333333+0.0im\n",
       "  [249, 255]  =  -0.333333+0.0im\n",
       "  [254, 255]  =  0.333333+0.0im\n",
       "  [255, 255]  =  0.666667+0.0im\n",
       "  [64 , 256]  =  0.333333+0.0im\n",
       "  [160, 256]  =  -0.333333+0.0im\n",
       "  [208, 256]  =  0.333333+0.0im\n",
       "  [244, 256]  =  0.333333+0.0im\n",
       "  [250, 256]  =  -0.333333+0.0im\n",
       "  [253, 256]  =  0.333333+0.0im\n",
       "  [256, 256]  =  1.33333+0.0im"
      ]
     },
     "execution_count": 12,
     "metadata": {},
     "output_type": "execute_result"
    }
   ],
   "source": [
    "const Jx = 1 / 3\n",
    "const Jy = 1 / 3\n",
    "const Jz = 1 / 3\n",
    "H = spzeros(Complex{Float64}, 1 << N, 1 << N)\n",
    "for (J, nn, σ) in zip([Jx, Jy, Jz], [nnx, nny, nnz], [σi[1, :], σi[2, :], σi[3, :]])\n",
    "    σlist = collect(σ)\n",
    "    for bond in nn\n",
    "        H += J * σlist[bond[1]] * σlist[bond[2]]\n",
    "    end\n",
    "end\n",
    "H"
   ]
  },
  {
   "cell_type": "code",
   "execution_count": 15,
   "metadata": {},
   "outputs": [
    {
     "data": {
      "text/plain": [
       "200-element Array{Complex{Float64},1}:\n",
       " -2.0000000000000107 + 2.635179081215614e-17im \n",
       " -2.0000000000000093 - 6.962077264858991e-17im \n",
       "  -2.000000000000008 - 1.1117508402965943e-17im\n",
       "  -2.000000000000002 + 2.293139410903676e-17im \n",
       " -1.7632326996322611 + 2.1747521529718404e-18im\n",
       " -1.7632326996322567 - 1.0725199490793855e-17im\n",
       " -1.7632326996322532 - 5.885184917522879e-18im \n",
       "  -1.763232699632252 - 4.5141607328292065e-18im\n",
       " -1.7632326996322518 - 1.2135533679540967e-17im\n",
       " -1.7632326996322516 + 5.204170427930421e-18im \n",
       " -1.7632326996322505 - 4.1855286055624e-17im   \n",
       " -1.7632326996322463 - 7.483705495581194e-17im \n",
       "  -1.763232699632246 + 7.150378532310024e-18im \n",
       "                     ⋮                         \n",
       "  0.6666666666666692 - 1.671045075943573e-19im \n",
       "  0.6666666666666694 - 3.5884087589285404e-18im\n",
       "  0.6666666666666695 + 3.4693239616594964e-18im\n",
       "  0.6666666666666697 - 7.345469718589293e-18im \n",
       "   0.666666666666671 - 3.4391907407489774e-18im\n",
       "  0.6666666666666716 + 1.3884004276912946e-17im\n",
       "  0.6666666666666726 - 9.741428968531802e-18im \n",
       "  0.6666666666666738 + 2.710505431213761e-18im \n",
       "  0.9636641528685155 + 9.395969760305123e-18im \n",
       "  0.9636641528685176 - 7.61482619581616e-19im  \n",
       "  0.9636641528685177 - 3.8116482626443515e-18im\n",
       "   0.963664152868519 - 6.135419982611759e-18im "
      ]
     },
     "execution_count": 15,
     "metadata": {},
     "output_type": "execute_result"
    }
   ],
   "source": [
    "E, ψ = eigs(H, nev = 200, which = :SR, tol=1e-4, ritzvec=false, maxiter=500)\n",
    "E"
   ]
  },
  {
   "cell_type": "markdown",
   "metadata": {},
   "source": [
    "In order to plot the heat capacity curve, probably it is enough to use the 200 lowest energy states at low temperature. Note that 200 is a multiple of 4."
   ]
  },
  {
   "cell_type": "code",
   "execution_count": 16,
   "metadata": {},
   "outputs": [
    {
     "data": {
      "text/plain": [
       "1.4791528702478018 - 1.4431085539781103e-17im"
      ]
     },
     "execution_count": 16,
     "metadata": {},
     "output_type": "execute_result"
    }
   ],
   "source": [
    "Z(β) = sum(@. exp(-β * E))\n",
    "intE(β) = sum(@. E * exp(-β * E)) / Z(β)\n",
    "intE2(β) = sum(@. (E ^ 2) * exp(-β * E)) / Z(β)\n",
    "Cv(β) = β ^ 2 * (intE2(β) - intE(β) ^ 2)\n",
    "Cv(10)"
   ]
  },
  {
   "cell_type": "markdown",
   "metadata": {},
   "source": [
    "For this problem (N = 8), it is ok to use eigvals, but if N > 12, it is already difficult to use eigvals."
   ]
  },
  {
   "cell_type": "code",
   "execution_count": 17,
   "metadata": {},
   "outputs": [
    {
     "data": {
      "image/svg+xml": [
       "<?xml version=\"1.0\" encoding=\"utf-8\"?>\n",
       "<svg xmlns=\"http://www.w3.org/2000/svg\" xmlns:xlink=\"http://www.w3.org/1999/xlink\" width=\"600\" height=\"400\" viewBox=\"0 0 2400 1600\">\n",
       "<defs>\n",
       "  <clipPath id=\"clip2900\">\n",
       "    <rect x=\"0\" y=\"0\" width=\"2000\" height=\"2000\"/>\n",
       "  </clipPath>\n",
       "</defs>\n",
       "<defs>\n",
       "  <clipPath id=\"clip2901\">\n",
       "    <rect x=\"0\" y=\"0\" width=\"2400\" height=\"1600\"/>\n",
       "  </clipPath>\n",
       "</defs>\n",
       "<polygon clip-path=\"url(#clip2901)\" points=\"\n",
       "0,1600 2400,1600 2400,0 0,0 \n",
       "  \" fill=\"#ffffff\" fill-rule=\"evenodd\" fill-opacity=\"1\"/>\n",
       "<defs>\n",
       "  <clipPath id=\"clip2902\">\n",
       "    <rect x=\"480\" y=\"0\" width=\"1681\" height=\"1600\"/>\n",
       "  </clipPath>\n",
       "</defs>\n",
       "<polygon clip-path=\"url(#clip2901)\" points=\"\n",
       "161.394,1503.47 2321.26,1503.47 2321.26,47.2441 161.394,47.2441 \n",
       "  \" fill=\"#ffffff\" fill-rule=\"evenodd\" fill-opacity=\"1\"/>\n",
       "<defs>\n",
       "  <clipPath id=\"clip2903\">\n",
       "    <rect x=\"161\" y=\"47\" width=\"2161\" height=\"1457\"/>\n",
       "  </clipPath>\n",
       "</defs>\n",
       "<polyline clip-path=\"url(#clip2903)\" style=\"stroke:#000000; stroke-width:2; stroke-opacity:0.1; fill:none\" points=\"\n",
       "  222.522,1503.47 222.522,47.2441 \n",
       "  \"/>\n",
       "<polyline clip-path=\"url(#clip2903)\" style=\"stroke:#000000; stroke-width:2; stroke-opacity:0.1; fill:none\" points=\"\n",
       "  731.925,1503.47 731.925,47.2441 \n",
       "  \"/>\n",
       "<polyline clip-path=\"url(#clip2903)\" style=\"stroke:#000000; stroke-width:2; stroke-opacity:0.1; fill:none\" points=\"\n",
       "  1241.33,1503.47 1241.33,47.2441 \n",
       "  \"/>\n",
       "<polyline clip-path=\"url(#clip2903)\" style=\"stroke:#000000; stroke-width:2; stroke-opacity:0.1; fill:none\" points=\"\n",
       "  1750.73,1503.47 1750.73,47.2441 \n",
       "  \"/>\n",
       "<polyline clip-path=\"url(#clip2903)\" style=\"stroke:#000000; stroke-width:2; stroke-opacity:0.1; fill:none\" points=\"\n",
       "  2260.13,1503.47 2260.13,47.2441 \n",
       "  \"/>\n",
       "<polyline clip-path=\"url(#clip2903)\" style=\"stroke:#000000; stroke-width:2; stroke-opacity:0.1; fill:none\" points=\"\n",
       "  161.394,1462.26 2321.26,1462.26 \n",
       "  \"/>\n",
       "<polyline clip-path=\"url(#clip2903)\" style=\"stroke:#000000; stroke-width:2; stroke-opacity:0.1; fill:none\" points=\"\n",
       "  161.394,1017.75 2321.26,1017.75 \n",
       "  \"/>\n",
       "<polyline clip-path=\"url(#clip2903)\" style=\"stroke:#000000; stroke-width:2; stroke-opacity:0.1; fill:none\" points=\"\n",
       "  161.394,573.232 2321.26,573.232 \n",
       "  \"/>\n",
       "<polyline clip-path=\"url(#clip2903)\" style=\"stroke:#000000; stroke-width:2; stroke-opacity:0.1; fill:none\" points=\"\n",
       "  161.394,128.718 2321.26,128.718 \n",
       "  \"/>\n",
       "<polyline clip-path=\"url(#clip2901)\" style=\"stroke:#000000; stroke-width:4; stroke-opacity:1; fill:none\" points=\"\n",
       "  161.394,1503.47 2321.26,1503.47 \n",
       "  \"/>\n",
       "<polyline clip-path=\"url(#clip2901)\" style=\"stroke:#000000; stroke-width:4; stroke-opacity:1; fill:none\" points=\"\n",
       "  161.394,1503.47 161.394,47.2441 \n",
       "  \"/>\n",
       "<polyline clip-path=\"url(#clip2901)\" style=\"stroke:#000000; stroke-width:4; stroke-opacity:1; fill:none\" points=\"\n",
       "  222.522,1503.47 222.522,1481.63 \n",
       "  \"/>\n",
       "<polyline clip-path=\"url(#clip2901)\" style=\"stroke:#000000; stroke-width:4; stroke-opacity:1; fill:none\" points=\"\n",
       "  731.925,1503.47 731.925,1481.63 \n",
       "  \"/>\n",
       "<polyline clip-path=\"url(#clip2901)\" style=\"stroke:#000000; stroke-width:4; stroke-opacity:1; fill:none\" points=\"\n",
       "  1241.33,1503.47 1241.33,1481.63 \n",
       "  \"/>\n",
       "<polyline clip-path=\"url(#clip2901)\" style=\"stroke:#000000; stroke-width:4; stroke-opacity:1; fill:none\" points=\"\n",
       "  1750.73,1503.47 1750.73,1481.63 \n",
       "  \"/>\n",
       "<polyline clip-path=\"url(#clip2901)\" style=\"stroke:#000000; stroke-width:4; stroke-opacity:1; fill:none\" points=\"\n",
       "  2260.13,1503.47 2260.13,1481.63 \n",
       "  \"/>\n",
       "<polyline clip-path=\"url(#clip2901)\" style=\"stroke:#000000; stroke-width:4; stroke-opacity:1; fill:none\" points=\"\n",
       "  161.394,1462.26 193.792,1462.26 \n",
       "  \"/>\n",
       "<polyline clip-path=\"url(#clip2901)\" style=\"stroke:#000000; stroke-width:4; stroke-opacity:1; fill:none\" points=\"\n",
       "  161.394,1017.75 193.792,1017.75 \n",
       "  \"/>\n",
       "<polyline clip-path=\"url(#clip2901)\" style=\"stroke:#000000; stroke-width:4; stroke-opacity:1; fill:none\" points=\"\n",
       "  161.394,573.232 193.792,573.232 \n",
       "  \"/>\n",
       "<polyline clip-path=\"url(#clip2901)\" style=\"stroke:#000000; stroke-width:4; stroke-opacity:1; fill:none\" points=\"\n",
       "  161.394,128.718 193.792,128.718 \n",
       "  \"/>\n",
       "<g clip-path=\"url(#clip2901)\">\n",
       "<text style=\"fill:#000000; fill-opacity:1; font-family:Arial,Helvetica Neue,Helvetica,sans-serif; font-size:48px; text-anchor:start;\" transform=\"rotate(0, 151.724, 1578.48)\" x=\"151.724\" y=\"1578.48\">10</text>\n",
       "</g>\n",
       "<g clip-path=\"url(#clip2901)\">\n",
       "<text style=\"fill:#000000; fill-opacity:1; font-family:Arial,Helvetica Neue,Helvetica,sans-serif; font-size:38px; text-anchor:start;\" transform=\"rotate(0, 205.248, 1551.07)\" x=\"205.248\" y=\"1551.07\">-</text>\n",
       "</g>\n",
       "<g clip-path=\"url(#clip2901)\">\n",
       "<text style=\"fill:#000000; fill-opacity:1; font-family:Arial,Helvetica Neue,Helvetica,sans-serif; font-size:38px; text-anchor:start;\" transform=\"rotate(0, 228.088, 1551.07)\" x=\"228.088\" y=\"1551.07\">2.0 </text>\n",
       "</g>\n",
       "<g clip-path=\"url(#clip2901)\">\n",
       "<text style=\"fill:#000000; fill-opacity:1; font-family:Arial,Helvetica Neue,Helvetica,sans-serif; font-size:48px; text-anchor:start;\" transform=\"rotate(0, 661.126, 1578.48)\" x=\"661.126\" y=\"1578.48\">10</text>\n",
       "</g>\n",
       "<g clip-path=\"url(#clip2901)\">\n",
       "<text style=\"fill:#000000; fill-opacity:1; font-family:Arial,Helvetica Neue,Helvetica,sans-serif; font-size:38px; text-anchor:start;\" transform=\"rotate(0, 714.651, 1551.07)\" x=\"714.651\" y=\"1551.07\">-</text>\n",
       "</g>\n",
       "<g clip-path=\"url(#clip2901)\">\n",
       "<text style=\"fill:#000000; fill-opacity:1; font-family:Arial,Helvetica Neue,Helvetica,sans-serif; font-size:38px; text-anchor:start;\" transform=\"rotate(0, 737.49, 1551.07)\" x=\"737.49\" y=\"1551.07\">1.5 </text>\n",
       "</g>\n",
       "<g clip-path=\"url(#clip2901)\">\n",
       "<text style=\"fill:#000000; fill-opacity:1; font-family:Arial,Helvetica Neue,Helvetica,sans-serif; font-size:48px; text-anchor:start;\" transform=\"rotate(0, 1170.53, 1578.48)\" x=\"1170.53\" y=\"1578.48\">10</text>\n",
       "</g>\n",
       "<g clip-path=\"url(#clip2901)\">\n",
       "<text style=\"fill:#000000; fill-opacity:1; font-family:Arial,Helvetica Neue,Helvetica,sans-serif; font-size:38px; text-anchor:start;\" transform=\"rotate(0, 1224.05, 1551.07)\" x=\"1224.05\" y=\"1551.07\">-</text>\n",
       "</g>\n",
       "<g clip-path=\"url(#clip2901)\">\n",
       "<text style=\"fill:#000000; fill-opacity:1; font-family:Arial,Helvetica Neue,Helvetica,sans-serif; font-size:38px; text-anchor:start;\" transform=\"rotate(0, 1246.89, 1551.07)\" x=\"1246.89\" y=\"1551.07\">1.0 </text>\n",
       "</g>\n",
       "<g clip-path=\"url(#clip2901)\">\n",
       "<text style=\"fill:#000000; fill-opacity:1; font-family:Arial,Helvetica Neue,Helvetica,sans-serif; font-size:48px; text-anchor:start;\" transform=\"rotate(0, 1679.93, 1578.48)\" x=\"1679.93\" y=\"1578.48\">10</text>\n",
       "</g>\n",
       "<g clip-path=\"url(#clip2901)\">\n",
       "<text style=\"fill:#000000; fill-opacity:1; font-family:Arial,Helvetica Neue,Helvetica,sans-serif; font-size:38px; text-anchor:start;\" transform=\"rotate(0, 1733.46, 1551.07)\" x=\"1733.46\" y=\"1551.07\">-</text>\n",
       "</g>\n",
       "<g clip-path=\"url(#clip2901)\">\n",
       "<text style=\"fill:#000000; fill-opacity:1; font-family:Arial,Helvetica Neue,Helvetica,sans-serif; font-size:38px; text-anchor:start;\" transform=\"rotate(0, 1756.29, 1551.07)\" x=\"1756.29\" y=\"1551.07\">0.5 </text>\n",
       "</g>\n",
       "<g clip-path=\"url(#clip2901)\">\n",
       "<text style=\"fill:#000000; fill-opacity:1; font-family:Arial,Helvetica Neue,Helvetica,sans-serif; font-size:48px; text-anchor:start;\" transform=\"rotate(0, 2200.75, 1578.48)\" x=\"2200.75\" y=\"1578.48\">10</text>\n",
       "</g>\n",
       "<g clip-path=\"url(#clip2901)\">\n",
       "<text style=\"fill:#000000; fill-opacity:1; font-family:Arial,Helvetica Neue,Helvetica,sans-serif; font-size:38px; text-anchor:start;\" transform=\"rotate(0, 2254.28, 1551.07)\" x=\"2254.28\" y=\"1551.07\">0.0 </text>\n",
       "</g>\n",
       "<g clip-path=\"url(#clip2901)\">\n",
       "<text style=\"fill:#000000; fill-opacity:1; font-family:Arial,Helvetica Neue,Helvetica,sans-serif; font-size:48px; text-anchor:end;\" transform=\"rotate(0, 137.394, 1479.76)\" x=\"137.394\" y=\"1479.76\">0.0</text>\n",
       "</g>\n",
       "<g clip-path=\"url(#clip2901)\">\n",
       "<text style=\"fill:#000000; fill-opacity:1; font-family:Arial,Helvetica Neue,Helvetica,sans-serif; font-size:48px; text-anchor:end;\" transform=\"rotate(0, 137.394, 1035.25)\" x=\"137.394\" y=\"1035.25\">0.5</text>\n",
       "</g>\n",
       "<g clip-path=\"url(#clip2901)\">\n",
       "<text style=\"fill:#000000; fill-opacity:1; font-family:Arial,Helvetica Neue,Helvetica,sans-serif; font-size:48px; text-anchor:end;\" transform=\"rotate(0, 137.394, 590.732)\" x=\"137.394\" y=\"590.732\">1.0</text>\n",
       "</g>\n",
       "<g clip-path=\"url(#clip2901)\">\n",
       "<text style=\"fill:#000000; fill-opacity:1; font-family:Arial,Helvetica Neue,Helvetica,sans-serif; font-size:48px; text-anchor:end;\" transform=\"rotate(0, 137.394, 146.218)\" x=\"137.394\" y=\"146.218\">1.5</text>\n",
       "</g>\n",
       "<polyline clip-path=\"url(#clip2903)\" style=\"stroke:#009af9; stroke-width:4; stroke-opacity:1; fill:none\" points=\"\n",
       "  2260.13,955.95 2239.55,919.064 2218.97,880.976 2198.39,841.926 2177.8,802.205 2157.22,762.155 2136.64,722.166 2116.06,682.675 2095.48,644.153 2074.89,607.097 \n",
       "  2054.31,572.018 2033.73,539.423 2013.15,509.795 1992.57,483.575 1971.98,461.145 1951.4,442.802 1930.82,428.749 1910.24,419.079 1889.66,413.765 1869.08,412.663 \n",
       "  1848.49,415.512 1827.91,421.941 1807.33,431.486 1786.75,443.604 1766.17,457.696 1745.58,473.125 1725,489.233 1704.42,505.367 1683.84,520.888 1663.26,535.185 \n",
       "  1642.67,547.688 1622.09,557.872 1601.51,565.264 1580.93,569.446 1560.35,570.056 1539.76,566.796 1519.18,559.433 1498.6,547.808 1478.02,531.84 1457.44,511.541 \n",
       "  1436.86,487.024 1416.27,458.518 1395.69,426.385 1375.11,391.13 1354.53,353.414 1333.95,314.068 1313.36,274.089 1292.78,234.64 1272.2,197.036 1251.62,162.711 \n",
       "  1231.04,133.184 1210.45,109.992 1189.87,94.6293 1169.29,88.4582 1148.71,92.6273 1128.13,107.986 1107.54,135.009 1086.96,173.747 1066.38,223.791 1045.8,284.282 \n",
       "  1025.22,353.948 1004.63,431.163 984.053,514.049 963.471,600.574 942.889,688.668 922.307,776.332 901.725,861.729 881.143,943.263 860.562,1019.63 839.98,1089.84 \n",
       "  819.398,1153.25 798.816,1209.5 778.234,1258.54 757.652,1300.54 737.07,1335.89 716.488,1365.11 695.906,1388.83 675.324,1407.74 654.742,1422.51 634.161,1433.84 \n",
       "  613.579,1442.34 592.997,1448.59 572.415,1453.08 551.833,1456.24 531.251,1458.4 510.669,1459.85 490.087,1460.8 469.505,1461.39 448.923,1461.76 428.341,1461.98 \n",
       "  407.76,1462.11 387.178,1462.18 366.596,1462.22 346.014,1462.24 325.432,1462.25 304.85,1462.26 284.268,1462.26 263.686,1462.26 243.104,1462.26 222.522,1462.26 \n",
       "  \n",
       "  \"/>\n",
       "<polygon clip-path=\"url(#clip2901)\" points=\"\n",
       "1958.43,251.724 2249.26,251.724 2249.26,130.764 1958.43,130.764 \n",
       "  \" fill=\"#ffffff\" fill-rule=\"evenodd\" fill-opacity=\"1\"/>\n",
       "<polyline clip-path=\"url(#clip2901)\" style=\"stroke:#000000; stroke-width:4; stroke-opacity:1; fill:none\" points=\"\n",
       "  1958.43,251.724 2249.26,251.724 2249.26,130.764 1958.43,130.764 1958.43,251.724 \n",
       "  \"/>\n",
       "<polyline clip-path=\"url(#clip2901)\" style=\"stroke:#009af9; stroke-width:4; stroke-opacity:1; fill:none\" points=\"\n",
       "  1982.43,191.244 2126.43,191.244 \n",
       "  \"/>\n",
       "<g clip-path=\"url(#clip2901)\">\n",
       "<text style=\"fill:#000000; fill-opacity:1; font-family:Arial,Helvetica Neue,Helvetica,sans-serif; font-size:48px; text-anchor:start;\" transform=\"rotate(0, 2150.43, 208.744)\" x=\"2150.43\" y=\"208.744\">y1</text>\n",
       "</g>\n",
       "</svg>\n"
      ]
     },
     "execution_count": 17,
     "metadata": {},
     "output_type": "execute_result"
    }
   ],
   "source": [
    "using Plots; gr()\n",
    "βs = exp.(log(10) * collect(range(0.0, stop = 2.0, length = 100)))\n",
    "plot(1 ./ βs, @. real(Cv(βs)); xscale = :log10)"
   ]
  },
  {
   "cell_type": "markdown",
   "metadata": {},
   "source": [
    "The difference from the original paper comes from the difference in the boundary conditions.\n",
    "\n",
    "**Exercise2**: try to do the same approximation in Kitaev model QMC, and check whether it is efficient or not.\n",
    "\n",
    "## Thermal pure quantum (TPQ) state\n",
    "\n",
    "If you wish to plot the heat capacity for a large system, it is recommended to use TPQ states instead of the exact diagonalization. Currently, the easiest way to use TPQ states is to install HPhi: https://github.com/issp-center-dev/HPhi.\n",
    "\n",
    "However, I will show a simple implementation of the calculation of TPQ states.\n",
    "\n",
    "~ under construction ~"
   ]
  },
  {
   "cell_type": "code",
   "execution_count": null,
   "metadata": {},
   "outputs": [],
   "source": []
  }
 ],
 "metadata": {
  "kernelspec": {
   "display_name": "Julia 1.0.2",
   "language": "julia",
   "name": "julia-1.0"
  },
  "language_info": {
   "file_extension": ".jl",
   "mimetype": "application/julia",
   "name": "julia",
   "version": "1.0.2"
  }
 },
 "nbformat": 4,
 "nbformat_minor": 2
}
