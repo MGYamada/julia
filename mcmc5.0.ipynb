{
 "cells": [
  {
   "cell_type": "markdown",
   "metadata": {},
   "source": [
    "# MCMC5.0: Exact Diagonalization and Thermal Pure Quantum States\n",
    "\n",
    "To search for the ground state of the physical Hamiltonian, we do not need to diagonalize the Hamiltonian completely. It is enough to find an eigenstate with the lowest energy. Such a partial problem can be solved by iterative methods, and they are implemented in Arpack.jl. This alrogithm may also works for finite temperatures.\n",
    "*In some cases, Python code works better for this type of problems.*\n",
    "\n",
    "## Sparse matrix revisited\n",
    "\n",
    "As seen in MCMC2.5, Julia does not natively support the diagonalization of the sparse matrix, so we need a package called Arpack.jl."
   ]
  },
  {
   "cell_type": "code",
   "execution_count": 1,
   "metadata": {},
   "outputs": [],
   "source": [
    "using Arpack"
   ]
  },
  {
   "cell_type": "markdown",
   "metadata": {},
   "source": [
    "Note that installing Arpack.jl in Julia with Intel MKL takes some efforts."
   ]
  },
  {
   "cell_type": "code",
   "execution_count": 2,
   "metadata": {},
   "outputs": [
    {
     "data": {
      "text/plain": [
       "10×10 Array{Float64,2}:\n",
       " 0.756849   0.1754     0.0844652  0.304929   …  0.167515  0.454703  0.838625 \n",
       " 0.550472   0.466327   0.171047   0.455046      0.666102  0.262526  0.0826999\n",
       " 0.582868   0.210647   0.122984   0.69333       0.397972  0.21216   0.0437725\n",
       " 0.0232986  0.0381991  0.426809   0.862601      0.988233  0.379807  0.303044 \n",
       " 0.694185   0.0679885  0.303115   0.683329      0.219099  0.692862  0.693083 \n",
       " 0.361476   0.53397    0.749331   0.658057   …  0.137842  0.678823  0.813178 \n",
       " 0.223726   0.697694   0.283304   0.636996      0.433629  0.213511  0.345311 \n",
       " 0.269516   0.447329   0.016021   0.139521      0.529143  0.838711  0.0773219\n",
       " 0.624067   0.94344    0.141071   0.0653602     0.791576  0.900435  0.967501 \n",
       " 0.858293   0.135684   0.301746   0.831392      0.412633  0.993396  0.121579 "
      ]
     },
     "execution_count": 2,
     "metadata": {},
     "output_type": "execute_result"
    }
   ],
   "source": [
    "const A = rand(10, 10)"
   ]
  },
  {
   "cell_type": "code",
   "execution_count": 3,
   "metadata": {},
   "outputs": [
    {
     "data": {
      "text/plain": [
       "2-element Array{Complex{Float64},1}:\n",
       "  4.607531859885789 + 0.0im\n",
       " 1.0330115143739165 + 0.0im"
      ]
     },
     "execution_count": 3,
     "metadata": {},
     "output_type": "execute_result"
    }
   ],
   "source": [
    "λ, ϕ = eigs(A, nev = 2)\n",
    "λ"
   ]
  },
  {
   "cell_type": "code",
   "execution_count": 4,
   "metadata": {},
   "outputs": [
    {
     "data": {
      "text/plain": [
       "10-element Array{Complex{Float64},1}:\n",
       "    4.607531859885791 + 0.0im                \n",
       "   -0.812721294503106 + 0.0im                \n",
       " -0.16082280597093115 + 0.645840001818082im  \n",
       " -0.16082280597093115 - 0.645840001818082im  \n",
       "    1.033011514373917 + 0.0im                \n",
       "   0.4183231729585056 + 0.29706465512312125im\n",
       "   0.4183231729585056 - 0.29706465512312125im\n",
       "   0.5779545946912975 + 0.0im                \n",
       "  0.11012002097377901 + 0.0im                \n",
       " -0.16535142305036996 + 0.0im                "
      ]
     },
     "execution_count": 4,
     "metadata": {},
     "output_type": "execute_result"
    }
   ],
   "source": [
    "using LinearAlgebra\n",
    "eigvals(A)"
   ]
  },
  {
   "cell_type": "markdown",
   "metadata": {},
   "source": [
    "It is clear that eigs takes 2 of the whole eigenvalues approximately (almost exactly). Such iterative methods in Arpack is important in the case we do not need every spectrum.\n",
    "\n",
    "More importantly, Arpack supports sparse matrices (and even abstract LinearMaps), so the diagonalization of sparse matrices becomes very fast."
   ]
  },
  {
   "cell_type": "code",
   "execution_count": 5,
   "metadata": {},
   "outputs": [
    {
     "data": {
      "text/plain": [
       "1000×1000 SparseMatrixCSC{Float64,Int64} with 19809 stored entries:\n",
       "  [8   ,    1]  =  0.561692\n",
       "  [177 ,    1]  =  0.910415\n",
       "  [200 ,    1]  =  0.348129\n",
       "  [235 ,    1]  =  0.0599988\n",
       "  [325 ,    1]  =  0.937545\n",
       "  [354 ,    1]  =  0.0156319\n",
       "  [394 ,    1]  =  0.60279\n",
       "  [443 ,    1]  =  0.804337\n",
       "  [489 ,    1]  =  0.801401\n",
       "  [548 ,    1]  =  0.519792\n",
       "  [593 ,    1]  =  0.618039\n",
       "  [605 ,    1]  =  0.873212\n",
       "  ⋮\n",
       "  [435 , 1000]  =  0.933923\n",
       "  [490 , 1000]  =  0.409225\n",
       "  [498 , 1000]  =  0.50895\n",
       "  [505 , 1000]  =  0.0411735\n",
       "  [575 , 1000]  =  0.811336\n",
       "  [618 , 1000]  =  0.990549\n",
       "  [653 , 1000]  =  0.45189\n",
       "  [689 , 1000]  =  0.571322\n",
       "  [754 , 1000]  =  1.57945\n",
       "  [789 , 1000]  =  0.970939\n",
       "  [849 , 1000]  =  0.259302\n",
       "  [865 , 1000]  =  0.979457"
      ]
     },
     "execution_count": 5,
     "metadata": {},
     "output_type": "execute_result"
    }
   ],
   "source": [
    "using SparseArrays\n",
    "B = sparse(rand(1:1000, 20000), rand(1:1000, 20000), rand(20000))\n",
    "B"
   ]
  },
  {
   "cell_type": "code",
   "execution_count": 6,
   "metadata": {},
   "outputs": [
    {
     "data": {
      "text/plain": [
       "1-element Array{Complex{Float64},1}:\n",
       " 9.96666146169773 + 0.0im"
      ]
     },
     "execution_count": 6,
     "metadata": {},
     "output_type": "execute_result"
    }
   ],
   "source": [
    "λ, ϕ = eigs(B, nev = 1)\n",
    "λ"
   ]
  },
  {
   "cell_type": "code",
   "execution_count": 7,
   "metadata": {},
   "outputs": [
    {
     "data": {
      "text/plain": [
       "1000-element Array{Complex{Float64},1}:\n",
       "    9.966661461697704 + 0.0im                 \n",
       "     1.85425607866763 + 1.7969446718122146im  \n",
       "     1.85425607866763 - 1.7969446718122146im  \n",
       "    2.110032373617526 + 1.4274431176292797im  \n",
       "    2.110032373617526 - 1.4274431176292797im  \n",
       "   2.2377179682928214 + 1.2141824755201212im  \n",
       "   2.2377179682928214 - 1.2141824755201212im  \n",
       "   2.2950133771453167 + 1.0606146953981437im  \n",
       "   2.2950133771453167 - 1.0606146953981437im  \n",
       "   0.5523573157088111 + 2.575661227105252im   \n",
       "   0.5523573157088111 - 2.575661227105252im   \n",
       "   2.5180633496833615 + 0.15350701950750636im \n",
       "   2.5180633496833615 - 0.15350701950750636im \n",
       "                      ⋮                       \n",
       " -0.30228552110662676 + 0.0im                 \n",
       " -0.22382572671851808 + 0.07089079564907513im \n",
       " -0.22382572671851808 - 0.07089079564907513im \n",
       "  0.18328704332932902 + 0.026537571110547515im\n",
       "  0.18328704332932902 - 0.026537571110547515im\n",
       "  0.02683857051096594 + 0.154367404893341im   \n",
       "  0.02683857051096594 - 0.154367404893341im   \n",
       " -0.17216179645970334 + 0.0im                 \n",
       "  0.03735953407169367 + 0.0im                 \n",
       " -0.05646583924139671 + 0.058062034766902665im\n",
       " -0.05646583924139671 - 0.058062034766902665im\n",
       "  -0.1066091456686188 + 0.0im                 "
      ]
     },
     "execution_count": 7,
     "metadata": {},
     "output_type": "execute_result"
    }
   ],
   "source": [
    "eigvals(Array(B))"
   ]
  },
  {
   "cell_type": "markdown",
   "metadata": {},
   "source": [
    "If you only need a few eigenvalues and eigenstates, eigs is much faster.\n",
    "\n",
    "## Exact diagonalization of many-body Hamiltonians"
   ]
  },
  {
   "cell_type": "code",
   "execution_count": 8,
   "metadata": {},
   "outputs": [
    {
     "data": {
      "text/plain": [
       "openhoneycomb (generic function with 1 method)"
      ]
     },
     "execution_count": 8,
     "metadata": {},
     "output_type": "execute_result"
    }
   ],
   "source": [
    "function openhoneycomb(Lx::Int64, Ly::Int64)::Tuple\n",
    "    N = 2Lx * Ly\n",
    "    nnx = zip(1 : 2 : (N - 1), 2 : 2 : N)\n",
    "    nny = Iterators.flatten((zip((1 + 2i) : 2Lx : (2Lx * (Ly - 1)  + 1 + 2i), 2i : 2Lx : (2Lx * (Ly - 1)  + 2i)) for i in 1 : (Lx - 1)))\n",
    "    nnz = zip(1 : 2 : (N - 1), Iterators.flatten(((2Lx + 2) : 2 : N, 2 : 2 : 2Lx)))\n",
    "    N, nnx, nny, nnz\n",
    "end"
   ]
  },
  {
   "cell_type": "code",
   "execution_count": 9,
   "metadata": {},
   "outputs": [
    {
     "data": {
      "text/plain": [
       "2×2 SparseMatrixCSC{Complex{Float64},Int64} with 2 stored entries:\n",
       "  [1, 1]  =  1.0+0.0im\n",
       "  [2, 2]  =  -1.0+0.0im"
      ]
     },
     "execution_count": 9,
     "metadata": {},
     "output_type": "execute_result"
    }
   ],
   "source": [
    "const σx = sparse(Complex{Float64}[0.0 1.0; 1.0 0.0])\n",
    "const σy = sparse(Complex{Float64}[0.0 -1.0im; 1.0im 0.0])\n",
    "const σz = sparse(Complex{Float64}[1.0 0.0; 0.0 -1.0])"
   ]
  },
  {
   "cell_type": "markdown",
   "metadata": {},
   "source": [
    "$ I_1 \\otimes I_2 \\otimes \\dots \\otimes \\sigma_i \\otimes \\dots \\otimes I_{N-1} \\otimes I_N$"
   ]
  },
  {
   "cell_type": "code",
   "execution_count": 10,
   "metadata": {},
   "outputs": [
    {
     "data": {
      "text/plain": [
       "4×4 Array{Complex{Float64},2}:\n",
       " 0.0+0.0im  1.0+0.0im  0.0+0.0im  0.0+0.0im\n",
       " 1.0+0.0im  0.0+0.0im  0.0+0.0im  0.0+0.0im\n",
       " 0.0+0.0im  0.0+0.0im  0.0+0.0im  1.0+0.0im\n",
       " 0.0+0.0im  0.0+0.0im  1.0+0.0im  0.0+0.0im"
      ]
     },
     "execution_count": 10,
     "metadata": {},
     "output_type": "execute_result"
    }
   ],
   "source": [
    "\"\"\"\n",
    "Returning Pauli operators at ith site\n",
    "\n",
    "σ must be a Pauli matrix\n",
    "\"\"\"\n",
    "function spinoperators(σ::SparseMatrixCSC{Complex{Float64},Int64}, i::Int64, N::Int64)::SparseMatrixCSC{Complex{Float64},Int64}\n",
    "    if N < 1\n",
    "        throw(DomainError(N, \"argument must be positive\"))\n",
    "    elseif i == 1 && N == 1\n",
    "        σ\n",
    "    elseif N == 1\n",
    "        sparse(I, 2, 2)\n",
    "    elseif i == N\n",
    "        kron(spinoperators(σ, i, N - 1), σ)\n",
    "    else\n",
    "        kron(spinoperators(σ, i, N - 1), sparse(I, 2, 2))\n",
    "    end\n",
    "end\n",
    "Array(spinoperators(σx, 2, 2))"
   ]
  },
  {
   "cell_type": "markdown",
   "metadata": {},
   "source": [
    "This is a slow recursive code, but it does not matter for our purpose. Actually, in this case, two Kronecker products is enough.\n",
    "\n",
    "**Exercise1**: Rewrite \"spinoperators\" not using a loop or recursion."
   ]
  },
  {
   "cell_type": "code",
   "execution_count": 11,
   "metadata": {},
   "outputs": [],
   "source": [
    "N, nnx, nny, nnz = openhoneycomb(2, 2)\n",
    "σi = map(x -> spinoperators(x..., N), Iterators.product([σx, σy, σz], 1 : N));"
   ]
  },
  {
   "cell_type": "markdown",
   "metadata": {},
   "source": [
    "Now a many-body Hamiltonian can be constructed simply."
   ]
  },
  {
   "cell_type": "code",
   "execution_count": 12,
   "metadata": {},
   "outputs": [
    {
     "data": {
      "text/plain": [
       "256×256 SparseMatrixCSC{Complex{Float64},Int64} with 1696 stored entries:\n",
       "  [1  ,   1]  =  1.33333+0.0im\n",
       "  [4  ,   1]  =  0.333333+0.0im\n",
       "  [7  ,   1]  =  -0.333333+0.0im\n",
       "  [13 ,   1]  =  0.333333+0.0im\n",
       "  [49 ,   1]  =  0.333333+0.0im\n",
       "  [97 ,   1]  =  -0.333333+0.0im\n",
       "  [193,   1]  =  0.333333+0.0im\n",
       "  [2  ,   2]  =  0.666667+0.0im\n",
       "  [3  ,   2]  =  0.333333+0.0im\n",
       "  [8  ,   2]  =  -0.333333+0.0im\n",
       "  [14 ,   2]  =  0.333333+0.0im\n",
       "  [50 ,   2]  =  0.333333+0.0im\n",
       "  ⋮\n",
       "  [207, 255]  =  0.333333+0.0im\n",
       "  [243, 255]  =  0.333333+0.0im\n",
       "  [249, 255]  =  -0.333333+0.0im\n",
       "  [254, 255]  =  0.333333+0.0im\n",
       "  [255, 255]  =  0.666667+0.0im\n",
       "  [64 , 256]  =  0.333333+0.0im\n",
       "  [160, 256]  =  -0.333333+0.0im\n",
       "  [208, 256]  =  0.333333+0.0im\n",
       "  [244, 256]  =  0.333333+0.0im\n",
       "  [250, 256]  =  -0.333333+0.0im\n",
       "  [253, 256]  =  0.333333+0.0im\n",
       "  [256, 256]  =  1.33333+0.0im"
      ]
     },
     "execution_count": 12,
     "metadata": {},
     "output_type": "execute_result"
    }
   ],
   "source": [
    "const Jx = 1 / 3\n",
    "const Jy = 1 / 3\n",
    "const Jz = 1 / 3\n",
    "H = spzeros(Complex{Float64}, 1 << N, 1 << N)\n",
    "for (J, nn, σ) in zip([Jx, Jy, Jz], [nnx, nny, nnz], [σi[1, :], σi[2, :], σi[3, :]])\n",
    "    σlist = collect(σ)\n",
    "    for bond in nn\n",
    "        H += J * σlist[bond[1]] * σlist[bond[2]]\n",
    "    end\n",
    "end\n",
    "H"
   ]
  },
  {
   "cell_type": "code",
   "execution_count": 13,
   "metadata": {},
   "outputs": [
    {
     "data": {
      "text/plain": [
       "200-element Array{Complex{Float64},1}:\n",
       "  -2.000000000000009 - 7.699658288209621e-18im \n",
       " -1.9999999999999996 + 7.747993359635069e-18im \n",
       " -1.9999999999999996 - 1.1366331269137442e-17im\n",
       " -1.9999999999999973 - 2.345600810921873e-17im \n",
       " -1.7632326996322605 + 2.8189256484623115e-17im\n",
       "  -1.763232699632257 + 1.3010426070216466e-18im\n",
       " -1.7632326996322563 + 1.0408350346842544e-17im\n",
       " -1.7632326996322556 + 7.806255641895632e-18im \n",
       "  -1.763232699632253 - 9.703609443745265e-18im \n",
       " -1.7632326996322507 + 2.0816681711721682e-17im\n",
       " -1.7632326996322505 + 6.938893903907228e-18im \n",
       " -1.7632326996322496 - 1.3881645778191404e-17im\n",
       " -1.7632326996322496 - 2.6991163122317635e-17im\n",
       "                     ⋮                         \n",
       "  0.6666666666666683 + 3.1454568496288443e-18im\n",
       "  0.6666666666666693 - 3.303430285977903e-18im \n",
       "  0.6666666666666694 - 2.0604962782884e-18im   \n",
       "  0.6666666666666696 + 3.794359820217264e-18im \n",
       "    0.66666666666667 + 4.562119453911662e-18im \n",
       "  0.6666666666666708 - 3.656615741639856e-18im \n",
       "  0.6666666666666713 - 4.741545527026012e-18im \n",
       "  0.6666666666666725 + 3.899474370977322e-18im \n",
       "  0.9636641528685178 - 4.6269174743766156e-20im\n",
       "  0.9636641528685186 + 7.583581323698395e-18im \n",
       "  0.9636641528685188 + 8.56547735714329e-18im  \n",
       "   0.963664152868519 + 7.21557222332502e-18im  "
      ]
     },
     "execution_count": 13,
     "metadata": {},
     "output_type": "execute_result"
    }
   ],
   "source": [
    "E, ψ = eigs(H, nev = 200, which = :SR, tol=1e-4, ritzvec=false, maxiter=500)\n",
    "E"
   ]
  },
  {
   "cell_type": "markdown",
   "metadata": {},
   "source": [
    "In order to plot the heat capacity curve, probably it is enough to use the 200 lowest energy states at low temperature. Note that 200 is a multiple of 4."
   ]
  },
  {
   "cell_type": "code",
   "execution_count": 14,
   "metadata": {},
   "outputs": [
    {
     "data": {
      "text/plain": [
       "1.4791528702478907 + 4.758688309798708e-17im"
      ]
     },
     "execution_count": 14,
     "metadata": {},
     "output_type": "execute_result"
    }
   ],
   "source": [
    "Z(β) = sum(@. exp(-β * E))\n",
    "intE(β) = sum(@. E * exp(-β * E)) / Z(β)\n",
    "intE²(β) = sum(@. (E ^ 2) * exp(-β * E)) / Z(β)\n",
    "Cv(β) = β ^ 2 * (intE²(β) - intE(β) ^ 2)\n",
    "Cv(10)"
   ]
  },
  {
   "cell_type": "markdown",
   "metadata": {},
   "source": [
    "For this problem (N = 8), it is ok to use eigvals, but if N > 12, it is already difficult to use eigvals."
   ]
  },
  {
   "cell_type": "code",
   "execution_count": 15,
   "metadata": {},
   "outputs": [
    {
     "data": {
      "image/svg+xml": [
       "<?xml version=\"1.0\" encoding=\"utf-8\"?>\n",
       "<svg xmlns=\"http://www.w3.org/2000/svg\" xmlns:xlink=\"http://www.w3.org/1999/xlink\" width=\"600\" height=\"400\" viewBox=\"0 0 2400 1600\">\n",
       "<defs>\n",
       "  <clipPath id=\"clip6100\">\n",
       "    <rect x=\"0\" y=\"0\" width=\"2000\" height=\"2000\"/>\n",
       "  </clipPath>\n",
       "</defs>\n",
       "<defs>\n",
       "  <clipPath id=\"clip6101\">\n",
       "    <rect x=\"0\" y=\"0\" width=\"2400\" height=\"1600\"/>\n",
       "  </clipPath>\n",
       "</defs>\n",
       "<polygon clip-path=\"url(#clip6101)\" points=\"\n",
       "0,1600 2400,1600 2400,0 0,0 \n",
       "  \" fill=\"#ffffff\" fill-rule=\"evenodd\" fill-opacity=\"1\"/>\n",
       "<defs>\n",
       "  <clipPath id=\"clip6102\">\n",
       "    <rect x=\"480\" y=\"0\" width=\"1681\" height=\"1600\"/>\n",
       "  </clipPath>\n",
       "</defs>\n",
       "<polygon clip-path=\"url(#clip6101)\" points=\"\n",
       "161.394,1503.47 2321.26,1503.47 2321.26,47.2441 161.394,47.2441 \n",
       "  \" fill=\"#ffffff\" fill-rule=\"evenodd\" fill-opacity=\"1\"/>\n",
       "<defs>\n",
       "  <clipPath id=\"clip6103\">\n",
       "    <rect x=\"161\" y=\"47\" width=\"2161\" height=\"1457\"/>\n",
       "  </clipPath>\n",
       "</defs>\n",
       "<polyline clip-path=\"url(#clip6103)\" style=\"stroke:#000000; stroke-width:2; stroke-opacity:0.1; fill:none\" points=\"\n",
       "  222.522,1503.47 222.522,47.2441 \n",
       "  \"/>\n",
       "<polyline clip-path=\"url(#clip6103)\" style=\"stroke:#000000; stroke-width:2; stroke-opacity:0.1; fill:none\" points=\"\n",
       "  731.925,1503.47 731.925,47.2441 \n",
       "  \"/>\n",
       "<polyline clip-path=\"url(#clip6103)\" style=\"stroke:#000000; stroke-width:2; stroke-opacity:0.1; fill:none\" points=\"\n",
       "  1241.33,1503.47 1241.33,47.2441 \n",
       "  \"/>\n",
       "<polyline clip-path=\"url(#clip6103)\" style=\"stroke:#000000; stroke-width:2; stroke-opacity:0.1; fill:none\" points=\"\n",
       "  1750.73,1503.47 1750.73,47.2441 \n",
       "  \"/>\n",
       "<polyline clip-path=\"url(#clip6103)\" style=\"stroke:#000000; stroke-width:2; stroke-opacity:0.1; fill:none\" points=\"\n",
       "  2260.13,1503.47 2260.13,47.2441 \n",
       "  \"/>\n",
       "<polyline clip-path=\"url(#clip6103)\" style=\"stroke:#000000; stroke-width:2; stroke-opacity:0.1; fill:none\" points=\"\n",
       "  161.394,1462.26 2321.26,1462.26 \n",
       "  \"/>\n",
       "<polyline clip-path=\"url(#clip6103)\" style=\"stroke:#000000; stroke-width:2; stroke-opacity:0.1; fill:none\" points=\"\n",
       "  161.394,1017.75 2321.26,1017.75 \n",
       "  \"/>\n",
       "<polyline clip-path=\"url(#clip6103)\" style=\"stroke:#000000; stroke-width:2; stroke-opacity:0.1; fill:none\" points=\"\n",
       "  161.394,573.232 2321.26,573.232 \n",
       "  \"/>\n",
       "<polyline clip-path=\"url(#clip6103)\" style=\"stroke:#000000; stroke-width:2; stroke-opacity:0.1; fill:none\" points=\"\n",
       "  161.394,128.718 2321.26,128.718 \n",
       "  \"/>\n",
       "<polyline clip-path=\"url(#clip6101)\" style=\"stroke:#000000; stroke-width:4; stroke-opacity:1; fill:none\" points=\"\n",
       "  161.394,1503.47 2321.26,1503.47 \n",
       "  \"/>\n",
       "<polyline clip-path=\"url(#clip6101)\" style=\"stroke:#000000; stroke-width:4; stroke-opacity:1; fill:none\" points=\"\n",
       "  161.394,1503.47 161.394,47.2441 \n",
       "  \"/>\n",
       "<polyline clip-path=\"url(#clip6101)\" style=\"stroke:#000000; stroke-width:4; stroke-opacity:1; fill:none\" points=\"\n",
       "  222.522,1503.47 222.522,1481.63 \n",
       "  \"/>\n",
       "<polyline clip-path=\"url(#clip6101)\" style=\"stroke:#000000; stroke-width:4; stroke-opacity:1; fill:none\" points=\"\n",
       "  731.925,1503.47 731.925,1481.63 \n",
       "  \"/>\n",
       "<polyline clip-path=\"url(#clip6101)\" style=\"stroke:#000000; stroke-width:4; stroke-opacity:1; fill:none\" points=\"\n",
       "  1241.33,1503.47 1241.33,1481.63 \n",
       "  \"/>\n",
       "<polyline clip-path=\"url(#clip6101)\" style=\"stroke:#000000; stroke-width:4; stroke-opacity:1; fill:none\" points=\"\n",
       "  1750.73,1503.47 1750.73,1481.63 \n",
       "  \"/>\n",
       "<polyline clip-path=\"url(#clip6101)\" style=\"stroke:#000000; stroke-width:4; stroke-opacity:1; fill:none\" points=\"\n",
       "  2260.13,1503.47 2260.13,1481.63 \n",
       "  \"/>\n",
       "<polyline clip-path=\"url(#clip6101)\" style=\"stroke:#000000; stroke-width:4; stroke-opacity:1; fill:none\" points=\"\n",
       "  161.394,1462.26 193.792,1462.26 \n",
       "  \"/>\n",
       "<polyline clip-path=\"url(#clip6101)\" style=\"stroke:#000000; stroke-width:4; stroke-opacity:1; fill:none\" points=\"\n",
       "  161.394,1017.75 193.792,1017.75 \n",
       "  \"/>\n",
       "<polyline clip-path=\"url(#clip6101)\" style=\"stroke:#000000; stroke-width:4; stroke-opacity:1; fill:none\" points=\"\n",
       "  161.394,573.232 193.792,573.232 \n",
       "  \"/>\n",
       "<polyline clip-path=\"url(#clip6101)\" style=\"stroke:#000000; stroke-width:4; stroke-opacity:1; fill:none\" points=\"\n",
       "  161.394,128.718 193.792,128.718 \n",
       "  \"/>\n",
       "<g clip-path=\"url(#clip6101)\">\n",
       "<text style=\"fill:#000000; fill-opacity:1; font-family:Arial,Helvetica Neue,Helvetica,sans-serif; font-size:48px; text-anchor:start;\" transform=\"rotate(0, 151.724, 1578.48)\" x=\"151.724\" y=\"1578.48\">10</text>\n",
       "</g>\n",
       "<g clip-path=\"url(#clip6101)\">\n",
       "<text style=\"fill:#000000; fill-opacity:1; font-family:Arial,Helvetica Neue,Helvetica,sans-serif; font-size:38px; text-anchor:start;\" transform=\"rotate(0, 205.248, 1551.07)\" x=\"205.248\" y=\"1551.07\">-</text>\n",
       "</g>\n",
       "<g clip-path=\"url(#clip6101)\">\n",
       "<text style=\"fill:#000000; fill-opacity:1; font-family:Arial,Helvetica Neue,Helvetica,sans-serif; font-size:38px; text-anchor:start;\" transform=\"rotate(0, 228.088, 1551.07)\" x=\"228.088\" y=\"1551.07\">2.0 </text>\n",
       "</g>\n",
       "<g clip-path=\"url(#clip6101)\">\n",
       "<text style=\"fill:#000000; fill-opacity:1; font-family:Arial,Helvetica Neue,Helvetica,sans-serif; font-size:48px; text-anchor:start;\" transform=\"rotate(0, 661.126, 1578.48)\" x=\"661.126\" y=\"1578.48\">10</text>\n",
       "</g>\n",
       "<g clip-path=\"url(#clip6101)\">\n",
       "<text style=\"fill:#000000; fill-opacity:1; font-family:Arial,Helvetica Neue,Helvetica,sans-serif; font-size:38px; text-anchor:start;\" transform=\"rotate(0, 714.651, 1551.07)\" x=\"714.651\" y=\"1551.07\">-</text>\n",
       "</g>\n",
       "<g clip-path=\"url(#clip6101)\">\n",
       "<text style=\"fill:#000000; fill-opacity:1; font-family:Arial,Helvetica Neue,Helvetica,sans-serif; font-size:38px; text-anchor:start;\" transform=\"rotate(0, 737.49, 1551.07)\" x=\"737.49\" y=\"1551.07\">1.5 </text>\n",
       "</g>\n",
       "<g clip-path=\"url(#clip6101)\">\n",
       "<text style=\"fill:#000000; fill-opacity:1; font-family:Arial,Helvetica Neue,Helvetica,sans-serif; font-size:48px; text-anchor:start;\" transform=\"rotate(0, 1170.53, 1578.48)\" x=\"1170.53\" y=\"1578.48\">10</text>\n",
       "</g>\n",
       "<g clip-path=\"url(#clip6101)\">\n",
       "<text style=\"fill:#000000; fill-opacity:1; font-family:Arial,Helvetica Neue,Helvetica,sans-serif; font-size:38px; text-anchor:start;\" transform=\"rotate(0, 1224.05, 1551.07)\" x=\"1224.05\" y=\"1551.07\">-</text>\n",
       "</g>\n",
       "<g clip-path=\"url(#clip6101)\">\n",
       "<text style=\"fill:#000000; fill-opacity:1; font-family:Arial,Helvetica Neue,Helvetica,sans-serif; font-size:38px; text-anchor:start;\" transform=\"rotate(0, 1246.89, 1551.07)\" x=\"1246.89\" y=\"1551.07\">1.0 </text>\n",
       "</g>\n",
       "<g clip-path=\"url(#clip6101)\">\n",
       "<text style=\"fill:#000000; fill-opacity:1; font-family:Arial,Helvetica Neue,Helvetica,sans-serif; font-size:48px; text-anchor:start;\" transform=\"rotate(0, 1679.93, 1578.48)\" x=\"1679.93\" y=\"1578.48\">10</text>\n",
       "</g>\n",
       "<g clip-path=\"url(#clip6101)\">\n",
       "<text style=\"fill:#000000; fill-opacity:1; font-family:Arial,Helvetica Neue,Helvetica,sans-serif; font-size:38px; text-anchor:start;\" transform=\"rotate(0, 1733.46, 1551.07)\" x=\"1733.46\" y=\"1551.07\">-</text>\n",
       "</g>\n",
       "<g clip-path=\"url(#clip6101)\">\n",
       "<text style=\"fill:#000000; fill-opacity:1; font-family:Arial,Helvetica Neue,Helvetica,sans-serif; font-size:38px; text-anchor:start;\" transform=\"rotate(0, 1756.29, 1551.07)\" x=\"1756.29\" y=\"1551.07\">0.5 </text>\n",
       "</g>\n",
       "<g clip-path=\"url(#clip6101)\">\n",
       "<text style=\"fill:#000000; fill-opacity:1; font-family:Arial,Helvetica Neue,Helvetica,sans-serif; font-size:48px; text-anchor:start;\" transform=\"rotate(0, 2200.75, 1578.48)\" x=\"2200.75\" y=\"1578.48\">10</text>\n",
       "</g>\n",
       "<g clip-path=\"url(#clip6101)\">\n",
       "<text style=\"fill:#000000; fill-opacity:1; font-family:Arial,Helvetica Neue,Helvetica,sans-serif; font-size:38px; text-anchor:start;\" transform=\"rotate(0, 2254.28, 1551.07)\" x=\"2254.28\" y=\"1551.07\">0.0 </text>\n",
       "</g>\n",
       "<g clip-path=\"url(#clip6101)\">\n",
       "<text style=\"fill:#000000; fill-opacity:1; font-family:Arial,Helvetica Neue,Helvetica,sans-serif; font-size:48px; text-anchor:end;\" transform=\"rotate(0, 137.394, 1479.76)\" x=\"137.394\" y=\"1479.76\">0.0</text>\n",
       "</g>\n",
       "<g clip-path=\"url(#clip6101)\">\n",
       "<text style=\"fill:#000000; fill-opacity:1; font-family:Arial,Helvetica Neue,Helvetica,sans-serif; font-size:48px; text-anchor:end;\" transform=\"rotate(0, 137.394, 1035.25)\" x=\"137.394\" y=\"1035.25\">0.5</text>\n",
       "</g>\n",
       "<g clip-path=\"url(#clip6101)\">\n",
       "<text style=\"fill:#000000; fill-opacity:1; font-family:Arial,Helvetica Neue,Helvetica,sans-serif; font-size:48px; text-anchor:end;\" transform=\"rotate(0, 137.394, 590.732)\" x=\"137.394\" y=\"590.732\">1.0</text>\n",
       "</g>\n",
       "<g clip-path=\"url(#clip6101)\">\n",
       "<text style=\"fill:#000000; fill-opacity:1; font-family:Arial,Helvetica Neue,Helvetica,sans-serif; font-size:48px; text-anchor:end;\" transform=\"rotate(0, 137.394, 146.218)\" x=\"137.394\" y=\"146.218\">1.5</text>\n",
       "</g>\n",
       "<polyline clip-path=\"url(#clip6103)\" style=\"stroke:#009af9; stroke-width:4; stroke-opacity:1; fill:none\" points=\"\n",
       "  2260.13,955.95 2239.55,919.064 2218.97,880.976 2198.39,841.926 2177.8,802.205 2157.22,762.155 2136.64,722.166 2116.06,682.675 2095.48,644.153 2074.89,607.097 \n",
       "  2054.31,572.018 2033.73,539.423 2013.15,509.795 1992.57,483.575 1971.98,461.145 1951.4,442.802 1930.82,428.749 1910.24,419.079 1889.66,413.765 1869.08,412.663 \n",
       "  1848.49,415.512 1827.91,421.941 1807.33,431.486 1786.75,443.604 1766.17,457.696 1745.58,473.125 1725,489.233 1704.42,505.367 1683.84,520.888 1663.26,535.185 \n",
       "  1642.67,547.688 1622.09,557.872 1601.51,565.264 1580.93,569.446 1560.35,570.056 1539.76,566.796 1519.18,559.433 1498.6,547.808 1478.02,531.84 1457.44,511.541 \n",
       "  1436.86,487.024 1416.27,458.518 1395.69,426.385 1375.11,391.13 1354.53,353.414 1333.95,314.068 1313.36,274.089 1292.78,234.64 1272.2,197.036 1251.62,162.711 \n",
       "  1231.04,133.184 1210.45,109.992 1189.87,94.6293 1169.29,88.4582 1148.71,92.6273 1128.13,107.986 1107.54,135.009 1086.96,173.747 1066.38,223.791 1045.8,284.282 \n",
       "  1025.22,353.948 1004.63,431.163 984.053,514.049 963.471,600.574 942.889,688.668 922.307,776.332 901.725,861.729 881.143,943.263 860.562,1019.63 839.98,1089.84 \n",
       "  819.398,1153.25 798.816,1209.5 778.234,1258.54 757.652,1300.54 737.07,1335.89 716.488,1365.11 695.906,1388.83 675.324,1407.74 654.742,1422.51 634.161,1433.84 \n",
       "  613.579,1442.34 592.997,1448.59 572.415,1453.08 551.833,1456.24 531.251,1458.4 510.669,1459.85 490.087,1460.8 469.505,1461.39 448.923,1461.76 428.341,1461.98 \n",
       "  407.76,1462.11 387.178,1462.18 366.596,1462.22 346.014,1462.24 325.432,1462.25 304.85,1462.26 284.268,1462.26 263.686,1462.26 243.104,1462.26 222.522,1462.26 \n",
       "  \n",
       "  \"/>\n",
       "<polygon clip-path=\"url(#clip6101)\" points=\"\n",
       "1958.43,251.724 2249.26,251.724 2249.26,130.764 1958.43,130.764 \n",
       "  \" fill=\"#ffffff\" fill-rule=\"evenodd\" fill-opacity=\"1\"/>\n",
       "<polyline clip-path=\"url(#clip6101)\" style=\"stroke:#000000; stroke-width:4; stroke-opacity:1; fill:none\" points=\"\n",
       "  1958.43,251.724 2249.26,251.724 2249.26,130.764 1958.43,130.764 1958.43,251.724 \n",
       "  \"/>\n",
       "<polyline clip-path=\"url(#clip6101)\" style=\"stroke:#009af9; stroke-width:4; stroke-opacity:1; fill:none\" points=\"\n",
       "  1982.43,191.244 2126.43,191.244 \n",
       "  \"/>\n",
       "<g clip-path=\"url(#clip6101)\">\n",
       "<text style=\"fill:#000000; fill-opacity:1; font-family:Arial,Helvetica Neue,Helvetica,sans-serif; font-size:48px; text-anchor:start;\" transform=\"rotate(0, 2150.43, 208.744)\" x=\"2150.43\" y=\"208.744\">y1</text>\n",
       "</g>\n",
       "</svg>\n"
      ]
     },
     "execution_count": 15,
     "metadata": {},
     "output_type": "execute_result"
    }
   ],
   "source": [
    "using Plots; gr()\n",
    "βs = exp.(log(10) * collect(range(0.0, stop = 2.0, length = 100)))\n",
    "plot(1 ./ βs, @. real(Cv(βs)); xscale = :log10)"
   ]
  },
  {
   "cell_type": "markdown",
   "metadata": {},
   "source": [
    "The difference from the original paper comes from the difference in the boundary conditions.\n",
    "\n",
    "**Exercise2**: try to do the same approximation in Kitaev model QMC, and check whether it is efficient or not.\n",
    "\n",
    "## Thermal pure quantum (TPQ) state\n",
    "\n",
    "If you wish to plot the heat capacity for a large system, it is recommended to use TPQ states instead of the exact diagonalization. Currently, the easiest way to use TPQ states is to install HPhi: https://github.com/issp-center-dev/HPhi.\n",
    "\n",
    "However, I will show a simple implementation of the calculation of TPQ states. The calculation of TPQ states is very much realated to exact diagonalization because they are both using Krylov subspace methods and TPQ states are calculated by almost the same computational cost as that for the ground state. Both calculations use the sparsity of the Hamiltonian intensively."
   ]
  },
  {
   "cell_type": "code",
   "execution_count": 18,
   "metadata": {},
   "outputs": [
    {
     "data": {
      "text/plain": [
       "3.0"
      ]
     },
     "execution_count": 18,
     "metadata": {},
     "output_type": "execute_result"
    }
   ],
   "source": [
    "const l = 3.0"
   ]
  },
  {
   "cell_type": "markdown",
   "metadata": {},
   "source": [
    "$l$ is an arbitrary number which has to be greater than the largest eigenvalue of H. It is enought to use Z2 random values for the initial random state."
   ]
  },
  {
   "cell_type": "code",
   "execution_count": 19,
   "metadata": {},
   "outputs": [
    {
     "data": {
      "text/plain": [
       "1.0"
      ]
     },
     "execution_count": 19,
     "metadata": {},
     "output_type": "execute_result"
    }
   ],
   "source": [
    "D = 1 << N\n",
    "Φ = rand(Complex{Float64}[1.0, -1.0], D)　/ sqrt(D)\n",
    "norm(Φ)"
   ]
  },
  {
   "cell_type": "code",
   "execution_count": 28,
   "metadata": {},
   "outputs": [
    {
     "data": {
      "text/plain": [
       "1000-element Array{Array{Complex{Float64},1},1}:\n",
       " [0.0808004+0.0im, 1.07567+0.0im]\n",
       " [0.15708+0.0im, 1.06287+0.0im]  \n",
       " [0.229314+0.0im, 1.04447+0.0im] \n",
       " [0.297953+0.0im, 1.02102+0.0im] \n",
       " [0.363423+0.0im, 0.993145+0.0im]\n",
       " [0.426116+0.0im, 0.961508+0.0im]\n",
       " [0.486394+0.0im, 0.926789+0.0im]\n",
       " [0.544583+0.0im, 0.889661+0.0im]\n",
       " [0.60098+0.0im, 0.850767+0.0im] \n",
       " [0.655848+0.0im, 0.810709+0.0im]\n",
       " [0.709419+0.0im, 0.770033+0.0im]\n",
       " [0.7619+0.0im, 0.72923+0.0im]   \n",
       " [0.813471+0.0im, 0.688724+0.0im]\n",
       " ⋮                               \n",
       " [49.45+0.0im, 5.5331e-9+0.0im]  \n",
       " [49.5+0.0im, 5.43261e-9+0.0im]  \n",
       " [49.55+0.0im, 5.33395e-9+0.0im] \n",
       " [49.6+0.0im, 5.23707e-9+0.0im]  \n",
       " [49.65+0.0im, 5.14196e-9+0.0im] \n",
       " [49.7+0.0im, 5.04858e-9+0.0im]  \n",
       " [49.75+0.0im, 4.9569e-9+0.0im]  \n",
       " [49.8+0.0im, 4.86688e-9+0.0im]  \n",
       " [49.85+0.0im, 4.77849e-9+0.0im] \n",
       " [49.9+0.0im, 4.69171e-9+0.0im]  \n",
       " [49.95+0.0im, 4.60651e-9+0.0im] \n",
       " [50.0+0.0im, 4.52286e-9+0.0im]  "
      ]
     },
     "execution_count": 28,
     "metadata": {},
     "output_type": "execute_result"
    }
   ],
   "source": [
    "using ResumableFunctions\n",
    "using IterTools\n",
    "using Statistics\n",
    "braket(bra, ket) = bra' * ket\n",
    "@resumable function TPQ(H, ℓ::Float64, N, D)\n",
    "    Nstep = 1000\n",
    "    Φ = rand(Complex{Float64}[1.0, -1.0], D)　/ sqrt(D)\n",
    "    for k in 1 : Nstep\n",
    "        Φtemp = (ℓ * I - H / N) * Φ\n",
    "        Φ = Φtemp / norm(Φtemp)\n",
    "        E = braket(Φ, H * Φ)\n",
    "        β = 2 * (k / N) / (ℓ - E)\n",
    "        HΦ = H * Φ\n",
    "        E² = braket(HΦ, HΦ)\n",
    "        @yield [β, E² - E * E]\n",
    "    end\n",
    "end\n",
    "trial() = collect(TPQ(H, l, N, D))\n",
    "mean(repeatedly(trial, 10)) # This is actually a very bad code"
   ]
  },
  {
   "cell_type": "code",
   "execution_count": null,
   "metadata": {},
   "outputs": [],
   "source": []
  }
 ],
 "metadata": {
  "kernelspec": {
   "display_name": "Julia 1.0.2",
   "language": "julia",
   "name": "julia-1.0"
  },
  "language_info": {
   "file_extension": ".jl",
   "mimetype": "application/julia",
   "name": "julia",
   "version": "1.0.2"
  }
 },
 "nbformat": 4,
 "nbformat_minor": 2
}
